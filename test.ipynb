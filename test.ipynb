{
 "cells": [
  {
   "cell_type": "code",
   "execution_count": 3,
   "metadata": {},
   "outputs": [
    {
     "name": "stdout",
     "output_type": "stream",
     "text": [
      "データの形状: (40, 32, 8320)\n",
      "\n",
      "試行 1 の最初の 5 時間点のデータ:\n",
      "              t_0           t_1           t_2           t_3           t_4\n",
      "Fp1 -1.169492e-06 -1.863196e-06 -2.929556e-06 -2.911041e-06  7.912813e-07\n",
      "AF3 -3.627696e-06 -5.265707e-06 -6.701122e-06 -5.962562e-06 -1.001838e-06\n",
      "F3   2.091462e-06 -1.822241e-07 -4.289611e-06 -9.407081e-06 -6.004869e-06\n",
      "F7  -2.642589e-06 -4.936293e-06 -4.880778e-06 -2.956288e-06  1.170609e-06\n",
      "FC5 -9.658379e-07 -3.784200e-06 -2.889590e-06  1.537992e-07  5.037112e-06\n",
      "FC1  1.100848e-06 -1.435710e-06 -4.259638e-06 -6.869233e-06 -4.146346e-06\n",
      "C3  -2.738771e-06 -8.651914e-06 -1.436300e-06 -5.050897e-06 -7.316075e-06\n",
      "T7  -1.689603e-06 -3.493711e-06 -2.330241e-06 -1.694735e-06  1.309247e-06\n",
      "CP5  5.504321e-06  5.120450e-06  5.581522e-06  7.587443e-06  8.731221e-06\n",
      "CP1  5.866101e-07 -9.210702e-07  1.304989e-07 -5.786795e-07 -9.737485e-07\n",
      "P3  -2.484539e-06 -2.495260e-06 -2.732084e-06 -5.483274e-06 -8.355785e-06\n",
      "P7   2.466257e-06  2.906839e-06  4.184461e-06  4.564703e-06  3.837908e-06\n",
      "PO3  2.203551e-06  4.475033e-06  6.627341e-06  8.449215e-06  7.220242e-06\n",
      "O1   2.322846e-06  5.482326e-06  7.877544e-06  8.339816e-06  6.287265e-06\n",
      "Oz   3.415764e-06  5.815253e-06  5.671580e-06  3.596662e-06  1.521527e-07\n",
      "Pz   5.358012e-07  4.981289e-06  4.936564e-06  3.904540e-06  1.445746e-06\n",
      "Fp2  4.695048e-06  5.755423e-06  3.025234e-06  2.844368e-07 -4.556891e-06\n",
      "AF4  2.555027e-06  5.198876e-06  3.304117e-06  1.165304e-06 -1.992307e-06\n",
      "Fz   3.931527e-06  5.562915e-06  4.081913e-06  3.052745e-06  8.908228e-07\n",
      "F4  -2.476304e-07 -1.287114e-06 -7.043378e-06 -9.705857e-06 -1.163660e-05\n",
      "F8  -6.292224e-07  2.029336e-06  3.580468e-07 -1.534150e-06 -3.683656e-06\n",
      "FC6  3.106547e-06  6.183709e-06  5.644667e-06  7.337846e-06  7.671094e-06\n",
      "FC2 -1.573715e-06  1.233166e-06  1.720455e-06  2.889746e-06  3.623528e-06\n",
      "Cz  -1.209527e-07 -8.732435e-07 -2.808524e-06 -4.502995e-06 -8.349878e-06\n",
      "C4  -3.274352e-06 -1.271834e-06 -7.729175e-07 -1.233060e-07 -1.451581e-06\n",
      "T8  -2.073954e-06 -1.768803e-06 -1.601745e-06  3.376848e-06  5.785810e-06\n",
      "CP6 -3.070556e-06 -3.481387e-06 -1.043317e-06  1.005176e-06  8.322820e-08\n",
      "CP2 -3.306286e-06 -4.135888e-06 -1.173026e-06  4.294223e-07 -2.692684e-06\n",
      "P4  -2.282016e-06 -3.215589e-06 -1.987379e-06 -7.790825e-07 -4.420636e-07\n",
      "P8   8.682759e-07 -6.149681e-07 -1.190850e-06 -1.094878e-06 -8.693288e-07\n",
      "PO4 -4.056644e-06 -4.042549e-06 -2.433649e-06  4.731234e-07  4.621761e-06\n",
      "O2   5.699711e-07 -1.023955e-06 -6.402364e-07  2.043233e-06  4.814625e-06\n",
      "\n",
      "基本統計量:\n",
      "                t_0           t_1           t_2           t_3           t_4\n",
      "count  3.200000e+01  3.200000e+01  3.200000e+01  3.200000e+01  3.200000e+01\n",
      "mean   9.926167e-22  1.058791e-21  5.293956e-22  5.293956e-22  1.058791e-21\n",
      "std    2.653308e-06  4.051978e-06  3.995409e-06  4.763393e-06  5.070169e-06\n",
      "min   -4.056644e-06 -8.651914e-06 -7.043378e-06 -9.705857e-06 -1.163660e-05\n",
      "25%   -2.332647e-06 -3.282038e-06 -2.751194e-06 -2.922353e-06 -2.940427e-06\n",
      "50%   -1.842916e-07 -9.725127e-07 -1.108171e-06  2.191180e-07  1.176904e-07\n",
      "75%    2.233375e-06  4.601597e-06  3.498566e-06  3.133771e-06  4.033871e-06\n",
      "max    5.504321e-06  6.183709e-06  7.877544e-06  8.449215e-06  8.731221e-06\n"
     ]
    }
   ],
   "source": [
    "import numpy as np\n",
    "import pandas as pd\n",
    "\n",
    "# データの読み込み\n",
    "data = np.load('data/data_raw_preprocessed/s01.npy')\n",
    "\n",
    "# チャンネル名のリスト\n",
    "channels = [\n",
    "    'Fp1', 'AF3', 'F3', 'F7', 'FC5', 'FC1', 'C3', 'T7', \n",
    "    'CP5', 'CP1', 'P3', 'P7', 'PO3', 'O1', 'Oz', 'Pz',\n",
    "    'Fp2', 'AF4', 'Fz', 'F4', 'F8', 'FC6', 'FC2', 'Cz',\n",
    "    'C4', 'T8', 'CP6', 'CP2', 'P4', 'P8', 'PO4', 'O2'\n",
    "]\n",
    "\n",
    "# データの形状を表示\n",
    "print(f\"データの形状: {data.shape}\")  # (試行数, チャンネル数, 時間点)\n",
    "\n",
    "# 最初の試行のデータをDataFrameに変換\n",
    "trial_num = 0  # 表示したい試行番号（0-39）\n",
    "time_points = 5  # 表示したい時間点の数\n",
    "\n",
    "df = pd.DataFrame(\n",
    "    data[trial_num, :, :time_points],  # 最初の数時間点のみ表示\n",
    "    index=channels,\n",
    "    columns=[f't_{i}' for i in range(time_points)]\n",
    ")\n",
    "\n",
    "print(f\"\\n試行 {trial_num + 1} の最初の {time_points} 時間点のデータ:\")\n",
    "print(df)\n",
    "\n",
    "# 基本的な統計量も表示\n",
    "print(\"\\n基本統計量:\")\n",
    "print(df.describe())"
   ]
  },
  {
   "cell_type": "code",
   "execution_count": 1,
   "metadata": {},
   "outputs": [
    {
     "name": "stdout",
     "output_type": "stream",
     "text": [
      "元の形状: (2, 2, 3, 2)\n",
      "\n",
      "直接logを適用:\n",
      "[[[[0.         0.69314718]\n",
      "   [1.09861229 1.38629436]\n",
      "   [1.60943791 1.79175947]]\n",
      "\n",
      "  [[1.94591015 2.07944154]\n",
      "   [2.19722458 2.30258509]\n",
      "   [2.39789527 2.48490665]]]\n",
      "\n",
      "\n",
      " [[[2.56494936 2.63905733]\n",
      "   [2.7080502  2.77258872]\n",
      "   [2.83321334 2.89037176]]\n",
      "\n",
      "  [[2.94443898 2.99573227]\n",
      "   [3.04452244 3.09104245]\n",
      "   [3.13549422 3.17805383]]]]\n",
      "形状: (2, 2, 3, 2)\n",
      "\n",
      "フラット化してからlogを適用:\n",
      "[[[[0.         0.69314718]\n",
      "   [1.09861229 1.38629436]\n",
      "   [1.60943791 1.79175947]]\n",
      "\n",
      "  [[1.94591015 2.07944154]\n",
      "   [2.19722458 2.30258509]\n",
      "   [2.39789527 2.48490665]]]\n",
      "\n",
      "\n",
      " [[[2.56494936 2.63905733]\n",
      "   [2.7080502  2.77258872]\n",
      "   [2.83321334 2.89037176]]\n",
      "\n",
      "  [[2.94443898 2.99573227]\n",
      "   [3.04452244 3.09104245]\n",
      "   [3.13549422 3.17805383]]]]\n",
      "形状: (2, 2, 3, 2)\n",
      "\n",
      "両者は同じ結果か: True\n"
     ]
    }
   ],
   "source": [
    "import numpy as np\n",
    "\n",
    "# 2DCNNの特徴量を模擬したデータ (trials=2, bands=2, channels=3, views=2)\n",
    "features = np.array([\n",
    "    # Trial 1\n",
    "    [[[1, 2],     # channel 1\n",
    "      [3, 4],     # channel 2\n",
    "      [5, 6]],    # channel 3\n",
    "     \n",
    "     [[7, 8],     # channel 1\n",
    "      [9, 10],    # channel 2\n",
    "      [11, 12]]], # channel 3\n",
    "    \n",
    "    # Trial 2\n",
    "    [[[13, 14],   # channel 1\n",
    "      [15, 16],   # channel 2\n",
    "      [17, 18]],  # channel 3\n",
    "      \n",
    "     [[19, 20],   # channel 1\n",
    "      [21, 22],   # channel 2\n",
    "      [23, 24]]]  # channel 3\n",
    "])\n",
    "\n",
    "print(\"元の形状:\", features.shape)  # (2, 2, 3, 2)\n",
    "\n",
    "# 方法1: フラット化せずに直接log\n",
    "log1 = np.log(features)\n",
    "print(\"\\n直接logを適用:\")\n",
    "print(log1)\n",
    "print(\"形状:\", log1.shape)\n",
    "\n",
    "# 方法2: フラット化してからlog\n",
    "log2 = np.log(features.reshape(-1)).reshape(features.shape)\n",
    "print(\"\\nフラット化してからlogを適用:\")\n",
    "print(log2)\n",
    "print(\"形状:\", log2.shape)\n",
    "\n",
    "# 結果が同じかチェック\n",
    "print(\"\\n両者は同じ結果か:\", np.allclose(log1, log2))  # True\n",
    "\n",
    "# しかし、より複雑なデータ変換や、\n",
    "# 特に統計量を使う場合は結果が異なる可能性があります"
   ]
  },
  {
   "cell_type": "code",
   "execution_count": 1,
   "metadata": {},
   "outputs": [
    {
     "ename": "TypeError",
     "evalue": "plot_topomap() got an unexpected keyword argument 'title'",
     "output_type": "error",
     "traceback": [
      "\u001b[0;31m---------------------------------------------------------------------------\u001b[0m",
      "\u001b[0;31mTypeError\u001b[0m                                 Traceback (most recent call last)",
      "Cell \u001b[0;32mIn[1], line 83\u001b[0m\n\u001b[1;32m     80\u001b[0m eeg_data, labels, _ \u001b[38;5;241m=\u001b[39m load_deap_data_npy(file_path, preprocessing\u001b[38;5;241m=\u001b[39m\u001b[38;5;124m'\u001b[39m\u001b[38;5;124meeg\u001b[39m\u001b[38;5;124m'\u001b[39m)\n\u001b[1;32m     82\u001b[0m \u001b[38;5;66;03m# トポマップの可視化\u001b[39;00m\n\u001b[0;32m---> 83\u001b[0m visualize_bandpower_topomaps(eeg_data, labels)\n",
      "Cell \u001b[0;32mIn[1], line 68\u001b[0m, in \u001b[0;36mvisualize_bandpower_topomaps\u001b[0;34m(eeg_data, labels, fs, window_sec, relative)\u001b[0m\n\u001b[1;32m     65\u001b[0m         band_powers[ch_idx] \u001b[38;5;241m=\u001b[39m np\u001b[38;5;241m.\u001b[39mmean(trial_powers)\n\u001b[1;32m     67\u001b[0m     \u001b[38;5;66;03m# トポマップの描画\u001b[39;00m\n\u001b[0;32m---> 68\u001b[0m     mne\u001b[38;5;241m.\u001b[39mviz\u001b[38;5;241m.\u001b[39mplot_topomap(band_powers, info, show\u001b[38;5;241m=\u001b[39m\u001b[38;5;28;01mFalse\u001b[39;00m,\n\u001b[1;32m     69\u001b[0m                         title\u001b[38;5;241m=\u001b[39m\u001b[38;5;124mf\u001b[39m\u001b[38;5;124m'\u001b[39m\u001b[38;5;132;01m{\u001b[39;00mband_name\u001b[38;5;132;01m}\u001b[39;00m\u001b[38;5;124m - \u001b[39m\u001b[38;5;132;01m{\u001b[39;00mcond_name\u001b[38;5;132;01m}\u001b[39;00m\u001b[38;5;124m'\u001b[39m,\n\u001b[1;32m     70\u001b[0m                         cmap\u001b[38;5;241m=\u001b[39m\u001b[38;5;124m'\u001b[39m\u001b[38;5;124mRdBu_r\u001b[39m\u001b[38;5;124m'\u001b[39m)\n\u001b[1;32m     72\u001b[0m plt\u001b[38;5;241m.\u001b[39mtight_layout()\n\u001b[1;32m     73\u001b[0m plt\u001b[38;5;241m.\u001b[39msavefig(os\u001b[38;5;241m.\u001b[39mpath\u001b[38;5;241m.\u001b[39mjoin(save_dir, \u001b[38;5;124mf\u001b[39m\u001b[38;5;124m'\u001b[39m\u001b[38;5;132;01m{\u001b[39;00mband_name\u001b[38;5;132;01m}\u001b[39;00m\u001b[38;5;124m_topomap.png\u001b[39m\u001b[38;5;124m'\u001b[39m))\n",
      "\u001b[0;31mTypeError\u001b[0m: plot_topomap() got an unexpected keyword argument 'title'"
     ]
    },
    {
     "data": {
      "image/png": "[encoded data removed]",
      "text/plain": [
       "<Figure size 1500x1000 with 1 Axes>"
      ]
     },
     "metadata": {},
     "output_type": "display_data"
    }
   ],
   "source": [
    "import numpy as np\n",
    "import mne\n",
    "from mne.channels import make_standard_montage\n",
    "import matplotlib.pyplot as plt\n",
    "from feature_extraction import bandpower, FREQUENCY_BANDS\n",
    "from load_data import load_deap_data_npy\n",
    "import os\n",
    "\n",
    "def visualize_bandpower_topomaps(eeg_data, labels, fs=128, window_sec=10, relative=False):\n",
    "    \"\"\"\n",
    "    各トライアルのバンドパワーをトポマップで可視化\n",
    "    \n",
    "    Parameters:\n",
    "    -----------\n",
    "    eeg_data : numpy.ndarray\n",
    "        形状: (trials, channels, time)\n",
    "    labels : numpy.ndarray\n",
    "        形状: (trials, 2) - [valence, arousal]\n",
    "    \"\"\"\n",
    "    # チャンネル情報の設定\n",
    "    ch_names = ['Fp1', 'AF3', 'F3', 'F7', 'FC5', 'FC1', 'C3', 'T7', \n",
    "                'CP5', 'CP1', 'P3', 'P7', 'PO3', 'O1', 'Oz', 'Pz',\n",
    "                'Fp2', 'AF4', 'Fz', 'F4', 'F8', 'FC6', 'FC2', 'Cz',\n",
    "                'C4', 'T8', 'CP6', 'CP2', 'P4', 'P8', 'PO4', 'O2']\n",
    "    \n",
    "    # MNE info objectの作成\n",
    "    info = mne.create_info(ch_names=ch_names, sfreq=fs, ch_types='eeg')\n",
    "    montage = make_standard_montage('standard_1020')\n",
    "    info.set_montage(montage)\n",
    "    \n",
    "    # 感情状態の閾値（中央値）\n",
    "    valence_threshold = np.median(labels[:, 0])\n",
    "    arousal_threshold = np.median(labels[:, 1])\n",
    "    \n",
    "    # 感情状態による条件分類\n",
    "    high_valence = labels[:, 0] > valence_threshold\n",
    "    high_arousal = labels[:, 1] > arousal_threshold\n",
    "    \n",
    "    conditions = {\n",
    "        'High Valence': high_valence,\n",
    "        'Low Valence': ~high_valence,\n",
    "        'High Arousal': high_arousal,\n",
    "        'Low Arousal': ~high_arousal\n",
    "    }\n",
    "    \n",
    "    # 結果保存用ディレクトリ\n",
    "    save_dir = './results/topomaps'\n",
    "    os.makedirs(save_dir, exist_ok=True)\n",
    "    \n",
    "    # 各周波数帯域でのトポマップ作成\n",
    "    for band_name, band_range in FREQUENCY_BANDS.items():\n",
    "        plt.figure(figsize=(15, 10))\n",
    "        \n",
    "        for i, (cond_name, cond_mask) in enumerate(conditions.items(), 1):\n",
    "            plt.subplot(2, 2, i)\n",
    "            \n",
    "            # 条件ごとのバンドパワー計算\n",
    "            band_powers = np.zeros((len(ch_names),))\n",
    "            for ch_idx in range(len(ch_names)):\n",
    "                trial_powers = []\n",
    "                for trial in eeg_data[cond_mask]:\n",
    "                    power = bandpower(trial[ch_idx], fs, band_range, \n",
    "                                    window_sec=window_sec, relative=relative)\n",
    "                    trial_powers.append(power)\n",
    "                band_powers[ch_idx] = np.mean(trial_powers)\n",
    "            \n",
    "            # トポマップの描画\n",
    "            mne.viz.plot_topomap(band_powers, info, show=False,\n",
    "                                title=f'{band_name} - {cond_name}',\n",
    "                                cmap='RdBu_r')\n",
    "        \n",
    "        plt.tight_layout()\n",
    "        plt.savefig(os.path.join(save_dir, f'{band_name}_topomap.png'))\n",
    "        plt.close()\n",
    "\n",
    "# メイン処理\n",
    "if __name__ == \"__main__\":\n",
    "    # データの読み込み\n",
    "    file_path = \"data/data_raw_preprocessed/s01.npy\"\n",
    "    eeg_data, labels, _ = load_deap_data_npy(file_path, preprocessing='eeg')\n",
    "    \n",
    "    # トポマップの可視化\n",
    "    visualize_bandpower_topomaps(eeg_data, labels)"
   ]
  },
  {
   "cell_type": "code",
   "execution_count": 2,
   "metadata": {},
   "outputs": [],
   "source": [
    "import numpy as np\n",
    "import mne\n",
    "from mne.channels import make_standard_montage\n",
    "import matplotlib.pyplot as plt\n",
    "from feature_extraction import bandpower, FREQUENCY_BANDS\n",
    "from load_data import load_deap_data_npy\n",
    "import os\n",
    "import json\n",
    "import pandas as pd\n",
    "\n",
    "def analyze_bandpower_by_condition(eeg_data, labels, fs=128, window_sec=10, relative=False):\n",
    "    \"\"\"\n",
    "    各条件でのバンドパワーを計算し、データを保存\n",
    "    \n",
    "    Parameters:\n",
    "    -----------\n",
    "    eeg_data : numpy.ndarray\n",
    "        形状: (trials, channels, time)\n",
    "    labels : numpy.ndarray\n",
    "        形状: (trials, 2) - [valence, arousal]\n",
    "        \n",
    "    Returns:\n",
    "    --------\n",
    "    dict : 条件ごとのバンドパワーデータ\n",
    "    \"\"\"\n",
    "    # チャンネル情報\n",
    "    ch_names = ['Fp1', 'AF3', 'F3', 'F7', 'FC5', 'FC1', 'C3', 'T7', \n",
    "                'CP5', 'CP1', 'P3', 'P7', 'PO3', 'O1', 'Oz', 'Pz',\n",
    "                'Fp2', 'AF4', 'Fz', 'F4', 'F8', 'FC6', 'FC2', 'Cz',\n",
    "                'C4', 'T8', 'CP6', 'CP2', 'P4', 'P8', 'PO4', 'O2']\n",
    "    \n",
    "    # 感情状態の閾値（中央値）\n",
    "    valence_threshold = np.median(labels[:, 0])\n",
    "    arousal_threshold = np.median(labels[:, 1])\n",
    "    \n",
    "    # 条件マスクの作成\n",
    "    conditions = {\n",
    "        'High_Valence': labels[:, 0] > valence_threshold,\n",
    "        'Low_Valence': labels[:, 0] <= valence_threshold,\n",
    "        'High_Arousal': labels[:, 1] > arousal_threshold,\n",
    "        'Low_Arousal': labels[:, 1] <= arousal_threshold\n",
    "    }\n",
    "    \n",
    "    # 結果保存用の辞書\n",
    "    results = {\n",
    "        'metadata': {\n",
    "            'sampling_rate': fs,\n",
    "            'window_sec': window_sec,\n",
    "            'relative_power': relative,\n",
    "            'n_channels': len(ch_names),\n",
    "            'channel_names': ch_names,\n",
    "            'frequency_bands': FREQUENCY_BANDS\n",
    "        },\n",
    "        'power_values': {}\n",
    "    }\n",
    "    \n",
    "    # 各条件でのバンドパワー計算\n",
    "    for cond_name, cond_mask in conditions.items():\n",
    "        condition_data = {}\n",
    "        \n",
    "        for band_name, band_range in FREQUENCY_BANDS.items():\n",
    "            # (チャンネル数, トライアル数) の配列を作成\n",
    "            band_powers = np.zeros((len(ch_names), np.sum(cond_mask)))\n",
    "            \n",
    "            for ch_idx in range(len(ch_names)):\n",
    "                for trial_idx, trial in enumerate(eeg_data[cond_mask]):\n",
    "                    power = bandpower(trial[ch_idx], fs, band_range, \n",
    "                                    window_sec=window_sec, relative=relative)\n",
    "                    band_powers[ch_idx, trial_idx] = power\n",
    "            \n",
    "            # 統計値の計算\n",
    "            condition_data[band_name] = {\n",
    "                'mean': band_powers.mean(axis=1).tolist(),\n",
    "                'std': band_powers.std(axis=1).tolist(),\n",
    "                'raw_values': band_powers.tolist(),\n",
    "                'n_trials': band_powers.shape[1]\n",
    "            }\n",
    "        \n",
    "        results['power_values'][cond_name] = condition_data\n",
    "    \n",
    "    return results\n",
    "\n",
    "def save_results(results, save_dir='./results/bandpower_analysis'):\n",
    "    \"\"\"結果の保存\"\"\"\n",
    "    os.makedirs(save_dir, exist_ok=True)\n",
    "    \n",
    "    # JSON形式で保存\n",
    "    with open(os.path.join(save_dir, 'bandpower_results.json'), 'w') as f:\n",
    "        json.dump(results, f, indent=4)\n",
    "    \n",
    "    # CSVファイルとしても保存（平均値）\n",
    "    for band_name in FREQUENCY_BANDS.keys():\n",
    "        data = {\n",
    "            'Channel': results['metadata']['channel_names']\n",
    "        }\n",
    "        \n",
    "        for condition in results['power_values'].keys():\n",
    "            data[f'{condition}_mean'] = results['power_values'][condition][band_name]['mean']\n",
    "            data[f'{condition}_std'] = results['power_values'][condition][band_name]['std']\n",
    "        \n",
    "        df = pd.DataFrame(data)\n",
    "        df.to_csv(os.path.join(save_dir, f'{band_name}_summary.csv'), index=False)\n",
    "\n",
    "# メイン処理\n",
    "if __name__ == \"__main__\":\n",
    "    # データの読み込み\n",
    "    file_path = \"data/data_raw_preprocessed/s01.npy\"\n",
    "    eeg_data, labels, _ = load_deap_data_npy(file_path, preprocessing='eeg')\n",
    "    \n",
    "    # バンドパワー解析\n",
    "    results = analyze_bandpower_by_condition(eeg_data, labels)\n",
    "    \n",
    "    # 結果の保存\n",
    "    save_results(results)"
   ]
  },
  {
   "cell_type": "code",
   "execution_count": 8,
   "metadata": {},
   "outputs": [
    {
     "name": "stdout",
     "output_type": "stream",
     "text": [
      "Warning: No trials found for Valence V6\n"
     ]
    },
    {
     "name": "stderr",
     "output_type": "stream",
     "text": [
      "/var/folders/cq/ng3hfh1s6w9cv5482h3kc_t40000gn/T/ipykernel_43642/945326108.py:108: UserWarning: This figure includes Axes that are not compatible with tight_layout, so results might be incorrect.\n",
      "  plt.tight_layout()\n"
     ]
    },
    {
     "name": "stdout",
     "output_type": "stream",
     "text": [
      "Warning: No trials found for Arousal A1\n",
      "Warning: No trials found for Arousal A9\n"
     ]
    },
    {
     "name": "stderr",
     "output_type": "stream",
     "text": [
      "/var/folders/cq/ng3hfh1s6w9cv5482h3kc_t40000gn/T/ipykernel_43642/945326108.py:108: UserWarning: This figure includes Axes that are not compatible with tight_layout, so results might be incorrect.\n",
      "  plt.tight_layout()\n"
     ]
    },
    {
     "name": "stdout",
     "output_type": "stream",
     "text": [
      "Warning: No trials found for Valence V6\n"
     ]
    },
    {
     "name": "stderr",
     "output_type": "stream",
     "text": [
      "/var/folders/cq/ng3hfh1s6w9cv5482h3kc_t40000gn/T/ipykernel_43642/945326108.py:108: UserWarning: This figure includes Axes that are not compatible with tight_layout, so results might be incorrect.\n",
      "  plt.tight_layout()\n"
     ]
    },
    {
     "name": "stdout",
     "output_type": "stream",
     "text": [
      "Warning: No trials found for Arousal A1\n",
      "Warning: No trials found for Arousal A9\n"
     ]
    },
    {
     "name": "stderr",
     "output_type": "stream",
     "text": [
      "/var/folders/cq/ng3hfh1s6w9cv5482h3kc_t40000gn/T/ipykernel_43642/945326108.py:108: UserWarning: This figure includes Axes that are not compatible with tight_layout, so results might be incorrect.\n",
      "  plt.tight_layout()\n"
     ]
    },
    {
     "name": "stdout",
     "output_type": "stream",
     "text": [
      "Warning: No trials found for Valence V6\n"
     ]
    },
    {
     "name": "stderr",
     "output_type": "stream",
     "text": [
      "/var/folders/cq/ng3hfh1s6w9cv5482h3kc_t40000gn/T/ipykernel_43642/945326108.py:108: UserWarning: This figure includes Axes that are not compatible with tight_layout, so results might be incorrect.\n",
      "  plt.tight_layout()\n"
     ]
    },
    {
     "name": "stdout",
     "output_type": "stream",
     "text": [
      "Warning: No trials found for Arousal A1\n",
      "Warning: No trials found for Arousal A9\n"
     ]
    },
    {
     "name": "stderr",
     "output_type": "stream",
     "text": [
      "/var/folders/cq/ng3hfh1s6w9cv5482h3kc_t40000gn/T/ipykernel_43642/945326108.py:108: UserWarning: This figure includes Axes that are not compatible with tight_layout, so results might be incorrect.\n",
      "  plt.tight_layout()\n"
     ]
    },
    {
     "name": "stdout",
     "output_type": "stream",
     "text": [
      "Warning: No trials found for Valence V6\n"
     ]
    },
    {
     "name": "stderr",
     "output_type": "stream",
     "text": [
      "/var/folders/cq/ng3hfh1s6w9cv5482h3kc_t40000gn/T/ipykernel_43642/945326108.py:108: UserWarning: This figure includes Axes that are not compatible with tight_layout, so results might be incorrect.\n",
      "  plt.tight_layout()\n"
     ]
    },
    {
     "name": "stdout",
     "output_type": "stream",
     "text": [
      "Warning: No trials found for Arousal A1\n",
      "Warning: No trials found for Arousal A9\n"
     ]
    },
    {
     "name": "stderr",
     "output_type": "stream",
     "text": [
      "/var/folders/cq/ng3hfh1s6w9cv5482h3kc_t40000gn/T/ipykernel_43642/945326108.py:108: UserWarning: This figure includes Axes that are not compatible with tight_layout, so results might be incorrect.\n",
      "  plt.tight_layout()\n"
     ]
    },
    {
     "name": "stdout",
     "output_type": "stream",
     "text": [
      "Warning: No trials found for Valence V6\n"
     ]
    },
    {
     "name": "stderr",
     "output_type": "stream",
     "text": [
      "/var/folders/cq/ng3hfh1s6w9cv5482h3kc_t40000gn/T/ipykernel_43642/945326108.py:108: UserWarning: This figure includes Axes that are not compatible with tight_layout, so results might be incorrect.\n",
      "  plt.tight_layout()\n"
     ]
    },
    {
     "name": "stdout",
     "output_type": "stream",
     "text": [
      "Warning: No trials found for Arousal A1\n",
      "Warning: No trials found for Arousal A9\n"
     ]
    },
    {
     "name": "stderr",
     "output_type": "stream",
     "text": [
      "/var/folders/cq/ng3hfh1s6w9cv5482h3kc_t40000gn/T/ipykernel_43642/945326108.py:108: UserWarning: This figure includes Axes that are not compatible with tight_layout, so results might be incorrect.\n",
      "  plt.tight_layout()\n"
     ]
    },
    {
     "ename": "TypeError",
     "evalue": "Object of type int64 is not JSON serializable",
     "output_type": "error",
     "traceback": [
      "\u001b[0;31m---------------------------------------------------------------------------\u001b[0m",
      "\u001b[0;31mTypeError\u001b[0m                                 Traceback (most recent call last)",
      "Cell \u001b[0;32mIn[8], line 146\u001b[0m\n\u001b[1;32m    143\u001b[0m results \u001b[38;5;241m=\u001b[39m analyze_and_visualize_bandpower(eeg_data, labels)\n\u001b[1;32m    145\u001b[0m \u001b[38;5;66;03m# 結果の保存\u001b[39;00m\n\u001b[0;32m--> 146\u001b[0m save_results(results)\n",
      "Cell \u001b[0;32mIn[8], line 121\u001b[0m, in \u001b[0;36msave_results\u001b[0;34m(results, save_dir)\u001b[0m\n\u001b[1;32m    119\u001b[0m \u001b[38;5;66;03m# JSON形式で保存\u001b[39;00m\n\u001b[1;32m    120\u001b[0m \u001b[38;5;28;01mwith\u001b[39;00m \u001b[38;5;28mopen\u001b[39m(os\u001b[38;5;241m.\u001b[39mpath\u001b[38;5;241m.\u001b[39mjoin(save_dir, \u001b[38;5;124m'\u001b[39m\u001b[38;5;124mbandpower_results.json\u001b[39m\u001b[38;5;124m'\u001b[39m), \u001b[38;5;124m'\u001b[39m\u001b[38;5;124mw\u001b[39m\u001b[38;5;124m'\u001b[39m) \u001b[38;5;28;01mas\u001b[39;00m f:\n\u001b[0;32m--> 121\u001b[0m     json\u001b[38;5;241m.\u001b[39mdump(results, f, indent\u001b[38;5;241m=\u001b[39m\u001b[38;5;241m4\u001b[39m)\n\u001b[1;32m    123\u001b[0m \u001b[38;5;66;03m# CSVファイルとしても保存（平均値）\u001b[39;00m\n\u001b[1;32m    124\u001b[0m \u001b[38;5;28;01mfor\u001b[39;00m band_name \u001b[38;5;129;01min\u001b[39;00m FREQUENCY_BANDS\u001b[38;5;241m.\u001b[39mkeys():\n",
      "File \u001b[0;32m/opt/anaconda3/lib/python3.11/json/__init__.py:179\u001b[0m, in \u001b[0;36mdump\u001b[0;34m(obj, fp, skipkeys, ensure_ascii, check_circular, allow_nan, cls, indent, separators, default, sort_keys, **kw)\u001b[0m\n\u001b[1;32m    173\u001b[0m     iterable \u001b[38;5;241m=\u001b[39m \u001b[38;5;28mcls\u001b[39m(skipkeys\u001b[38;5;241m=\u001b[39mskipkeys, ensure_ascii\u001b[38;5;241m=\u001b[39mensure_ascii,\n\u001b[1;32m    174\u001b[0m         check_circular\u001b[38;5;241m=\u001b[39mcheck_circular, allow_nan\u001b[38;5;241m=\u001b[39mallow_nan, indent\u001b[38;5;241m=\u001b[39mindent,\n\u001b[1;32m    175\u001b[0m         separators\u001b[38;5;241m=\u001b[39mseparators,\n\u001b[1;32m    176\u001b[0m         default\u001b[38;5;241m=\u001b[39mdefault, sort_keys\u001b[38;5;241m=\u001b[39msort_keys, \u001b[38;5;241m*\u001b[39m\u001b[38;5;241m*\u001b[39mkw)\u001b[38;5;241m.\u001b[39miterencode(obj)\n\u001b[1;32m    177\u001b[0m \u001b[38;5;66;03m# could accelerate with writelines in some versions of Python, at\u001b[39;00m\n\u001b[1;32m    178\u001b[0m \u001b[38;5;66;03m# a debuggability cost\u001b[39;00m\n\u001b[0;32m--> 179\u001b[0m \u001b[38;5;28;01mfor\u001b[39;00m chunk \u001b[38;5;129;01min\u001b[39;00m iterable:\n\u001b[1;32m    180\u001b[0m     fp\u001b[38;5;241m.\u001b[39mwrite(chunk)\n",
      "File \u001b[0;32m/opt/anaconda3/lib/python3.11/json/encoder.py:432\u001b[0m, in \u001b[0;36m_make_iterencode.<locals>._iterencode\u001b[0;34m(o, _current_indent_level)\u001b[0m\n\u001b[1;32m    430\u001b[0m     \u001b[38;5;28;01myield from\u001b[39;00m _iterencode_list(o, _current_indent_level)\n\u001b[1;32m    431\u001b[0m \u001b[38;5;28;01melif\u001b[39;00m \u001b[38;5;28misinstance\u001b[39m(o, \u001b[38;5;28mdict\u001b[39m):\n\u001b[0;32m--> 432\u001b[0m     \u001b[38;5;28;01myield from\u001b[39;00m _iterencode_dict(o, _current_indent_level)\n\u001b[1;32m    433\u001b[0m \u001b[38;5;28;01melse\u001b[39;00m:\n\u001b[1;32m    434\u001b[0m     \u001b[38;5;28;01mif\u001b[39;00m markers \u001b[38;5;129;01mis\u001b[39;00m \u001b[38;5;129;01mnot\u001b[39;00m \u001b[38;5;28;01mNone\u001b[39;00m:\n",
      "File \u001b[0;32m/opt/anaconda3/lib/python3.11/json/encoder.py:406\u001b[0m, in \u001b[0;36m_make_iterencode.<locals>._iterencode_dict\u001b[0;34m(dct, _current_indent_level)\u001b[0m\n\u001b[1;32m    404\u001b[0m         \u001b[38;5;28;01melse\u001b[39;00m:\n\u001b[1;32m    405\u001b[0m             chunks \u001b[38;5;241m=\u001b[39m _iterencode(value, _current_indent_level)\n\u001b[0;32m--> 406\u001b[0m         \u001b[38;5;28;01myield from\u001b[39;00m chunks\n\u001b[1;32m    407\u001b[0m \u001b[38;5;28;01mif\u001b[39;00m newline_indent \u001b[38;5;129;01mis\u001b[39;00m \u001b[38;5;129;01mnot\u001b[39;00m \u001b[38;5;28;01mNone\u001b[39;00m:\n\u001b[1;32m    408\u001b[0m     _current_indent_level \u001b[38;5;241m-\u001b[39m\u001b[38;5;241m=\u001b[39m \u001b[38;5;241m1\u001b[39m\n",
      "File \u001b[0;32m/opt/anaconda3/lib/python3.11/json/encoder.py:406\u001b[0m, in \u001b[0;36m_make_iterencode.<locals>._iterencode_dict\u001b[0;34m(dct, _current_indent_level)\u001b[0m\n\u001b[1;32m    404\u001b[0m         \u001b[38;5;28;01melse\u001b[39;00m:\n\u001b[1;32m    405\u001b[0m             chunks \u001b[38;5;241m=\u001b[39m _iterencode(value, _current_indent_level)\n\u001b[0;32m--> 406\u001b[0m         \u001b[38;5;28;01myield from\u001b[39;00m chunks\n\u001b[1;32m    407\u001b[0m \u001b[38;5;28;01mif\u001b[39;00m newline_indent \u001b[38;5;129;01mis\u001b[39;00m \u001b[38;5;129;01mnot\u001b[39;00m \u001b[38;5;28;01mNone\u001b[39;00m:\n\u001b[1;32m    408\u001b[0m     _current_indent_level \u001b[38;5;241m-\u001b[39m\u001b[38;5;241m=\u001b[39m \u001b[38;5;241m1\u001b[39m\n",
      "    \u001b[0;31m[... skipping similar frames: _make_iterencode.<locals>._iterencode_dict at line 406 (2 times)]\u001b[0m\n",
      "File \u001b[0;32m/opt/anaconda3/lib/python3.11/json/encoder.py:406\u001b[0m, in \u001b[0;36m_make_iterencode.<locals>._iterencode_dict\u001b[0;34m(dct, _current_indent_level)\u001b[0m\n\u001b[1;32m    404\u001b[0m         \u001b[38;5;28;01melse\u001b[39;00m:\n\u001b[1;32m    405\u001b[0m             chunks \u001b[38;5;241m=\u001b[39m _iterencode(value, _current_indent_level)\n\u001b[0;32m--> 406\u001b[0m         \u001b[38;5;28;01myield from\u001b[39;00m chunks\n\u001b[1;32m    407\u001b[0m \u001b[38;5;28;01mif\u001b[39;00m newline_indent \u001b[38;5;129;01mis\u001b[39;00m \u001b[38;5;129;01mnot\u001b[39;00m \u001b[38;5;28;01mNone\u001b[39;00m:\n\u001b[1;32m    408\u001b[0m     _current_indent_level \u001b[38;5;241m-\u001b[39m\u001b[38;5;241m=\u001b[39m \u001b[38;5;241m1\u001b[39m\n",
      "File \u001b[0;32m/opt/anaconda3/lib/python3.11/json/encoder.py:439\u001b[0m, in \u001b[0;36m_make_iterencode.<locals>._iterencode\u001b[0;34m(o, _current_indent_level)\u001b[0m\n\u001b[1;32m    437\u001b[0m         \u001b[38;5;28;01mraise\u001b[39;00m \u001b[38;5;167;01mValueError\u001b[39;00m(\u001b[38;5;124m\"\u001b[39m\u001b[38;5;124mCircular reference detected\u001b[39m\u001b[38;5;124m\"\u001b[39m)\n\u001b[1;32m    438\u001b[0m     markers[markerid] \u001b[38;5;241m=\u001b[39m o\n\u001b[0;32m--> 439\u001b[0m o \u001b[38;5;241m=\u001b[39m _default(o)\n\u001b[1;32m    440\u001b[0m \u001b[38;5;28;01myield from\u001b[39;00m _iterencode(o, _current_indent_level)\n\u001b[1;32m    441\u001b[0m \u001b[38;5;28;01mif\u001b[39;00m markers \u001b[38;5;129;01mis\u001b[39;00m \u001b[38;5;129;01mnot\u001b[39;00m \u001b[38;5;28;01mNone\u001b[39;00m:\n",
      "File \u001b[0;32m/opt/anaconda3/lib/python3.11/json/encoder.py:180\u001b[0m, in \u001b[0;36mJSONEncoder.default\u001b[0;34m(self, o)\u001b[0m\n\u001b[1;32m    161\u001b[0m \u001b[38;5;28;01mdef\u001b[39;00m \u001b[38;5;21mdefault\u001b[39m(\u001b[38;5;28mself\u001b[39m, o):\n\u001b[1;32m    162\u001b[0m \u001b[38;5;250m    \u001b[39m\u001b[38;5;124;03m\"\"\"Implement this method in a subclass such that it returns\u001b[39;00m\n\u001b[1;32m    163\u001b[0m \u001b[38;5;124;03m    a serializable object for ``o``, or calls the base implementation\u001b[39;00m\n\u001b[1;32m    164\u001b[0m \u001b[38;5;124;03m    (to raise a ``TypeError``).\u001b[39;00m\n\u001b[0;32m   (...)\u001b[0m\n\u001b[1;32m    178\u001b[0m \n\u001b[1;32m    179\u001b[0m \u001b[38;5;124;03m    \"\"\"\u001b[39;00m\n\u001b[0;32m--> 180\u001b[0m     \u001b[38;5;28;01mraise\u001b[39;00m \u001b[38;5;167;01mTypeError\u001b[39;00m(\u001b[38;5;124mf\u001b[39m\u001b[38;5;124m'\u001b[39m\u001b[38;5;124mObject of type \u001b[39m\u001b[38;5;132;01m{\u001b[39;00mo\u001b[38;5;241m.\u001b[39m\u001b[38;5;18m__class__\u001b[39m\u001b[38;5;241m.\u001b[39m\u001b[38;5;18m__name__\u001b[39m\u001b[38;5;132;01m}\u001b[39;00m\u001b[38;5;124m \u001b[39m\u001b[38;5;124m'\u001b[39m\n\u001b[1;32m    181\u001b[0m                     \u001b[38;5;124mf\u001b[39m\u001b[38;5;124m'\u001b[39m\u001b[38;5;124mis not JSON serializable\u001b[39m\u001b[38;5;124m'\u001b[39m)\n",
      "\u001b[0;31mTypeError\u001b[0m: Object of type int64 is not JSON serializable"
     ]
    }
   ],
   "source": [
    "import numpy as np\n",
    "import mne\n",
    "from mne.channels import make_standard_montage\n",
    "import matplotlib.pyplot as plt\n",
    "from feature_extraction import bandpower, FREQUENCY_BANDS\n",
    "from load_data import load_deap_data_npy\n",
    "import os\n",
    "import json\n",
    "import pandas as pd\n",
    "\n",
    "def analyze_and_visualize_bandpower(eeg_data, labels, fs=128, window_sec=10, relative=False):\n",
    "    \"\"\"\n",
    "    バンドパワーの解析とトポマップの可視化（ValenceとArousalを別々に）\n",
    "    \"\"\"\n",
    "    # チャンネル情報\n",
    "    ch_names = ['Fp1', 'AF3', 'F3', 'F7', 'FC5', 'FC1', 'C3', 'T7', \n",
    "                'CP5', 'CP1', 'P3', 'P7', 'PO3', 'O1', 'Oz', 'Pz',\n",
    "                'Fp2', 'AF4', 'Fz', 'F4', 'F8', 'FC6', 'FC2', 'Cz',\n",
    "                'C4', 'T8', 'CP6', 'CP2', 'P4', 'P8', 'PO4', 'O2']\n",
    "    \n",
    "    info = mne.create_info(ch_names=ch_names, sfreq=fs, ch_types=['eeg'] * len(ch_names))\n",
    "    montage = make_standard_montage('standard_1020')\n",
    "    info.set_montage(montage, match_case=False)\n",
    "    \n",
    "    # 条件マスクの作成\n",
    "    conditions = {\n",
    "        'Valence': {f'V{i}': np.round(labels[:, 0]) == i for i in range(1, 10)},\n",
    "        'Arousal': {f'A{i}': np.round(labels[:, 1]) == i for i in range(1, 10)}\n",
    "    }\n",
    "    \n",
    "    # 結果保存用の設定\n",
    "    results = {\n",
    "        'metadata': {\n",
    "            'sampling_rate': fs,\n",
    "            'window_sec': window_sec,\n",
    "            'relative_power': relative,\n",
    "            'n_channels': len(ch_names),\n",
    "            'channel_names': ch_names,\n",
    "            'frequency_bands': FREQUENCY_BANDS\n",
    "        },\n",
    "        'power_values': {'Valence': {}, 'Arousal': {}}\n",
    "    }\n",
    "    \n",
    "    save_dir = './results/bandpower_analysis'\n",
    "    topomap_dir = os.path.join(save_dir, 'topomaps')\n",
    "    os.makedirs(topomap_dir, exist_ok=True)\n",
    "    \n",
    "    # 各周波数帯域でのトポマップ作成\n",
    "    for band_name, band_range in FREQUENCY_BANDS.items():\n",
    "        # ValenceとArousalそれぞれについて\n",
    "        for emotion_type in ['Valence', 'Arousal']:\n",
    "            fig, axes = plt.subplots(3, 3, figsize=(20, 20))\n",
    "            axes = axes.ravel()\n",
    "            \n",
    "            for i, (cond_name, cond_mask) in enumerate(conditions[emotion_type].items()):\n",
    "                # トライアル数の確認\n",
    "                n_trials = np.sum(cond_mask)\n",
    "                if n_trials == 0:\n",
    "                    print(f\"Warning: No trials found for {emotion_type} {cond_name}\")\n",
    "                    axes[i].text(0.5, 0.5, 'No Data', ha='center', va='center')\n",
    "                    continue\n",
    "                \n",
    "                # バンドパワーの計算\n",
    "                band_powers = np.zeros((len(ch_names), n_trials))\n",
    "                for ch_idx in range(len(ch_names)):\n",
    "                    for trial_idx, trial in enumerate(eeg_data[cond_mask]):\n",
    "                        power = bandpower(trial[ch_idx], fs, band_range, \n",
    "                                        window_sec=window_sec, relative=relative)\n",
    "                        band_powers[ch_idx, trial_idx] = power\n",
    "                \n",
    "                # 平均バンドパワーの計算\n",
    "                mean_powers = np.mean(band_powers, axis=1)\n",
    "                \n",
    "                # トポマップの描画\n",
    "                im, _ = mne.viz.plot_topomap(mean_powers, info, \n",
    "                                            axes=axes[i],\n",
    "                                            show=False,\n",
    "                                            size=2,\n",
    "                                            extrapolate='box',\n",
    "                                            sphere=(0.0, 0.0, 0.0, 0.09),\n",
    "                                            names=ch_names,\n",
    "                                            sensors=True)\n",
    "                \n",
    "                title = f'{cond_name}\\n(n={n_trials})'\n",
    "                axes[i].set_title(title)\n",
    "                \n",
    "                for text in axes[i].texts:\n",
    "                    text.set_fontsize(8)\n",
    "                \n",
    "                # 数値データの保存\n",
    "                if cond_name not in results['power_values'][emotion_type]:\n",
    "                    results['power_values'][emotion_type][cond_name] = {}\n",
    "                \n",
    "                results['power_values'][emotion_type][cond_name][band_name] = {\n",
    "                    'mean': mean_powers.tolist(),\n",
    "                    'std': np.std(band_powers, axis=1).tolist(),\n",
    "                    'raw_values': band_powers.tolist(),\n",
    "                    'n_trials': n_trials\n",
    "                }\n",
    "            \n",
    "            # カラーバーの追加\n",
    "            if im is not None:\n",
    "                cbar = plt.colorbar(im, ax=axes.tolist())\n",
    "                cbar.set_label('Power')\n",
    "            \n",
    "            fig.suptitle(f'{band_name} - {emotion_type} Levels', fontsize=16, y=1.02)\n",
    "            \n",
    "            plt.tight_layout()\n",
    "            plt.savefig(os.path.join(topomap_dir, f'{band_name}_{emotion_type.lower()}_topomap.png'), \n",
    "                       bbox_inches='tight', dpi=300)\n",
    "            plt.close()\n",
    "    \n",
    "    return results\n",
    "\n",
    "def save_results(results, save_dir='./results/bandpower_analysis'):\n",
    "    \"\"\"結果の保存\"\"\"\n",
    "    os.makedirs(save_dir, exist_ok=True)\n",
    "    \n",
    "    # JSON形式で保存\n",
    "    with open(os.path.join(save_dir, 'bandpower_results.json'), 'w') as f:\n",
    "        json.dump(results, f, indent=4)\n",
    "    \n",
    "    # CSVファイルとしても保存（平均値）\n",
    "    for band_name in FREQUENCY_BANDS.keys():\n",
    "        data = {\n",
    "            'Channel': results['metadata']['channel_names']\n",
    "        }\n",
    "        \n",
    "        for condition in results['power_values'].keys():\n",
    "            data[f'{condition}_mean'] = results['power_values'][condition][band_name]['mean']\n",
    "            data[f'{condition}_std'] = results['power_values'][condition][band_name]['std']\n",
    "        \n",
    "        df = pd.DataFrame(data)\n",
    "        df.to_csv(os.path.join(save_dir, f'{band_name}_summary.csv'), index=False)\n",
    "\n",
    "# メイン処理\n",
    "if __name__ == \"__main__\":\n",
    "    # データの読み込み\n",
    "    file_path = \"data/data_raw_preprocessed/s01.npy\"\n",
    "    eeg_data, labels, _ = load_deap_data_npy(file_path, preprocessing='eeg')\n",
    "    \n",
    "    # バンドパワー解析とトポマップの可視化\n",
    "    results = analyze_and_visualize_bandpower(eeg_data, labels)\n",
    "    \n",
    "    # 結果の保存\n",
    "    save_results(results)"
   ]
  },
  {
   "cell_type": "code",
   "execution_count": 12,
   "metadata": {},
   "outputs": [
    {
     "name": "stdout",
     "output_type": "stream",
     "text": [
      "\n",
      "Processing subject 1...\n",
      "Warning: No trials found for Valence V6\n"
     ]
    },
    {
     "name": "stderr",
     "output_type": "stream",
     "text": [
      "/var/folders/cq/ng3hfh1s6w9cv5482h3kc_t40000gn/T/ipykernel_43642/1965877786.py:102: UserWarning: This figure includes Axes that are not compatible with tight_layout, so results might be incorrect.\n",
      "  plt.tight_layout()\n"
     ]
    },
    {
     "name": "stdout",
     "output_type": "stream",
     "text": [
      "Warning: No trials found for Arousal A1\n",
      "Warning: No trials found for Arousal A9\n"
     ]
    },
    {
     "name": "stderr",
     "output_type": "stream",
     "text": [
      "/var/folders/cq/ng3hfh1s6w9cv5482h3kc_t40000gn/T/ipykernel_43642/1965877786.py:102: UserWarning: This figure includes Axes that are not compatible with tight_layout, so results might be incorrect.\n",
      "  plt.tight_layout()\n"
     ]
    },
    {
     "name": "stdout",
     "output_type": "stream",
     "text": [
      "Warning: No trials found for Valence V6\n"
     ]
    },
    {
     "name": "stderr",
     "output_type": "stream",
     "text": [
      "/var/folders/cq/ng3hfh1s6w9cv5482h3kc_t40000gn/T/ipykernel_43642/1965877786.py:102: UserWarning: This figure includes Axes that are not compatible with tight_layout, so results might be incorrect.\n",
      "  plt.tight_layout()\n"
     ]
    },
    {
     "name": "stdout",
     "output_type": "stream",
     "text": [
      "Warning: No trials found for Arousal A1\n",
      "Warning: No trials found for Arousal A9\n"
     ]
    },
    {
     "name": "stderr",
     "output_type": "stream",
     "text": [
      "/var/folders/cq/ng3hfh1s6w9cv5482h3kc_t40000gn/T/ipykernel_43642/1965877786.py:102: UserWarning: This figure includes Axes that are not compatible with tight_layout, so results might be incorrect.\n",
      "  plt.tight_layout()\n"
     ]
    },
    {
     "name": "stdout",
     "output_type": "stream",
     "text": [
      "Warning: No trials found for Valence V6\n"
     ]
    },
    {
     "name": "stderr",
     "output_type": "stream",
     "text": [
      "/var/folders/cq/ng3hfh1s6w9cv5482h3kc_t40000gn/T/ipykernel_43642/1965877786.py:102: UserWarning: This figure includes Axes that are not compatible with tight_layout, so results might be incorrect.\n",
      "  plt.tight_layout()\n"
     ]
    },
    {
     "name": "stdout",
     "output_type": "stream",
     "text": [
      "Warning: No trials found for Arousal A1\n",
      "Warning: No trials found for Arousal A9\n"
     ]
    },
    {
     "name": "stderr",
     "output_type": "stream",
     "text": [
      "/var/folders/cq/ng3hfh1s6w9cv5482h3kc_t40000gn/T/ipykernel_43642/1965877786.py:102: UserWarning: This figure includes Axes that are not compatible with tight_layout, so results might be incorrect.\n",
      "  plt.tight_layout()\n"
     ]
    },
    {
     "name": "stdout",
     "output_type": "stream",
     "text": [
      "Warning: No trials found for Valence V6\n"
     ]
    },
    {
     "name": "stderr",
     "output_type": "stream",
     "text": [
      "/var/folders/cq/ng3hfh1s6w9cv5482h3kc_t40000gn/T/ipykernel_43642/1965877786.py:102: UserWarning: This figure includes Axes that are not compatible with tight_layout, so results might be incorrect.\n",
      "  plt.tight_layout()\n"
     ]
    },
    {
     "name": "stdout",
     "output_type": "stream",
     "text": [
      "Warning: No trials found for Arousal A1\n",
      "Warning: No trials found for Arousal A9\n"
     ]
    },
    {
     "name": "stderr",
     "output_type": "stream",
     "text": [
      "/var/folders/cq/ng3hfh1s6w9cv5482h3kc_t40000gn/T/ipykernel_43642/1965877786.py:102: UserWarning: This figure includes Axes that are not compatible with tight_layout, so results might be incorrect.\n",
      "  plt.tight_layout()\n"
     ]
    },
    {
     "name": "stdout",
     "output_type": "stream",
     "text": [
      "Warning: No trials found for Valence V6\n"
     ]
    },
    {
     "name": "stderr",
     "output_type": "stream",
     "text": [
      "/var/folders/cq/ng3hfh1s6w9cv5482h3kc_t40000gn/T/ipykernel_43642/1965877786.py:102: UserWarning: This figure includes Axes that are not compatible with tight_layout, so results might be incorrect.\n",
      "  plt.tight_layout()\n"
     ]
    },
    {
     "name": "stdout",
     "output_type": "stream",
     "text": [
      "Warning: No trials found for Arousal A1\n",
      "Warning: No trials found for Arousal A9\n"
     ]
    },
    {
     "name": "stderr",
     "output_type": "stream",
     "text": [
      "/var/folders/cq/ng3hfh1s6w9cv5482h3kc_t40000gn/T/ipykernel_43642/1965877786.py:102: UserWarning: This figure includes Axes that are not compatible with tight_layout, so results might be incorrect.\n",
      "  plt.tight_layout()\n"
     ]
    },
    {
     "name": "stdout",
     "output_type": "stream",
     "text": [
      "\n",
      "Processing subject 2...\n"
     ]
    },
    {
     "name": "stderr",
     "output_type": "stream",
     "text": [
      "/var/folders/cq/ng3hfh1s6w9cv5482h3kc_t40000gn/T/ipykernel_43642/1965877786.py:102: UserWarning: This figure includes Axes that are not compatible with tight_layout, so results might be incorrect.\n",
      "  plt.tight_layout()\n"
     ]
    },
    {
     "name": "stdout",
     "output_type": "stream",
     "text": [
      "Warning: No trials found for Arousal A4\n"
     ]
    },
    {
     "name": "stderr",
     "output_type": "stream",
     "text": [
      "/var/folders/cq/ng3hfh1s6w9cv5482h3kc_t40000gn/T/ipykernel_43642/1965877786.py:102: UserWarning: This figure includes Axes that are not compatible with tight_layout, so results might be incorrect.\n",
      "  plt.tight_layout()\n",
      "/var/folders/cq/ng3hfh1s6w9cv5482h3kc_t40000gn/T/ipykernel_43642/1965877786.py:102: UserWarning: This figure includes Axes that are not compatible with tight_layout, so results might be incorrect.\n",
      "  plt.tight_layout()\n"
     ]
    },
    {
     "name": "stdout",
     "output_type": "stream",
     "text": [
      "Warning: No trials found for Arousal A4\n"
     ]
    },
    {
     "name": "stderr",
     "output_type": "stream",
     "text": [
      "/var/folders/cq/ng3hfh1s6w9cv5482h3kc_t40000gn/T/ipykernel_43642/1965877786.py:102: UserWarning: This figure includes Axes that are not compatible with tight_layout, so results might be incorrect.\n",
      "  plt.tight_layout()\n",
      "/var/folders/cq/ng3hfh1s6w9cv5482h3kc_t40000gn/T/ipykernel_43642/1965877786.py:102: UserWarning: This figure includes Axes that are not compatible with tight_layout, so results might be incorrect.\n",
      "  plt.tight_layout()\n"
     ]
    },
    {
     "name": "stdout",
     "output_type": "stream",
     "text": [
      "Warning: No trials found for Arousal A4\n"
     ]
    },
    {
     "name": "stderr",
     "output_type": "stream",
     "text": [
      "/var/folders/cq/ng3hfh1s6w9cv5482h3kc_t40000gn/T/ipykernel_43642/1965877786.py:102: UserWarning: This figure includes Axes that are not compatible with tight_layout, so results might be incorrect.\n",
      "  plt.tight_layout()\n",
      "/var/folders/cq/ng3hfh1s6w9cv5482h3kc_t40000gn/T/ipykernel_43642/1965877786.py:102: UserWarning: This figure includes Axes that are not compatible with tight_layout, so results might be incorrect.\n",
      "  plt.tight_layout()\n"
     ]
    },
    {
     "name": "stdout",
     "output_type": "stream",
     "text": [
      "Warning: No trials found for Arousal A4\n"
     ]
    },
    {
     "name": "stderr",
     "output_type": "stream",
     "text": [
      "/var/folders/cq/ng3hfh1s6w9cv5482h3kc_t40000gn/T/ipykernel_43642/1965877786.py:102: UserWarning: This figure includes Axes that are not compatible with tight_layout, so results might be incorrect.\n",
      "  plt.tight_layout()\n",
      "/var/folders/cq/ng3hfh1s6w9cv5482h3kc_t40000gn/T/ipykernel_43642/1965877786.py:102: UserWarning: This figure includes Axes that are not compatible with tight_layout, so results might be incorrect.\n",
      "  plt.tight_layout()\n"
     ]
    },
    {
     "name": "stdout",
     "output_type": "stream",
     "text": [
      "Warning: No trials found for Arousal A4\n"
     ]
    },
    {
     "name": "stderr",
     "output_type": "stream",
     "text": [
      "/var/folders/cq/ng3hfh1s6w9cv5482h3kc_t40000gn/T/ipykernel_43642/1965877786.py:102: UserWarning: This figure includes Axes that are not compatible with tight_layout, so results might be incorrect.\n",
      "  plt.tight_layout()\n"
     ]
    },
    {
     "ename": "ValueError",
     "evalue": "non-broadcastable output operand with shape (32,1) doesn't match the broadcast shape (32,6)",
     "output_type": "error",
     "traceback": [
      "\u001b[0;31m---------------------------------------------------------------------------\u001b[0m",
      "\u001b[0;31mValueError\u001b[0m                                Traceback (most recent call last)",
      "Cell \u001b[0;32mIn[12], line 180\u001b[0m\n\u001b[1;32m    178\u001b[0m                         \u001b[38;5;28;01melse\u001b[39;00m:\n\u001b[1;32m    179\u001b[0m                             accumulated_powers[emotion_type][cond_name][band_name][\u001b[38;5;124m'\u001b[39m\u001b[38;5;124msum\u001b[39m\u001b[38;5;124m'\u001b[39m] \u001b[38;5;241m+\u001b[39m\u001b[38;5;241m=\u001b[39m np\u001b[38;5;241m.\u001b[39marray(data[\u001b[38;5;124m'\u001b[39m\u001b[38;5;124mmean\u001b[39m\u001b[38;5;124m'\u001b[39m]) \u001b[38;5;241m*\u001b[39m n_trials\n\u001b[0;32m--> 180\u001b[0m                             accumulated_powers[emotion_type][cond_name][band_name][\u001b[38;5;124m'\u001b[39m\u001b[38;5;124msum_sq\u001b[39m\u001b[38;5;124m'\u001b[39m] \u001b[38;5;241m+\u001b[39m\u001b[38;5;241m=\u001b[39m np\u001b[38;5;241m.\u001b[39marray(data[\u001b[38;5;124m'\u001b[39m\u001b[38;5;124mraw_values\u001b[39m\u001b[38;5;124m'\u001b[39m])\u001b[38;5;241m*\u001b[39m\u001b[38;5;241m*\u001b[39m\u001b[38;5;241m2\u001b[39m\n\u001b[1;32m    182\u001b[0m \u001b[38;5;66;03m# 平均の計算\u001b[39;00m\n\u001b[1;32m    183\u001b[0m \u001b[38;5;28mprint\u001b[39m(\u001b[38;5;124m\"\u001b[39m\u001b[38;5;130;01m\\n\u001b[39;00m\u001b[38;5;124mCalculating averages...\u001b[39m\u001b[38;5;124m\"\u001b[39m)\n",
      "\u001b[0;31mValueError\u001b[0m: non-broadcastable output operand with shape (32,1) doesn't match the broadcast shape (32,6)"
     ]
    }
   ],
   "source": [
    "def analyze_and_visualize_bandpower(eeg_data, labels, fs=128, window_sec=10, relative=False, save_dir='./results/bandpower_analysis'):\n",
    "    \"\"\"\n",
    "    バンドパワーの解析とトポマップの可視化（ValenceとArousalを別々に）\n",
    "    \n",
    "    Parameters:\n",
    "    -----------\n",
    "    save_dir : str\n",
    "        結果を保存するディレクトリのパス\n",
    "    \"\"\"\n",
    "    # チャンネル情報\n",
    "    ch_names = ['Fp1', 'AF3', 'F3', 'F7', 'FC5', 'FC1', 'C3', 'T7', \n",
    "                'CP5', 'CP1', 'P3', 'P7', 'PO3', 'O1', 'Oz', 'Pz',\n",
    "                'Fp2', 'AF4', 'Fz', 'F4', 'F8', 'FC6', 'FC2', 'Cz',\n",
    "                'C4', 'T8', 'CP6', 'CP2', 'P4', 'P8', 'PO4', 'O2']\n",
    "    \n",
    "    info = mne.create_info(ch_names=ch_names, sfreq=fs, ch_types=['eeg'] * len(ch_names))\n",
    "    montage = make_standard_montage('standard_1020')\n",
    "    info.set_montage(montage, match_case=False)\n",
    "    \n",
    "    # 条件マスクの作成\n",
    "    conditions = {\n",
    "        'Valence': {f'V{i}': np.round(labels[:, 0]) == i for i in range(1, 10)},\n",
    "        'Arousal': {f'A{i}': np.round(labels[:, 1]) == i for i in range(1, 10)}\n",
    "    }\n",
    "    \n",
    "    # 結果保存用の設定\n",
    "    results = {\n",
    "        'metadata': {\n",
    "            'sampling_rate': fs,\n",
    "            'window_sec': window_sec,\n",
    "            'relative_power': relative,\n",
    "            'n_channels': len(ch_names),\n",
    "            'channel_names': ch_names,\n",
    "            'frequency_bands': FREQUENCY_BANDS\n",
    "        },\n",
    "        'power_values': {'Valence': {}, 'Arousal': {}}\n",
    "    }\n",
    "    \n",
    "    topomap_dir = os.path.join(save_dir, 'topomaps')\n",
    "    os.makedirs(topomap_dir, exist_ok=True)\n",
    "    \n",
    "    # 各周波数帯域でのトポマップ作成\n",
    "    for band_name, band_range in FREQUENCY_BANDS.items():\n",
    "        # ValenceとArousalそれぞれについて\n",
    "        for emotion_type in ['Valence', 'Arousal']:\n",
    "            fig, axes = plt.subplots(3, 3, figsize=(20, 20))\n",
    "            axes = axes.ravel()\n",
    "            \n",
    "            for i, (cond_name, cond_mask) in enumerate(conditions[emotion_type].items()):\n",
    "                # トライアル数の確認\n",
    "                n_trials = np.sum(cond_mask)\n",
    "                if n_trials == 0:\n",
    "                    print(f\"Warning: No trials found for {emotion_type} {cond_name}\")\n",
    "                    axes[i].text(0.5, 0.5, 'No Data', ha='center', va='center')\n",
    "                    continue\n",
    "                \n",
    "                # バンドパワーの計算\n",
    "                band_powers = np.zeros((len(ch_names), n_trials))\n",
    "                for ch_idx in range(len(ch_names)):\n",
    "                    for trial_idx, trial in enumerate(eeg_data[cond_mask]):\n",
    "                        power = bandpower(trial[ch_idx], fs, band_range, \n",
    "                                        window_sec=window_sec, relative=relative)\n",
    "                        band_powers[ch_idx, trial_idx] = power\n",
    "                \n",
    "                # 平均バンドパワーの計算\n",
    "                mean_powers = np.mean(band_powers, axis=1)\n",
    "                \n",
    "                # トポマップの描画\n",
    "                im, _ = mne.viz.plot_topomap(mean_powers, info, \n",
    "                                            axes=axes[i],\n",
    "                                            show=False,\n",
    "                                            size=2,\n",
    "                                            extrapolate='box',\n",
    "                                            sphere=(0.0, 0.0, 0.0, 0.09),\n",
    "                                            names=ch_names,\n",
    "                                            sensors=True)\n",
    "                \n",
    "                title = f'{cond_name}\\n(n={n_trials})'\n",
    "                axes[i].set_title(title)\n",
    "                \n",
    "                for text in axes[i].texts:\n",
    "                    text.set_fontsize(8)\n",
    "                \n",
    "                # 数値データの保存\n",
    "                if cond_name not in results['power_values'][emotion_type]:\n",
    "                    results['power_values'][emotion_type][cond_name] = {}\n",
    "                \n",
    "                results['power_values'][emotion_type][cond_name][band_name] = {\n",
    "                    'mean': mean_powers.tolist(),\n",
    "                    'std': np.std(band_powers, axis=1).tolist(),\n",
    "                    'raw_values': band_powers.tolist(),\n",
    "                    'n_trials': n_trials\n",
    "                }\n",
    "            \n",
    "            # カラーバーの追加\n",
    "            if im is not None:\n",
    "                cbar = plt.colorbar(im, ax=axes.tolist())\n",
    "                cbar.set_label('Power')\n",
    "            \n",
    "            fig.suptitle(f'{band_name} - {emotion_type} Levels', fontsize=16, y=1.02)\n",
    "            \n",
    "            plt.tight_layout()\n",
    "            plt.savefig(os.path.join(topomap_dir, f'{band_name}_{emotion_type.lower()}_topomap.png'), \n",
    "                       bbox_inches='tight', dpi=300)\n",
    "            plt.close()\n",
    "    \n",
    "    return results\n",
    "# メイン処理\n",
    "if __name__ == \"__main__\":\n",
    "    # データディレクトリの設定\n",
    "    data_dir = \"data/data_raw_preprocessed\"\n",
    "    n_subjects = 32\n",
    "    \n",
    "    # 全被験者の結果を保存するディレクトリ\n",
    "    base_save_dir = './results/bandpower_analysis'\n",
    "    os.makedirs(base_save_dir, exist_ok=True)\n",
    "    \n",
    "    # 全被験者のデータを処理\n",
    "    all_results = {\n",
    "        'individual': {},\n",
    "        'average': {\n",
    "            'Valence': {f'V{i}': {} for i in range(1, 10)},\n",
    "            'Arousal': {f'A{i}': {} for i in range(1, 10)}\n",
    "        }\n",
    "    }\n",
    "    \n",
    "    # 被験者間の平均用データ集計\n",
    "    subject_means = {\n",
    "        'Valence': {f'V{i}': {} for i in range(1, 10)},\n",
    "        'Arousal': {f'A{i}': {} for i in range(1, 10)}\n",
    "    }\n",
    "    \n",
    "    # 各被験者のデータを処理\n",
    "    for subject in range(1, n_subjects + 1):\n",
    "        print(f\"\\nProcessing subject {subject}...\")\n",
    "        \n",
    "        # データ読み込み\n",
    "        file_path = os.path.join(data_dir, f\"s{subject:02d}.npy\")\n",
    "        try:\n",
    "            eeg_data, labels, _ = load_deap_data_npy(file_path, preprocessing='eeg')\n",
    "        except Exception as e:\n",
    "            print(f\"Error loading data for subject {subject}: {e}\")\n",
    "            continue\n",
    "        \n",
    "        # 個別の分析実行\n",
    "        subject_save_dir = os.path.join(base_save_dir, f's{subject:02d}')\n",
    "        results = analyze_and_visualize_bandpower(\n",
    "            eeg_data=eeg_data,\n",
    "            labels=labels,\n",
    "            save_dir=subject_save_dir\n",
    "        )\n",
    "        \n",
    "        # 個別の結果を保存\n",
    "        all_results['individual'][f's{subject:02d}'] = results\n",
    "        \n",
    "        # 被験者間平均用データの集計\n",
    "        for emotion_type in ['Valence', 'Arousal']:\n",
    "            for cond_name in results['power_values'][emotion_type]:\n",
    "                for band_name in FREQUENCY_BANDS:\n",
    "                    if band_name in results['power_values'][emotion_type][cond_name]:\n",
    "                        data = results['power_values'][emotion_type][cond_name][band_name]\n",
    "                        if data['n_trials'] > 0:  # トライアルが存在する場合のみ\n",
    "                            if band_name not in subject_means[emotion_type][cond_name]:\n",
    "                                subject_means[emotion_type][cond_name][band_name] = []\n",
    "                            \n",
    "                            # 被験者ごとの平均を保存\n",
    "                            subject_means[emotion_type][cond_name][band_name].append(\n",
    "                                np.array(data['mean'])\n",
    "                            )\n",
    "    \n",
    "    # 被験者間の平均と標準偏差の計算\n",
    "    print(\"\\nCalculating cross-subject averages...\")\n",
    "    for emotion_type in ['Valence', 'Arousal']:\n",
    "        for cond_name in subject_means[emotion_type]:\n",
    "            for band_name in FREQUENCY_BANDS:\n",
    "                if band_name in subject_means[emotion_type][cond_name]:\n",
    "                    means = subject_means[emotion_type][cond_name][band_name]\n",
    "                    if means:  # データが存在する場合\n",
    "                        means_array = np.array(means)\n",
    "                        grand_mean = np.mean(means_array, axis=0)\n",
    "                        grand_std = np.std(means_array, axis=0)\n",
    "                        n_subjects_with_data = len(means)\n",
    "                        \n",
    "                        all_results['average'][emotion_type][cond_name][band_name] = {\n",
    "                            'mean': grand_mean.tolist(),\n",
    "                            'std': grand_std.tolist(),\n",
    "                            'n_subjects': n_subjects_with_data\n",
    "                        }\n",
    "    \n",
    "    # 結果の保存\n",
    "    print(\"\\nSaving results...\")\n",
    "    with open(os.path.join(base_save_dir, 'all_subjects_results.json'), 'w') as f:\n",
    "        json.dump(all_results, f, indent=4)\n",
    "    \n",
    "    # 平均のトポマップ作成\n",
    "    print(\"\\nCreating average topomaps...\")\n",
    "    visualize_average_topomaps(all_results['average'])\n",
    "    \n",
    "    print(\"Analysis complete!\")"
   ]
  },
  {
   "cell_type": "code",
   "execution_count": 16,
   "metadata": {},
   "outputs": [
    {
     "name": "stdout",
     "output_type": "stream",
     "text": [
      "\n",
      "Processing subject 1...\n",
      "Warning: No trials found for Valence V6\n"
     ]
    },
    {
     "name": "stderr",
     "output_type": "stream",
     "text": [
      "/var/folders/cq/ng3hfh1s6w9cv5482h3kc_t40000gn/T/ipykernel_43642/3693423365.py:120: UserWarning: This figure includes Axes that are not compatible with tight_layout, so results might be incorrect.\n",
      "  plt.tight_layout()\n"
     ]
    },
    {
     "name": "stdout",
     "output_type": "stream",
     "text": [
      "Warning: No trials found for Arousal A1\n",
      "Warning: No trials found for Arousal A9\n"
     ]
    },
    {
     "name": "stderr",
     "output_type": "stream",
     "text": [
      "/var/folders/cq/ng3hfh1s6w9cv5482h3kc_t40000gn/T/ipykernel_43642/3693423365.py:120: UserWarning: This figure includes Axes that are not compatible with tight_layout, so results might be incorrect.\n",
      "  plt.tight_layout()\n"
     ]
    },
    {
     "name": "stdout",
     "output_type": "stream",
     "text": [
      "Warning: No trials found for Valence V6\n"
     ]
    },
    {
     "name": "stderr",
     "output_type": "stream",
     "text": [
      "/var/folders/cq/ng3hfh1s6w9cv5482h3kc_t40000gn/T/ipykernel_43642/3693423365.py:120: UserWarning: This figure includes Axes that are not compatible with tight_layout, so results might be incorrect.\n",
      "  plt.tight_layout()\n"
     ]
    },
    {
     "name": "stdout",
     "output_type": "stream",
     "text": [
      "Warning: No trials found for Arousal A1\n",
      "Warning: No trials found for Arousal A9\n"
     ]
    },
    {
     "name": "stderr",
     "output_type": "stream",
     "text": [
      "/var/folders/cq/ng3hfh1s6w9cv5482h3kc_t40000gn/T/ipykernel_43642/3693423365.py:120: UserWarning: This figure includes Axes that are not compatible with tight_layout, so results might be incorrect.\n",
      "  plt.tight_layout()\n"
     ]
    },
    {
     "name": "stdout",
     "output_type": "stream",
     "text": [
      "Warning: No trials found for Valence V6\n"
     ]
    },
    {
     "name": "stderr",
     "output_type": "stream",
     "text": [
      "/var/folders/cq/ng3hfh1s6w9cv5482h3kc_t40000gn/T/ipykernel_43642/3693423365.py:120: UserWarning: This figure includes Axes that are not compatible with tight_layout, so results might be incorrect.\n",
      "  plt.tight_layout()\n"
     ]
    },
    {
     "name": "stdout",
     "output_type": "stream",
     "text": [
      "Warning: No trials found for Arousal A1\n",
      "Warning: No trials found for Arousal A9\n"
     ]
    },
    {
     "name": "stderr",
     "output_type": "stream",
     "text": [
      "/var/folders/cq/ng3hfh1s6w9cv5482h3kc_t40000gn/T/ipykernel_43642/3693423365.py:120: UserWarning: This figure includes Axes that are not compatible with tight_layout, so results might be incorrect.\n",
      "  plt.tight_layout()\n"
     ]
    },
    {
     "name": "stdout",
     "output_type": "stream",
     "text": [
      "Warning: No trials found for Valence V6\n"
     ]
    },
    {
     "name": "stderr",
     "output_type": "stream",
     "text": [
      "/var/folders/cq/ng3hfh1s6w9cv5482h3kc_t40000gn/T/ipykernel_43642/3693423365.py:120: UserWarning: This figure includes Axes that are not compatible with tight_layout, so results might be incorrect.\n",
      "  plt.tight_layout()\n"
     ]
    },
    {
     "name": "stdout",
     "output_type": "stream",
     "text": [
      "Warning: No trials found for Arousal A1\n",
      "Warning: No trials found for Arousal A9\n"
     ]
    },
    {
     "name": "stderr",
     "output_type": "stream",
     "text": [
      "/var/folders/cq/ng3hfh1s6w9cv5482h3kc_t40000gn/T/ipykernel_43642/3693423365.py:120: UserWarning: This figure includes Axes that are not compatible with tight_layout, so results might be incorrect.\n",
      "  plt.tight_layout()\n"
     ]
    },
    {
     "name": "stdout",
     "output_type": "stream",
     "text": [
      "Warning: No trials found for Valence V6\n"
     ]
    },
    {
     "name": "stderr",
     "output_type": "stream",
     "text": [
      "/var/folders/cq/ng3hfh1s6w9cv5482h3kc_t40000gn/T/ipykernel_43642/3693423365.py:120: UserWarning: This figure includes Axes that are not compatible with tight_layout, so results might be incorrect.\n",
      "  plt.tight_layout()\n"
     ]
    },
    {
     "name": "stdout",
     "output_type": "stream",
     "text": [
      "Warning: No trials found for Arousal A1\n",
      "Warning: No trials found for Arousal A9\n"
     ]
    },
    {
     "name": "stderr",
     "output_type": "stream",
     "text": [
      "/var/folders/cq/ng3hfh1s6w9cv5482h3kc_t40000gn/T/ipykernel_43642/3693423365.py:120: UserWarning: This figure includes Axes that are not compatible with tight_layout, so results might be incorrect.\n",
      "  plt.tight_layout()\n"
     ]
    },
    {
     "name": "stdout",
     "output_type": "stream",
     "text": [
      "\n",
      "Calculating cross-subject averages...\n",
      "\n",
      "Saving results...\n"
     ]
    },
    {
     "ename": "TypeError",
     "evalue": "'type' object is not iterable",
     "output_type": "error",
     "traceback": [
      "\u001b[0;31m---------------------------------------------------------------------------\u001b[0m",
      "\u001b[0;31mTypeError\u001b[0m                                 Traceback (most recent call last)",
      "Cell \u001b[0;32mIn[16], line 294\u001b[0m\n\u001b[1;32m    292\u001b[0m \u001b[38;5;66;03m# 結果の保存\u001b[39;00m\n\u001b[1;32m    293\u001b[0m \u001b[38;5;28mprint\u001b[39m(\u001b[38;5;124m\"\u001b[39m\u001b[38;5;130;01m\\n\u001b[39;00m\u001b[38;5;124mSaving results...\u001b[39m\u001b[38;5;124m\"\u001b[39m)\n\u001b[0;32m--> 294\u001b[0m serializable_results \u001b[38;5;241m=\u001b[39m convert_to_serializable(all_results)\n\u001b[1;32m    295\u001b[0m \u001b[38;5;28;01mwith\u001b[39;00m \u001b[38;5;28mopen\u001b[39m(os\u001b[38;5;241m.\u001b[39mpath\u001b[38;5;241m.\u001b[39mjoin(base_save_dir, \u001b[38;5;124m'\u001b[39m\u001b[38;5;124mall_subjects_results.json\u001b[39m\u001b[38;5;124m'\u001b[39m), \u001b[38;5;124m'\u001b[39m\u001b[38;5;124mw\u001b[39m\u001b[38;5;124m'\u001b[39m) \u001b[38;5;28;01mas\u001b[39;00m f:\n\u001b[1;32m    296\u001b[0m     json\u001b[38;5;241m.\u001b[39mdump(serializable_results, f, indent\u001b[38;5;241m=\u001b[39m\u001b[38;5;241m4\u001b[39m)\n",
      "Cell \u001b[0;32mIn[16], line 198\u001b[0m, in \u001b[0;36mconvert_to_serializable\u001b[0;34m(obj)\u001b[0m\n\u001b[1;32m    194\u001b[0m \u001b[38;5;250m\u001b[39m\u001b[38;5;124;03m\"\"\"\u001b[39;00m\n\u001b[1;32m    195\u001b[0m \u001b[38;5;124;03mNumPy型をJSON保存可能な通常のPython型に変換\u001b[39;00m\n\u001b[1;32m    196\u001b[0m \u001b[38;5;124;03m\"\"\"\u001b[39;00m\n\u001b[1;32m    197\u001b[0m \u001b[38;5;28;01mif\u001b[39;00m \u001b[38;5;28misinstance\u001b[39m(obj, \u001b[38;5;28mdict\u001b[39m):\n\u001b[0;32m--> 198\u001b[0m     \u001b[38;5;28;01mreturn\u001b[39;00m {key: convert_to_serializable(value) \u001b[38;5;28;01mfor\u001b[39;00m key, value \u001b[38;5;129;01min\u001b[39;00m obj\u001b[38;5;241m.\u001b[39mitems()}\n\u001b[1;32m    199\u001b[0m \u001b[38;5;28;01melif\u001b[39;00m \u001b[38;5;28misinstance\u001b[39m(obj, \u001b[38;5;28mlist\u001b[39m):\n\u001b[1;32m    200\u001b[0m     \u001b[38;5;28;01mreturn\u001b[39;00m [convert_to_serializable(item) \u001b[38;5;28;01mfor\u001b[39;00m item \u001b[38;5;129;01min\u001b[39;00m \u001b[38;5;28mlist\u001b[39m]\n",
      "Cell \u001b[0;32mIn[16], line 198\u001b[0m, in \u001b[0;36m<dictcomp>\u001b[0;34m(.0)\u001b[0m\n\u001b[1;32m    194\u001b[0m \u001b[38;5;250m\u001b[39m\u001b[38;5;124;03m\"\"\"\u001b[39;00m\n\u001b[1;32m    195\u001b[0m \u001b[38;5;124;03mNumPy型をJSON保存可能な通常のPython型に変換\u001b[39;00m\n\u001b[1;32m    196\u001b[0m \u001b[38;5;124;03m\"\"\"\u001b[39;00m\n\u001b[1;32m    197\u001b[0m \u001b[38;5;28;01mif\u001b[39;00m \u001b[38;5;28misinstance\u001b[39m(obj, \u001b[38;5;28mdict\u001b[39m):\n\u001b[0;32m--> 198\u001b[0m     \u001b[38;5;28;01mreturn\u001b[39;00m {key: convert_to_serializable(value) \u001b[38;5;28;01mfor\u001b[39;00m key, value \u001b[38;5;129;01min\u001b[39;00m obj\u001b[38;5;241m.\u001b[39mitems()}\n\u001b[1;32m    199\u001b[0m \u001b[38;5;28;01melif\u001b[39;00m \u001b[38;5;28misinstance\u001b[39m(obj, \u001b[38;5;28mlist\u001b[39m):\n\u001b[1;32m    200\u001b[0m     \u001b[38;5;28;01mreturn\u001b[39;00m [convert_to_serializable(item) \u001b[38;5;28;01mfor\u001b[39;00m item \u001b[38;5;129;01min\u001b[39;00m \u001b[38;5;28mlist\u001b[39m]\n",
      "Cell \u001b[0;32mIn[16], line 198\u001b[0m, in \u001b[0;36mconvert_to_serializable\u001b[0;34m(obj)\u001b[0m\n\u001b[1;32m    194\u001b[0m \u001b[38;5;250m\u001b[39m\u001b[38;5;124;03m\"\"\"\u001b[39;00m\n\u001b[1;32m    195\u001b[0m \u001b[38;5;124;03mNumPy型をJSON保存可能な通常のPython型に変換\u001b[39;00m\n\u001b[1;32m    196\u001b[0m \u001b[38;5;124;03m\"\"\"\u001b[39;00m\n\u001b[1;32m    197\u001b[0m \u001b[38;5;28;01mif\u001b[39;00m \u001b[38;5;28misinstance\u001b[39m(obj, \u001b[38;5;28mdict\u001b[39m):\n\u001b[0;32m--> 198\u001b[0m     \u001b[38;5;28;01mreturn\u001b[39;00m {key: convert_to_serializable(value) \u001b[38;5;28;01mfor\u001b[39;00m key, value \u001b[38;5;129;01min\u001b[39;00m obj\u001b[38;5;241m.\u001b[39mitems()}\n\u001b[1;32m    199\u001b[0m \u001b[38;5;28;01melif\u001b[39;00m \u001b[38;5;28misinstance\u001b[39m(obj, \u001b[38;5;28mlist\u001b[39m):\n\u001b[1;32m    200\u001b[0m     \u001b[38;5;28;01mreturn\u001b[39;00m [convert_to_serializable(item) \u001b[38;5;28;01mfor\u001b[39;00m item \u001b[38;5;129;01min\u001b[39;00m \u001b[38;5;28mlist\u001b[39m]\n",
      "Cell \u001b[0;32mIn[16], line 198\u001b[0m, in \u001b[0;36m<dictcomp>\u001b[0;34m(.0)\u001b[0m\n\u001b[1;32m    194\u001b[0m \u001b[38;5;250m\u001b[39m\u001b[38;5;124;03m\"\"\"\u001b[39;00m\n\u001b[1;32m    195\u001b[0m \u001b[38;5;124;03mNumPy型をJSON保存可能な通常のPython型に変換\u001b[39;00m\n\u001b[1;32m    196\u001b[0m \u001b[38;5;124;03m\"\"\"\u001b[39;00m\n\u001b[1;32m    197\u001b[0m \u001b[38;5;28;01mif\u001b[39;00m \u001b[38;5;28misinstance\u001b[39m(obj, \u001b[38;5;28mdict\u001b[39m):\n\u001b[0;32m--> 198\u001b[0m     \u001b[38;5;28;01mreturn\u001b[39;00m {key: convert_to_serializable(value) \u001b[38;5;28;01mfor\u001b[39;00m key, value \u001b[38;5;129;01min\u001b[39;00m obj\u001b[38;5;241m.\u001b[39mitems()}\n\u001b[1;32m    199\u001b[0m \u001b[38;5;28;01melif\u001b[39;00m \u001b[38;5;28misinstance\u001b[39m(obj, \u001b[38;5;28mlist\u001b[39m):\n\u001b[1;32m    200\u001b[0m     \u001b[38;5;28;01mreturn\u001b[39;00m [convert_to_serializable(item) \u001b[38;5;28;01mfor\u001b[39;00m item \u001b[38;5;129;01min\u001b[39;00m \u001b[38;5;28mlist\u001b[39m]\n",
      "    \u001b[0;31m[... skipping similar frames: <dictcomp> at line 198 (1 times), convert_to_serializable at line 198 (1 times)]\u001b[0m\n",
      "Cell \u001b[0;32mIn[16], line 198\u001b[0m, in \u001b[0;36mconvert_to_serializable\u001b[0;34m(obj)\u001b[0m\n\u001b[1;32m    194\u001b[0m \u001b[38;5;250m\u001b[39m\u001b[38;5;124;03m\"\"\"\u001b[39;00m\n\u001b[1;32m    195\u001b[0m \u001b[38;5;124;03mNumPy型をJSON保存可能な通常のPython型に変換\u001b[39;00m\n\u001b[1;32m    196\u001b[0m \u001b[38;5;124;03m\"\"\"\u001b[39;00m\n\u001b[1;32m    197\u001b[0m \u001b[38;5;28;01mif\u001b[39;00m \u001b[38;5;28misinstance\u001b[39m(obj, \u001b[38;5;28mdict\u001b[39m):\n\u001b[0;32m--> 198\u001b[0m     \u001b[38;5;28;01mreturn\u001b[39;00m {key: convert_to_serializable(value) \u001b[38;5;28;01mfor\u001b[39;00m key, value \u001b[38;5;129;01min\u001b[39;00m obj\u001b[38;5;241m.\u001b[39mitems()}\n\u001b[1;32m    199\u001b[0m \u001b[38;5;28;01melif\u001b[39;00m \u001b[38;5;28misinstance\u001b[39m(obj, \u001b[38;5;28mlist\u001b[39m):\n\u001b[1;32m    200\u001b[0m     \u001b[38;5;28;01mreturn\u001b[39;00m [convert_to_serializable(item) \u001b[38;5;28;01mfor\u001b[39;00m item \u001b[38;5;129;01min\u001b[39;00m \u001b[38;5;28mlist\u001b[39m]\n",
      "Cell \u001b[0;32mIn[16], line 198\u001b[0m, in \u001b[0;36m<dictcomp>\u001b[0;34m(.0)\u001b[0m\n\u001b[1;32m    194\u001b[0m \u001b[38;5;250m\u001b[39m\u001b[38;5;124;03m\"\"\"\u001b[39;00m\n\u001b[1;32m    195\u001b[0m \u001b[38;5;124;03mNumPy型をJSON保存可能な通常のPython型に変換\u001b[39;00m\n\u001b[1;32m    196\u001b[0m \u001b[38;5;124;03m\"\"\"\u001b[39;00m\n\u001b[1;32m    197\u001b[0m \u001b[38;5;28;01mif\u001b[39;00m \u001b[38;5;28misinstance\u001b[39m(obj, \u001b[38;5;28mdict\u001b[39m):\n\u001b[0;32m--> 198\u001b[0m     \u001b[38;5;28;01mreturn\u001b[39;00m {key: convert_to_serializable(value) \u001b[38;5;28;01mfor\u001b[39;00m key, value \u001b[38;5;129;01min\u001b[39;00m obj\u001b[38;5;241m.\u001b[39mitems()}\n\u001b[1;32m    199\u001b[0m \u001b[38;5;28;01melif\u001b[39;00m \u001b[38;5;28misinstance\u001b[39m(obj, \u001b[38;5;28mlist\u001b[39m):\n\u001b[1;32m    200\u001b[0m     \u001b[38;5;28;01mreturn\u001b[39;00m [convert_to_serializable(item) \u001b[38;5;28;01mfor\u001b[39;00m item \u001b[38;5;129;01min\u001b[39;00m \u001b[38;5;28mlist\u001b[39m]\n",
      "Cell \u001b[0;32mIn[16], line 200\u001b[0m, in \u001b[0;36mconvert_to_serializable\u001b[0;34m(obj)\u001b[0m\n\u001b[1;32m    198\u001b[0m     \u001b[38;5;28;01mreturn\u001b[39;00m {key: convert_to_serializable(value) \u001b[38;5;28;01mfor\u001b[39;00m key, value \u001b[38;5;129;01min\u001b[39;00m obj\u001b[38;5;241m.\u001b[39mitems()}\n\u001b[1;32m    199\u001b[0m \u001b[38;5;28;01melif\u001b[39;00m \u001b[38;5;28misinstance\u001b[39m(obj, \u001b[38;5;28mlist\u001b[39m):\n\u001b[0;32m--> 200\u001b[0m     \u001b[38;5;28;01mreturn\u001b[39;00m [convert_to_serializable(item) \u001b[38;5;28;01mfor\u001b[39;00m item \u001b[38;5;129;01min\u001b[39;00m \u001b[38;5;28mlist\u001b[39m]\n\u001b[1;32m    201\u001b[0m \u001b[38;5;28;01melif\u001b[39;00m \u001b[38;5;28misinstance\u001b[39m(obj, np\u001b[38;5;241m.\u001b[39minteger):\n\u001b[1;32m    202\u001b[0m     \u001b[38;5;28;01mreturn\u001b[39;00m \u001b[38;5;28mint\u001b[39m(obj)\n",
      "\u001b[0;31mTypeError\u001b[0m: 'type' object is not iterable"
     ]
    }
   ],
   "source": [
    "import numpy as np\n",
    "import mne\n",
    "from mne.channels import make_standard_montage\n",
    "import matplotlib.pyplot as plt\n",
    "from feature_extraction import bandpower, FREQUENCY_BANDS\n",
    "from load_data import load_deap_data_npy\n",
    "import os\n",
    "import json\n",
    "\n",
    "def analyze_and_visualize_bandpower(eeg_data, labels, fs=128, window_sec=10, relative=False, save_dir='./results/bandpower_analysis'):\n",
    "    \"\"\"\n",
    "    バンドパワーの解析とトポマップの可視化（ValenceとArousalを別々に）\n",
    "    \n",
    "    Parameters:\n",
    "    -----------\n",
    "    eeg_data : numpy.ndarray\n",
    "        EEGデータ\n",
    "    labels : numpy.ndarray\n",
    "        感情ラベル（ValenceとArousal）\n",
    "    fs : int\n",
    "        サンプリング周波数\n",
    "    window_sec : int\n",
    "        解析窓長（秒）\n",
    "    relative : bool\n",
    "        相対パワーを計算するかどうか\n",
    "    save_dir : str\n",
    "        結果を保存するディレクトリのパス\n",
    "    \"\"\"\n",
    "    # チャンネル情報\n",
    "    ch_names = ['Fp1', 'AF3', 'F3', 'F7', 'FC5', 'FC1', 'C3', 'T7', \n",
    "                'CP5', 'CP1', 'P3', 'P7', 'PO3', 'O1', 'Oz', 'Pz',\n",
    "                'Fp2', 'AF4', 'Fz', 'F4', 'F8', 'FC6', 'FC2', 'Cz',\n",
    "                'C4', 'T8', 'CP6', 'CP2', 'P4', 'P8', 'PO4', 'O2']\n",
    "    \n",
    "    info = mne.create_info(ch_names=ch_names, sfreq=fs, ch_types=['eeg'] * len(ch_names))\n",
    "    montage = make_standard_montage('standard_1020')\n",
    "    info.set_montage(montage, match_case=False)\n",
    "    \n",
    "    # 条件マスクの作成\n",
    "    conditions = {\n",
    "        'Valence': {f'V{i}': np.round(labels[:, 0]) == i for i in range(1, 10)},\n",
    "        'Arousal': {f'A{i}': np.round(labels[:, 1]) == i for i in range(1, 10)}\n",
    "    }\n",
    "    \n",
    "    # 結果保存用の設定\n",
    "    results = {\n",
    "        'metadata': {\n",
    "            'sampling_rate': fs,\n",
    "            'window_sec': window_sec,\n",
    "            'relative_power': relative,\n",
    "            'n_channels': len(ch_names),\n",
    "            'channel_names': ch_names,\n",
    "            'frequency_bands': FREQUENCY_BANDS\n",
    "        },\n",
    "        'power_values': {'Valence': {}, 'Arousal': {}}\n",
    "    }\n",
    "    \n",
    "    topomap_dir = os.path.join(save_dir, 'topomaps')\n",
    "    os.makedirs(topomap_dir, exist_ok=True)\n",
    "    \n",
    "    # 各周波数帯域でのトポマップ作成\n",
    "    for band_name, band_range in FREQUENCY_BANDS.items():\n",
    "        # ValenceとArousalそれぞれについて\n",
    "        for emotion_type in ['Valence', 'Arousal']:\n",
    "            fig, axes = plt.subplots(3, 3, figsize=(20, 20))\n",
    "            axes = axes.ravel()\n",
    "            \n",
    "            for i, (cond_name, cond_mask) in enumerate(conditions[emotion_type].items()):\n",
    "                # トライアル数の確認\n",
    "                n_trials = np.sum(cond_mask)\n",
    "                if n_trials == 0:\n",
    "                    print(f\"Warning: No trials found for {emotion_type} {cond_name}\")\n",
    "                    axes[i].text(0.5, 0.5, 'No Data', ha='center', va='center')\n",
    "                    continue\n",
    "                \n",
    "                # バンドパワーの計算\n",
    "                band_powers = np.zeros((len(ch_names), n_trials))\n",
    "                for ch_idx in range(len(ch_names)):\n",
    "                    for trial_idx, trial in enumerate(eeg_data[cond_mask]):\n",
    "                        power = bandpower(trial[ch_idx], fs, band_range, \n",
    "                                        window_sec=window_sec, relative=relative)\n",
    "                        band_powers[ch_idx, trial_idx] = power\n",
    "                \n",
    "                # 平均バンドパワーの計算\n",
    "                mean_powers = np.mean(band_powers, axis=1)\n",
    "                \n",
    "                # トポマップの描画\n",
    "                im, _ = mne.viz.plot_topomap(mean_powers, info, \n",
    "                                            axes=axes[i],\n",
    "                                            show=False,\n",
    "                                            size=2,\n",
    "                                            extrapolate='box',\n",
    "                                            sphere=(0.0, 0.0, 0.0, 0.09),\n",
    "                                            names=ch_names,\n",
    "                                            sensors=True)\n",
    "                \n",
    "                title = f'{cond_name}\\n(n={n_trials})'\n",
    "                axes[i].set_title(title)\n",
    "                \n",
    "                for text in axes[i].texts:\n",
    "                    text.set_fontsize(8)\n",
    "                \n",
    "                # 数値データの保存\n",
    "                if cond_name not in results['power_values'][emotion_type]:\n",
    "                    results['power_values'][emotion_type][cond_name] = {}\n",
    "                \n",
    "                results['power_values'][emotion_type][cond_name][band_name] = {\n",
    "                    'mean': mean_powers.tolist(),\n",
    "                    'std': np.std(band_powers, axis=1).tolist(),\n",
    "                    'n_trials': n_trials\n",
    "                }\n",
    "            \n",
    "            # カラーバーの追加\n",
    "            if im is not None:\n",
    "                cbar = plt.colorbar(im, ax=axes.tolist())\n",
    "                cbar.set_label('Power')\n",
    "            \n",
    "            fig.suptitle(f'{band_name} - {emotion_type} Levels', fontsize=16, y=1.02)\n",
    "            \n",
    "            plt.tight_layout()\n",
    "            plt.savefig(os.path.join(topomap_dir, f'{band_name}_{emotion_type.lower()}_topomap.png'), \n",
    "                       bbox_inches='tight', dpi=300)\n",
    "            plt.close()\n",
    "    \n",
    "    return results\n",
    "\n",
    "def visualize_average_topomaps(average_results, save_dir='./results/bandpower_analysis/average_topomaps'):\n",
    "    \"\"\"\n",
    "    被験者間平均のトポマップを作成\n",
    "    \n",
    "    Parameters:\n",
    "    -----------\n",
    "    average_results : dict\n",
    "        被験者間平均の結果\n",
    "    save_dir : str\n",
    "        保存先ディレクトリ\n",
    "    \"\"\"\n",
    "    ch_names = ['Fp1', 'AF3', 'F3', 'F7', 'FC5', 'FC1', 'C3', 'T7', \n",
    "                'CP5', 'CP1', 'P3', 'P7', 'PO3', 'O1', 'Oz', 'Pz',\n",
    "                'Fp2', 'AF4', 'Fz', 'F4', 'F8', 'FC6', 'FC2', 'Cz',\n",
    "                'C4', 'T8', 'CP6', 'CP2', 'P4', 'P8', 'PO4', 'O2']\n",
    "    \n",
    "    info = mne.create_info(ch_names=ch_names, sfreq=128, ch_types=['eeg'] * len(ch_names))\n",
    "    montage = make_standard_montage('standard_1020')\n",
    "    info.set_montage(montage, match_case=False)\n",
    "    \n",
    "    os.makedirs(save_dir, exist_ok=True)\n",
    "    \n",
    "    for band_name in FREQUENCY_BANDS:\n",
    "        for emotion_type in ['Valence', 'Arousal']:\n",
    "            fig, axes = plt.subplots(3, 3, figsize=(20, 20))\n",
    "            axes = axes.ravel()\n",
    "            \n",
    "            for i in range(9):\n",
    "                cond_name = f'{emotion_type[0]}{i+1}'\n",
    "                if (cond_name in average_results[emotion_type] and \n",
    "                    band_name in average_results[emotion_type][cond_name]):\n",
    "                    \n",
    "                    data = average_results[emotion_type][cond_name][band_name]\n",
    "                    mean_powers = np.array(data['mean'])\n",
    "                    n_subjects = data['n_subjects']\n",
    "                    \n",
    "                    if n_subjects > 0:\n",
    "                        im, _ = mne.viz.plot_topomap(mean_powers, info, \n",
    "                                                    axes=axes[i],\n",
    "                                                    show=False,\n",
    "                                                    size=2,\n",
    "                                                    extrapolate='box',\n",
    "                                                    sphere=(0.0, 0.0, 0.0, 0.09),\n",
    "                                                    names=ch_names,\n",
    "                                                    sensors=True)\n",
    "                        \n",
    "                        title = f'{cond_name}\\n(n={n_subjects} subjects)'\n",
    "                        axes[i].set_title(title)\n",
    "                        \n",
    "                        for text in axes[i].texts:\n",
    "                            text.set_fontsize(8)\n",
    "                    else:\n",
    "                        axes[i].text(0.5, 0.5, 'No Data', ha='center', va='center')\n",
    "            \n",
    "            #if im is not None:\n",
    "                #cbar = plt.colorbar(im, ax=axes.tolist())\n",
    "                #cbar.set_label('Power')\n",
    "            \n",
    "            fig.suptitle(f'{band_name} - Average {emotion_type} Levels\\nAcross Subjects', \n",
    "                        fontsize=16, y=1.02)\n",
    "            \n",
    "            plt.tight_layout()\n",
    "            plt.savefig(os.path.join(save_dir, f'{band_name}_{emotion_type.lower()}_average_topomap.png'), \n",
    "                       bbox_inches='tight', dpi=300)\n",
    "            plt.close()\n",
    "            \n",
    "# 結果の保存前にNumPy型を通常のPython型に変換する関数を追加\n",
    "def convert_to_serializable(obj):\n",
    "    \"\"\"\n",
    "    NumPy型をJSON保存可能な通常のPython型に変換\n",
    "    \"\"\"\n",
    "    if isinstance(obj, dict):\n",
    "        return {key: convert_to_serializable(value) for key, value in obj.items()}\n",
    "    elif isinstance(obj, list):\n",
    "        return [convert_to_serializable(item) for item in list]\n",
    "    elif isinstance(obj, np.integer):\n",
    "        return int(obj)\n",
    "    elif isinstance(obj, np.floating):\n",
    "        return float(obj)\n",
    "    elif isinstance(obj, np.ndarray):\n",
    "        return obj.tolist()\n",
    "    else:\n",
    "        return obj\n",
    "\n",
    "# メイン処理\n",
    "if __name__ == \"__main__\":\n",
    "    # データディレクトリの設定\n",
    "    data_dir = \"data/data_raw_preprocessed\"\n",
    "    n_subjects = 1\n",
    "    \n",
    "    # 全被験者の結果を保存するディレクトリ\n",
    "    base_save_dir = './results/bandpower_analysis'\n",
    "    os.makedirs(base_save_dir, exist_ok=True)\n",
    "    \n",
    "    # 全被験者のデータを処理\n",
    "    all_results = {\n",
    "        'individual': {},\n",
    "        'average': {\n",
    "            'Valence': {f'V{i}': {} for i in range(1, 10)},\n",
    "            'Arousal': {f'A{i}': {} for i in range(1, 10)}\n",
    "        }\n",
    "    }\n",
    "    \n",
    "    # 被験者間の平均用データ集計\n",
    "    subject_means = {\n",
    "        'Valence': {f'V{i}': {} for i in range(1, 10)},\n",
    "        'Arousal': {f'A{i}': {} for i in range(1, 10)}\n",
    "    }\n",
    "    \n",
    "    # 各被験者のデータを処理\n",
    "    for subject in range(1, n_subjects + 1):\n",
    "        print(f\"\\nProcessing subject {subject}...\")\n",
    "        \n",
    "        # データ読み込み\n",
    "        file_path = os.path.join(data_dir, f\"s{subject:02d}.npy\")\n",
    "        try:\n",
    "            eeg_data, labels, _ = load_deap_data_npy(file_path, preprocessing='eeg')\n",
    "        except Exception as e:\n",
    "            print(f\"Error loading data for subject {subject}: {e}\")\n",
    "            continue\n",
    "        \n",
    "        # 個別の分析実行\n",
    "        subject_save_dir = os.path.join(base_save_dir, f's{subject:02d}')\n",
    "        results = analyze_and_visualize_bandpower(\n",
    "            eeg_data=eeg_data,\n",
    "            labels=labels,\n",
    "            save_dir=subject_save_dir\n",
    "        )\n",
    "        \n",
    "        # 個別の結果を保存\n",
    "        all_results['individual'][f's{subject:02d}'] = results\n",
    "        \n",
    "        # 被験者間平均用データの集計\n",
    "        for emotion_type in ['Valence', 'Arousal']:\n",
    "            for cond_name in results['power_values'][emotion_type]:\n",
    "                for band_name in FREQUENCY_BANDS:\n",
    "                    if band_name in results['power_values'][emotion_type][cond_name]:\n",
    "                        data = results['power_values'][emotion_type][cond_name][band_name]\n",
    "                        if data['n_trials'] > 0:  # トライアルが存在する場合のみ\n",
    "                            if band_name not in subject_means[emotion_type][cond_name]:\n",
    "                                subject_means[emotion_type][cond_name][band_name] = []\n",
    "                            \n",
    "                            # 被験者ごとの平均を保存\n",
    "                            subject_means[emotion_type][cond_name][band_name].append(\n",
    "                                np.array(data['mean'])\n",
    "                            )\n",
    "    \n",
    "    # 被験者間の平均と標準偏差の計算\n",
    "    print(\"\\nCalculating cross-subject averages...\")\n",
    "    for emotion_type in ['Valence', 'Arousal']:\n",
    "        for cond_name in subject_means[emotion_type]:\n",
    "            for band_name in FREQUENCY_BANDS:\n",
    "                if band_name in subject_means[emotion_type][cond_name]:\n",
    "                    means = subject_means[emotion_type][cond_name][band_name]\n",
    "                    if means:  # データが存在する場合\n",
    "                        means_array = np.array(means)\n",
    "                        grand_mean = np.mean(means_array, axis=0)\n",
    "                        grand_std = np.std(means_array, axis=0)\n",
    "                        n_subjects_with_data = len(means)\n",
    "                        \n",
    "                        all_results['average'][emotion_type][cond_name][band_name] = {\n",
    "                            'mean': grand_mean.tolist(),\n",
    "                            'std': grand_std.tolist(),\n",
    "                            'n_subjects': n_subjects_with_data\n",
    "                        }\n",
    "    \n",
    "    # 結果の保存\n",
    "    print(\"\\nSaving results...\")\n",
    "    serializable_results = convert_to_serializable(all_results)\n",
    "    with open(os.path.join(base_save_dir, 'all_subjects_results.json'), 'w') as f:\n",
    "        json.dump(serializable_results, f, indent=4)\n",
    "    \n",
    "    # 平均のトポマップ作成\n",
    "    print(\"\\nCreating average topomaps...\")\n",
    "    visualize_average_topomaps(all_results['average'])\n",
    "    \n",
    "    print(\"Analysis complete!\")"
   ]
  },
  {
   "cell_type": "code",
   "execution_count": 19,
   "metadata": {},
   "outputs": [
    {
     "name": "stdout",
     "output_type": "stream",
     "text": [
      "\n",
      "Processing subject 1...\n",
      "\n",
      "Label distribution:\n",
      "Valence scores: [7. 7. 5. 7. 8. 3. 5. 3. 2. 4. 8. 2. 2. 7. 3. 2. 3. 2. 4. 7. 3. 2. 1. 8.\n",
      " 7. 2. 3. 7. 9. 4. 7. 9. 3. 2. 7. 8. 9. 8. 4. 7.]\n",
      "Arousal scores: [4. 7. 6. 7. 8. 8. 7. 6. 3. 4. 4. 5. 8. 2. 8. 7. 7. 7. 2. 7. 2. 3. 2. 8.\n",
      " 4. 8. 3. 7. 7. 3. 3. 8. 7. 7. 8. 7. 8. 3. 3. 7.]\n",
      "Valence 1: 1 trials\n",
      "Valence 2: 8 trials\n",
      "Valence 3: 7 trials\n",
      "Valence 4: 4 trials\n",
      "Valence 5: 2 trials\n",
      "Valence 6: 0 trials\n",
      "Valence 7: 10 trials\n",
      "Valence 8: 5 trials\n",
      "Valence 9: 3 trials\n",
      "Arousal 1: 0 trials\n",
      "Arousal 2: 4 trials\n",
      "Arousal 3: 7 trials\n",
      "Arousal 4: 4 trials\n",
      "Arousal 5: 1 trials\n",
      "Arousal 6: 2 trials\n",
      "Arousal 7: 13 trials\n",
      "Arousal 8: 9 trials\n",
      "Arousal 9: 0 trials\n",
      "Warning: No trials found for Valence V6\n"
     ]
    },
    {
     "name": "stderr",
     "output_type": "stream",
     "text": [
      "/var/folders/cq/ng3hfh1s6w9cv5482h3kc_t40000gn/T/ipykernel_43642/3779462074.py:137: UserWarning: This figure includes Axes that are not compatible with tight_layout, so results might be incorrect.\n",
      "  plt.tight_layout()\n"
     ]
    },
    {
     "name": "stdout",
     "output_type": "stream",
     "text": [
      "Warning: No trials found for Arousal A1\n",
      "Warning: No trials found for Arousal A9\n"
     ]
    },
    {
     "name": "stderr",
     "output_type": "stream",
     "text": [
      "/var/folders/cq/ng3hfh1s6w9cv5482h3kc_t40000gn/T/ipykernel_43642/3779462074.py:137: UserWarning: This figure includes Axes that are not compatible with tight_layout, so results might be incorrect.\n",
      "  plt.tight_layout()\n"
     ]
    },
    {
     "name": "stdout",
     "output_type": "stream",
     "text": [
      "Warning: No trials found for Valence V6\n"
     ]
    },
    {
     "name": "stderr",
     "output_type": "stream",
     "text": [
      "/var/folders/cq/ng3hfh1s6w9cv5482h3kc_t40000gn/T/ipykernel_43642/3779462074.py:137: UserWarning: This figure includes Axes that are not compatible with tight_layout, so results might be incorrect.\n",
      "  plt.tight_layout()\n"
     ]
    },
    {
     "name": "stdout",
     "output_type": "stream",
     "text": [
      "Warning: No trials found for Arousal A1\n",
      "Warning: No trials found for Arousal A9\n"
     ]
    },
    {
     "name": "stderr",
     "output_type": "stream",
     "text": [
      "/var/folders/cq/ng3hfh1s6w9cv5482h3kc_t40000gn/T/ipykernel_43642/3779462074.py:137: UserWarning: This figure includes Axes that are not compatible with tight_layout, so results might be incorrect.\n",
      "  plt.tight_layout()\n"
     ]
    },
    {
     "name": "stdout",
     "output_type": "stream",
     "text": [
      "Warning: No trials found for Valence V6\n"
     ]
    },
    {
     "name": "stderr",
     "output_type": "stream",
     "text": [
      "/var/folders/cq/ng3hfh1s6w9cv5482h3kc_t40000gn/T/ipykernel_43642/3779462074.py:137: UserWarning: This figure includes Axes that are not compatible with tight_layout, so results might be incorrect.\n",
      "  plt.tight_layout()\n"
     ]
    },
    {
     "name": "stdout",
     "output_type": "stream",
     "text": [
      "Warning: No trials found for Arousal A1\n",
      "Warning: No trials found for Arousal A9\n"
     ]
    },
    {
     "name": "stderr",
     "output_type": "stream",
     "text": [
      "/var/folders/cq/ng3hfh1s6w9cv5482h3kc_t40000gn/T/ipykernel_43642/3779462074.py:137: UserWarning: This figure includes Axes that are not compatible with tight_layout, so results might be incorrect.\n",
      "  plt.tight_layout()\n"
     ]
    },
    {
     "name": "stdout",
     "output_type": "stream",
     "text": [
      "Warning: No trials found for Valence V6\n"
     ]
    },
    {
     "name": "stderr",
     "output_type": "stream",
     "text": [
      "/var/folders/cq/ng3hfh1s6w9cv5482h3kc_t40000gn/T/ipykernel_43642/3779462074.py:137: UserWarning: This figure includes Axes that are not compatible with tight_layout, so results might be incorrect.\n",
      "  plt.tight_layout()\n"
     ]
    },
    {
     "name": "stdout",
     "output_type": "stream",
     "text": [
      "Warning: No trials found for Arousal A1\n",
      "Warning: No trials found for Arousal A9\n"
     ]
    },
    {
     "name": "stderr",
     "output_type": "stream",
     "text": [
      "/var/folders/cq/ng3hfh1s6w9cv5482h3kc_t40000gn/T/ipykernel_43642/3779462074.py:137: UserWarning: This figure includes Axes that are not compatible with tight_layout, so results might be incorrect.\n",
      "  plt.tight_layout()\n"
     ]
    },
    {
     "name": "stdout",
     "output_type": "stream",
     "text": [
      "Warning: No trials found for Valence V6\n"
     ]
    },
    {
     "name": "stderr",
     "output_type": "stream",
     "text": [
      "/var/folders/cq/ng3hfh1s6w9cv5482h3kc_t40000gn/T/ipykernel_43642/3779462074.py:137: UserWarning: This figure includes Axes that are not compatible with tight_layout, so results might be incorrect.\n",
      "  plt.tight_layout()\n"
     ]
    },
    {
     "name": "stdout",
     "output_type": "stream",
     "text": [
      "Warning: No trials found for Arousal A1\n",
      "Warning: No trials found for Arousal A9\n"
     ]
    },
    {
     "name": "stderr",
     "output_type": "stream",
     "text": [
      "/var/folders/cq/ng3hfh1s6w9cv5482h3kc_t40000gn/T/ipykernel_43642/3779462074.py:137: UserWarning: This figure includes Axes that are not compatible with tight_layout, so results might be incorrect.\n",
      "  plt.tight_layout()\n"
     ]
    },
    {
     "name": "stdout",
     "output_type": "stream",
     "text": [
      "\n",
      "Processing subject 2...\n",
      "\n",
      "Label distribution:\n",
      "Valence scores: [5. 9. 2. 4. 1. 1. 2. 5. 7. 3. 9. 8. 4. 1. 5. 5. 9. 9. 9. 8. 7. 6. 9. 9.\n",
      " 1. 9. 9. 1. 6. 9. 1. 5. 5. 9. 9. 5. 9. 5. 5. 6.]\n",
      "Arousal scores: [5. 3. 2. 7. 9. 9. 7. 8. 9. 7. 9. 6. 5. 8. 2. 5. 8. 6. 9. 7. 1. 1. 8. 9.\n",
      " 3. 5. 9. 1. 7. 7. 1. 1. 3. 5. 8. 1. 9. 1. 1. 5.]\n",
      "Valence 1: 6 trials\n",
      "Valence 2: 2 trials\n",
      "Valence 3: 1 trials\n",
      "Valence 4: 2 trials\n",
      "Valence 5: 9 trials\n",
      "Valence 6: 3 trials\n",
      "Valence 7: 2 trials\n",
      "Valence 8: 2 trials\n",
      "Valence 9: 13 trials\n",
      "Arousal 1: 8 trials\n",
      "Arousal 2: 2 trials\n",
      "Arousal 3: 3 trials\n",
      "Arousal 4: 0 trials\n",
      "Arousal 5: 6 trials\n",
      "Arousal 6: 2 trials\n",
      "Arousal 7: 6 trials\n",
      "Arousal 8: 5 trials\n",
      "Arousal 9: 8 trials\n"
     ]
    },
    {
     "name": "stderr",
     "output_type": "stream",
     "text": [
      "/var/folders/cq/ng3hfh1s6w9cv5482h3kc_t40000gn/T/ipykernel_43642/3779462074.py:137: UserWarning: This figure includes Axes that are not compatible with tight_layout, so results might be incorrect.\n",
      "  plt.tight_layout()\n"
     ]
    },
    {
     "name": "stdout",
     "output_type": "stream",
     "text": [
      "Warning: No trials found for Arousal A4\n"
     ]
    },
    {
     "name": "stderr",
     "output_type": "stream",
     "text": [
      "/var/folders/cq/ng3hfh1s6w9cv5482h3kc_t40000gn/T/ipykernel_43642/3779462074.py:137: UserWarning: This figure includes Axes that are not compatible with tight_layout, so results might be incorrect.\n",
      "  plt.tight_layout()\n",
      "/var/folders/cq/ng3hfh1s6w9cv5482h3kc_t40000gn/T/ipykernel_43642/3779462074.py:137: UserWarning: This figure includes Axes that are not compatible with tight_layout, so results might be incorrect.\n",
      "  plt.tight_layout()\n"
     ]
    },
    {
     "name": "stdout",
     "output_type": "stream",
     "text": [
      "Warning: No trials found for Arousal A4\n"
     ]
    },
    {
     "name": "stderr",
     "output_type": "stream",
     "text": [
      "/var/folders/cq/ng3hfh1s6w9cv5482h3kc_t40000gn/T/ipykernel_43642/3779462074.py:137: UserWarning: This figure includes Axes that are not compatible with tight_layout, so results might be incorrect.\n",
      "  plt.tight_layout()\n",
      "/var/folders/cq/ng3hfh1s6w9cv5482h3kc_t40000gn/T/ipykernel_43642/3779462074.py:137: UserWarning: This figure includes Axes that are not compatible with tight_layout, so results might be incorrect.\n",
      "  plt.tight_layout()\n"
     ]
    },
    {
     "name": "stdout",
     "output_type": "stream",
     "text": [
      "Warning: No trials found for Arousal A4\n"
     ]
    },
    {
     "name": "stderr",
     "output_type": "stream",
     "text": [
      "/var/folders/cq/ng3hfh1s6w9cv5482h3kc_t40000gn/T/ipykernel_43642/3779462074.py:137: UserWarning: This figure includes Axes that are not compatible with tight_layout, so results might be incorrect.\n",
      "  plt.tight_layout()\n",
      "/var/folders/cq/ng3hfh1s6w9cv5482h3kc_t40000gn/T/ipykernel_43642/3779462074.py:137: UserWarning: This figure includes Axes that are not compatible with tight_layout, so results might be incorrect.\n",
      "  plt.tight_layout()\n"
     ]
    },
    {
     "name": "stdout",
     "output_type": "stream",
     "text": [
      "Warning: No trials found for Arousal A4\n"
     ]
    },
    {
     "name": "stderr",
     "output_type": "stream",
     "text": [
      "/var/folders/cq/ng3hfh1s6w9cv5482h3kc_t40000gn/T/ipykernel_43642/3779462074.py:137: UserWarning: This figure includes Axes that are not compatible with tight_layout, so results might be incorrect.\n",
      "  plt.tight_layout()\n",
      "/var/folders/cq/ng3hfh1s6w9cv5482h3kc_t40000gn/T/ipykernel_43642/3779462074.py:137: UserWarning: This figure includes Axes that are not compatible with tight_layout, so results might be incorrect.\n",
      "  plt.tight_layout()\n"
     ]
    },
    {
     "name": "stdout",
     "output_type": "stream",
     "text": [
      "Warning: No trials found for Arousal A4\n"
     ]
    },
    {
     "name": "stderr",
     "output_type": "stream",
     "text": [
      "/var/folders/cq/ng3hfh1s6w9cv5482h3kc_t40000gn/T/ipykernel_43642/3779462074.py:137: UserWarning: This figure includes Axes that are not compatible with tight_layout, so results might be incorrect.\n",
      "  plt.tight_layout()\n"
     ]
    },
    {
     "name": "stdout",
     "output_type": "stream",
     "text": [
      "\n",
      "Calculating cross-subject averages...\n",
      "\n",
      "Saving results...\n",
      "\n",
      "Creating average topomaps...\n"
     ]
    },
    {
     "name": "stderr",
     "output_type": "stream",
     "text": [
      "/var/folders/cq/ng3hfh1s6w9cv5482h3kc_t40000gn/T/ipykernel_43642/3779462074.py:191: UserWarning: This figure includes Axes that are not compatible with tight_layout, so results might be incorrect.\n",
      "  plt.tight_layout()\n",
      "/var/folders/cq/ng3hfh1s6w9cv5482h3kc_t40000gn/T/ipykernel_43642/3779462074.py:191: UserWarning: This figure includes Axes that are not compatible with tight_layout, so results might be incorrect.\n",
      "  plt.tight_layout()\n",
      "/var/folders/cq/ng3hfh1s6w9cv5482h3kc_t40000gn/T/ipykernel_43642/3779462074.py:191: UserWarning: This figure includes Axes that are not compatible with tight_layout, so results might be incorrect.\n",
      "  plt.tight_layout()\n",
      "/var/folders/cq/ng3hfh1s6w9cv5482h3kc_t40000gn/T/ipykernel_43642/3779462074.py:191: UserWarning: This figure includes Axes that are not compatible with tight_layout, so results might be incorrect.\n",
      "  plt.tight_layout()\n",
      "/var/folders/cq/ng3hfh1s6w9cv5482h3kc_t40000gn/T/ipykernel_43642/3779462074.py:191: UserWarning: This figure includes Axes that are not compatible with tight_layout, so results might be incorrect.\n",
      "  plt.tight_layout()\n",
      "/var/folders/cq/ng3hfh1s6w9cv5482h3kc_t40000gn/T/ipykernel_43642/3779462074.py:191: UserWarning: This figure includes Axes that are not compatible with tight_layout, so results might be incorrect.\n",
      "  plt.tight_layout()\n",
      "/var/folders/cq/ng3hfh1s6w9cv5482h3kc_t40000gn/T/ipykernel_43642/3779462074.py:191: UserWarning: This figure includes Axes that are not compatible with tight_layout, so results might be incorrect.\n",
      "  plt.tight_layout()\n",
      "/var/folders/cq/ng3hfh1s6w9cv5482h3kc_t40000gn/T/ipykernel_43642/3779462074.py:191: UserWarning: This figure includes Axes that are not compatible with tight_layout, so results might be incorrect.\n",
      "  plt.tight_layout()\n",
      "/var/folders/cq/ng3hfh1s6w9cv5482h3kc_t40000gn/T/ipykernel_43642/3779462074.py:191: UserWarning: This figure includes Axes that are not compatible with tight_layout, so results might be incorrect.\n",
      "  plt.tight_layout()\n",
      "/var/folders/cq/ng3hfh1s6w9cv5482h3kc_t40000gn/T/ipykernel_43642/3779462074.py:191: UserWarning: This figure includes Axes that are not compatible with tight_layout, so results might be incorrect.\n",
      "  plt.tight_layout()\n"
     ]
    },
    {
     "name": "stdout",
     "output_type": "stream",
     "text": [
      "Analysis complete!\n"
     ]
    }
   ],
   "source": [
    "import numpy as np\n",
    "import mne\n",
    "from mne.channels import make_standard_montage\n",
    "import matplotlib.pyplot as plt\n",
    "from feature_extraction import bandpower, FREQUENCY_BANDS\n",
    "from load_data import load_deap_data_npy\n",
    "import os\n",
    "import json\n",
    "\n",
    "def create_emotion_masks(labels, verbose=True):\n",
    "    \"\"\"\n",
    "    感情ラベルからマスクを作成し、各レベルのトライアル数を表示\n",
    "    \"\"\"\n",
    "    conditions = {\n",
    "        'Valence': {},\n",
    "        'Arousal': {}\n",
    "    }\n",
    "    \n",
    "    if verbose:\n",
    "        print(\"\\nLabel distribution:\")\n",
    "        print(\"Valence scores:\", np.round(labels[:, 0]))\n",
    "        print(\"Arousal scores:\", np.round(labels[:, 1]))\n",
    "    \n",
    "    # Valenceのマスク作成\n",
    "    for i in range(1, 10):\n",
    "        mask = np.round(labels[:, 0]) == i\n",
    "        conditions['Valence'][f'V{i}'] = mask\n",
    "        if verbose:\n",
    "            n_trials = np.sum(mask)\n",
    "            print(f\"Valence {i}: {n_trials} trials\")\n",
    "    \n",
    "    # Arousalのマスク作成\n",
    "    for i in range(1, 10):\n",
    "        mask = np.round(labels[:, 1]) == i\n",
    "        conditions['Arousal'][f'A{i}'] = mask\n",
    "        if verbose:\n",
    "            n_trials = np.sum(mask)\n",
    "            print(f\"Arousal {i}: {n_trials} trials\")\n",
    "    \n",
    "    return conditions\n",
    "\n",
    "def create_topomap_figure(emotion_type, band_name):\n",
    "    \"\"\"トポマップ用の図を作成\"\"\"\n",
    "    fig = plt.figure(figsize=(20, 20))\n",
    "    gs = fig.add_gridspec(3, 3, hspace=0.4, wspace=0.4)\n",
    "    axes = []\n",
    "    for i in range(3):\n",
    "        for j in range(3):\n",
    "            ax = fig.add_subplot(gs[i, j])\n",
    "            axes.append(ax)\n",
    "    \n",
    "    fig.suptitle(f'{band_name} - {emotion_type} Levels', \n",
    "                 fontsize=16, y=1.02)\n",
    "    return fig, axes\n",
    "\n",
    "def analyze_and_visualize_bandpower(eeg_data, labels, fs=128, window_sec=10, relative=False, save_dir='./results/bandpower_analysis'):\n",
    "    \"\"\"バンドパワーの解析とトポマップの可視化\"\"\"\n",
    "    \n",
    "    # チャンネル情報\n",
    "    ch_names = ['Fp1', 'AF3', 'F3', 'F7', 'FC5', 'FC1', 'C3', 'T7', \n",
    "                'CP5', 'CP1', 'P3', 'P7', 'PO3', 'O1', 'Oz', 'Pz',\n",
    "                'Fp2', 'AF4', 'Fz', 'F4', 'F8', 'FC6', 'FC2', 'Cz',\n",
    "                'C4', 'T8', 'CP6', 'CP2', 'P4', 'P8', 'PO4', 'O2']\n",
    "    \n",
    "    info = mne.create_info(ch_names=ch_names, sfreq=fs, ch_types=['eeg'] * len(ch_names))\n",
    "    montage = make_standard_montage('standard_1020')\n",
    "    info.set_montage(montage, match_case=False)\n",
    "    \n",
    "    # 条件マスクの作成（詳細表示付き）\n",
    "    conditions = create_emotion_masks(labels, verbose=True)\n",
    "    \n",
    "    # 結果保存用の設定\n",
    "    results = {\n",
    "        'metadata': {\n",
    "            'sampling_rate': fs,\n",
    "            'window_sec': window_sec,\n",
    "            'relative_power': relative,\n",
    "            'n_channels': len(ch_names),\n",
    "            'channel_names': ch_names,\n",
    "            'frequency_bands': FREQUENCY_BANDS\n",
    "        },\n",
    "        'power_values': {'Valence': {}, 'Arousal': {}}\n",
    "    }\n",
    "    \n",
    "    topomap_dir = os.path.join(save_dir, 'topomaps')\n",
    "    os.makedirs(topomap_dir, exist_ok=True)\n",
    "    \n",
    "    # 各周波数帯域でのトポマップ作成\n",
    "    for band_name, band_range in FREQUENCY_BANDS.items():\n",
    "        for emotion_type in ['Valence', 'Arousal']:\n",
    "            fig, axes = create_topomap_figure(emotion_type, band_name)\n",
    "            \n",
    "            for i, (cond_name, cond_mask) in enumerate(conditions[emotion_type].items()):\n",
    "                n_trials = np.sum(cond_mask)\n",
    "                if n_trials == 0:\n",
    "                    print(f\"Warning: No trials found for {emotion_type} {cond_name}\")\n",
    "                    axes[i].text(0.5, 0.5, 'No Data', ha='center', va='center')\n",
    "                    continue\n",
    "                \n",
    "                # バンドパワーの計算\n",
    "                band_powers = np.zeros((len(ch_names), n_trials))\n",
    "                for ch_idx in range(len(ch_names)):\n",
    "                    for trial_idx, trial in enumerate(eeg_data[cond_mask]):\n",
    "                        power = bandpower(trial[ch_idx], fs, band_range, \n",
    "                                        window_sec=window_sec, relative=relative)\n",
    "                        band_powers[ch_idx, trial_idx] = power\n",
    "                \n",
    "                # 平均バンドパワーの計算\n",
    "                mean_powers = np.mean(band_powers, axis=1)\n",
    "                std_powers = np.std(band_powers, axis=1)\n",
    "                \n",
    "                # トポマップの描画\n",
    "                im, _ = mne.viz.plot_topomap(mean_powers, info, \n",
    "                                           axes=axes[i],\n",
    "                                           show=False,\n",
    "                                           size=2,\n",
    "                                           extrapolate='box',\n",
    "                                           sphere=(0.0, 0.0, 0.0, 0.09),\n",
    "                                           names=ch_names,\n",
    "                                           sensors=True)\n",
    "                \n",
    "                title = f'{cond_name}\\n(n={n_trials})'\n",
    "                axes[i].set_title(title)\n",
    "                \n",
    "                for text in axes[i].texts:\n",
    "                    text.set_fontsize(8)\n",
    "                \n",
    "                # 数値データの保存\n",
    "                if cond_name not in results['power_values'][emotion_type]:\n",
    "                    results['power_values'][emotion_type][cond_name] = {}\n",
    "                \n",
    "                results['power_values'][emotion_type][cond_name][band_name] = {\n",
    "                    'mean': mean_powers.tolist(),\n",
    "                    'std': std_powers.tolist(),\n",
    "                    'n_trials': int(n_trials)  # numpyのint64を通常のintに変換\n",
    "                }\n",
    "            plt.tight_layout()\n",
    "            \n",
    "            plt.savefig(os.path.join(topomap_dir, f'{band_name}_{emotion_type.lower()}_topomap.png'), \n",
    "                       bbox_inches='tight', dpi=300)\n",
    "            plt.close()\n",
    "    \n",
    "    return results\n",
    "\n",
    "def visualize_average_topomaps(average_results, save_dir='./results/bandpower_analysis/average_topomaps'):\n",
    "    \"\"\"被験者間平均のトポマップを作成\"\"\"\n",
    "    \n",
    "    ch_names = ['Fp1', 'AF3', 'F3', 'F7', 'FC5', 'FC1', 'C3', 'T7', \n",
    "                'CP5', 'CP1', 'P3', 'P7', 'PO3', 'O1', 'Oz', 'Pz',\n",
    "                'Fp2', 'AF4', 'Fz', 'F4', 'F8', 'FC6', 'FC2', 'Cz',\n",
    "                'C4', 'T8', 'CP6', 'CP2', 'P4', 'P8', 'PO4', 'O2']\n",
    "    \n",
    "    info = mne.create_info(ch_names=ch_names, sfreq=128, ch_types=['eeg'] * len(ch_names))\n",
    "    montage = make_standard_montage('standard_1020')\n",
    "    info.set_montage(montage, match_case=False)\n",
    "    \n",
    "    os.makedirs(save_dir, exist_ok=True)\n",
    "    \n",
    "    for band_name in FREQUENCY_BANDS:\n",
    "        for emotion_type in ['Valence', 'Arousal']:\n",
    "            fig, axes = create_topomap_figure(emotion_type, band_name)\n",
    "            im = None\n",
    "            \n",
    "            for i in range(9):\n",
    "                cond_name = f'{emotion_type[0]}{i+1}'\n",
    "                if (cond_name in average_results[emotion_type] and \n",
    "                    band_name in average_results[emotion_type][cond_name]):\n",
    "                    \n",
    "                    data = average_results[emotion_type][cond_name][band_name]\n",
    "                    mean_powers = np.array(data['mean'])\n",
    "                    n_subjects = data['n_subjects']\n",
    "                    \n",
    "                    if n_subjects > 0:\n",
    "                        im, _ = mne.viz.plot_topomap(mean_powers, info, \n",
    "                                                   axes=axes[i],\n",
    "                                                   show=False,\n",
    "                                                   size=2,\n",
    "                                                   extrapolate='box',\n",
    "                                                   sphere=(0.0, 0.0, 0.0, 0.09),\n",
    "                                                   names=ch_names,\n",
    "                                                   sensors=True)\n",
    "                        \n",
    "                        title = f'{cond_name}\\n(n={n_subjects} subjects)'\n",
    "                        axes[i].set_title(title)\n",
    "                        \n",
    "                        for text in axes[i].texts:\n",
    "                            text.set_fontsize(8)\n",
    "                    else:\n",
    "                        axes[i].text(0.5, 0.5, 'No Data', ha='center', va='center')\n",
    "            \n",
    "            plt.tight_layout()\n",
    "            plt.savefig(os.path.join(save_dir, f'{band_name}_{emotion_type.lower()}_average_topomap.png'), \n",
    "                       bbox_inches='tight', dpi=300)\n",
    "            plt.close()\n",
    "\n",
    "class NumpyEncoder(json.JSONEncoder):\n",
    "    \"\"\"NumPy型をJSON保存可能な型に変換するエンコーダー\"\"\"\n",
    "    def default(self, obj):\n",
    "        if isinstance(obj, np.integer):\n",
    "            return int(obj)\n",
    "        elif isinstance(obj, np.floating):\n",
    "            return float(obj)\n",
    "        elif isinstance(obj, np.ndarray):\n",
    "            return obj.tolist()\n",
    "        return super(NumpyEncoder, self).default(obj)\n",
    "\n",
    "if __name__ == \"__main__\":\n",
    "    # データディレクトリの設定\n",
    "    data_dir = \"data/data_raw_preprocessed\"\n",
    "    n_subjects = 2  # 被験者数を32に修正\n",
    "    \n",
    "    # 全被験者の結果を保存するディレクトリ\n",
    "    base_save_dir = './results/bandpower_analysis'\n",
    "    os.makedirs(base_save_dir, exist_ok=True)\n",
    "    \n",
    "    # 全被験者のデータを処理\n",
    "    all_results = {\n",
    "        'individual': {},\n",
    "        'average': {\n",
    "            'Valence': {f'V{i}': {} for i in range(1, 10)},\n",
    "            'Arousal': {f'A{i}': {} for i in range(1, 10)}\n",
    "        }\n",
    "    }\n",
    "    \n",
    "    # 被験者間の平均用データ集計\n",
    "    subject_means = {\n",
    "        'Valence': {f'V{i}': {} for i in range(1, 10)},\n",
    "        'Arousal': {f'A{i}': {} for i in range(1, 10)}\n",
    "    }\n",
    "    \n",
    "    # 各被験者のデータを処理\n",
    "    for subject in range(1, n_subjects + 1):\n",
    "        print(f\"\\nProcessing subject {subject}...\")\n",
    "        \n",
    "        file_path = os.path.join(data_dir, f\"s{subject:02d}.npy\")\n",
    "        try:\n",
    "            eeg_data, labels, _ = load_deap_data_npy(file_path, preprocessing='eeg')\n",
    "        except Exception as e:\n",
    "            print(f\"Error loading data for subject {subject}: {e}\")\n",
    "            continue\n",
    "        \n",
    "        subject_save_dir = os.path.join(base_save_dir, f's{subject:02d}')\n",
    "        results = analyze_and_visualize_bandpower(\n",
    "            eeg_data=eeg_data,\n",
    "            labels=labels,\n",
    "            save_dir=subject_save_dir\n",
    "        )\n",
    "        \n",
    "        all_results['individual'][f's{subject:02d}'] = results\n",
    "        \n",
    "        # 被験者間平均用データの集計\n",
    "        for emotion_type in ['Valence', 'Arousal']:\n",
    "            for cond_name in results['power_values'][emotion_type]:\n",
    "                for band_name in FREQUENCY_BANDS:\n",
    "                    if band_name in results['power_values'][emotion_type][cond_name]:\n",
    "                        data = results['power_values'][emotion_type][cond_name][band_name]\n",
    "                        if data['n_trials'] > 0:\n",
    "                            if band_name not in subject_means[emotion_type][cond_name]:\n",
    "                                subject_means[emotion_type][cond_name][band_name] = []\n",
    "                            \n",
    "                            subject_means[emotion_type][cond_name][band_name].append(\n",
    "                                np.array(data['mean'])\n",
    "                            )\n",
    "    \n",
    "    # 被験者間の平均と標準偏差の計算\n",
    "    print(\"\\nCalculating cross-subject averages...\")\n",
    "    for emotion_type in ['Valence', 'Arousal']:\n",
    "        for cond_name in subject_means[emotion_type]:\n",
    "            for band_name in FREQUENCY_BANDS:\n",
    "                if band_name in subject_means[emotion_type][cond_name]:\n",
    "                    means = subject_means[emotion_type][cond_name][band_name]\n",
    "                    if means:\n",
    "                        means_array = np.array(means)\n",
    "                        grand_mean = np.mean(means_array, axis=0)\n",
    "                        grand_std = np.std(means_array, axis=0)\n",
    "                        n_subjects_with_data = len(means)\n",
    "                        \n",
    "                        all_results['average'][emotion_type][cond_name][band_name] = {\n",
    "                            'mean': grand_mean.tolist(),\n",
    "                            'std': grand_std.tolist(),\n",
    "                            'n_subjects': n_subjects_with_data\n",
    "                        }\n",
    "    \n",
    "    # 結果の保存\n",
    "    print(\"\\nSaving results...\")\n",
    "    with open(os.path.join(base_save_dir, 'all_subjects_results.json'), 'w') as f:\n",
    "        json.dump(all_results, f, indent=4, cls=NumpyEncoder)\n",
    "    \n",
    "    # 平均のトポマップ作成\n",
    "    print(\"\\nCreating average topomaps...\")\n",
    "    visualize_average_topomaps(all_results['average'])\n",
    "    \n",
    "    print(\"Analysis complete!\")"
   ]
  },
  {
   "cell_type": "code",
   "execution_count": 26,
   "metadata": {},
   "outputs": [
    {
     "name": "stdout",
     "output_type": "stream",
     "text": [
      "\n",
      "Processing subject 1...\n",
      "\n",
      "Label distribution:\n",
      "Valence scores: [7. 7. 5. 7. 8. 3. 5. 3. 2. 4. 8. 2. 2. 7. 3. 2. 3. 2. 4. 7. 3. 2. 1. 8.\n",
      " 7. 2. 3. 7. 9. 4. 7. 9. 3. 2. 7. 8. 9. 8. 4. 7.]\n",
      "Arousal scores: [4. 7. 6. 7. 8. 8. 7. 6. 3. 4. 4. 5. 8. 2. 8. 7. 7. 7. 2. 7. 2. 3. 2. 8.\n",
      " 4. 8. 3. 7. 7. 3. 3. 8. 7. 7. 8. 7. 8. 3. 3. 7.]\n",
      "Valence 1: 1 trials\n",
      "Valence 2: 8 trials\n",
      "Valence 3: 7 trials\n",
      "Valence 4: 4 trials\n",
      "Valence 5: 2 trials\n",
      "Valence 6: 0 trials\n",
      "Valence 7: 10 trials\n",
      "Valence 8: 5 trials\n",
      "Valence 9: 3 trials\n",
      "Arousal 1: 0 trials\n",
      "Arousal 2: 4 trials\n",
      "Arousal 3: 7 trials\n",
      "Arousal 4: 4 trials\n",
      "Arousal 5: 1 trials\n",
      "Arousal 6: 2 trials\n",
      "Arousal 7: 13 trials\n",
      "Arousal 8: 9 trials\n",
      "Arousal 9: 0 trials\n",
      "Warning: No trials found for Valence V6\n"
     ]
    },
    {
     "name": "stderr",
     "output_type": "stream",
     "text": [
      "/var/folders/cq/ng3hfh1s6w9cv5482h3kc_t40000gn/T/ipykernel_43642/3362538243.py:138: UserWarning: This figure includes Axes that are not compatible with tight_layout, so results might be incorrect.\n",
      "  plt.tight_layout()\n"
     ]
    },
    {
     "name": "stdout",
     "output_type": "stream",
     "text": [
      "Warning: No trials found for Arousal A1\n",
      "Warning: No trials found for Arousal A9\n"
     ]
    },
    {
     "name": "stderr",
     "output_type": "stream",
     "text": [
      "/var/folders/cq/ng3hfh1s6w9cv5482h3kc_t40000gn/T/ipykernel_43642/3362538243.py:138: UserWarning: This figure includes Axes that are not compatible with tight_layout, so results might be incorrect.\n",
      "  plt.tight_layout()\n"
     ]
    },
    {
     "name": "stdout",
     "output_type": "stream",
     "text": [
      "Warning: No trials found for Valence V6\n"
     ]
    },
    {
     "name": "stderr",
     "output_type": "stream",
     "text": [
      "/var/folders/cq/ng3hfh1s6w9cv5482h3kc_t40000gn/T/ipykernel_43642/3362538243.py:138: UserWarning: This figure includes Axes that are not compatible with tight_layout, so results might be incorrect.\n",
      "  plt.tight_layout()\n"
     ]
    },
    {
     "name": "stdout",
     "output_type": "stream",
     "text": [
      "Warning: No trials found for Arousal A1\n",
      "Warning: No trials found for Arousal A9\n"
     ]
    },
    {
     "name": "stderr",
     "output_type": "stream",
     "text": [
      "/var/folders/cq/ng3hfh1s6w9cv5482h3kc_t40000gn/T/ipykernel_43642/3362538243.py:138: UserWarning: This figure includes Axes that are not compatible with tight_layout, so results might be incorrect.\n",
      "  plt.tight_layout()\n"
     ]
    },
    {
     "name": "stdout",
     "output_type": "stream",
     "text": [
      "Warning: No trials found for Valence V6\n"
     ]
    },
    {
     "name": "stderr",
     "output_type": "stream",
     "text": [
      "/var/folders/cq/ng3hfh1s6w9cv5482h3kc_t40000gn/T/ipykernel_43642/3362538243.py:138: UserWarning: This figure includes Axes that are not compatible with tight_layout, so results might be incorrect.\n",
      "  plt.tight_layout()\n"
     ]
    },
    {
     "name": "stdout",
     "output_type": "stream",
     "text": [
      "Warning: No trials found for Arousal A1\n",
      "Warning: No trials found for Arousal A9\n"
     ]
    },
    {
     "name": "stderr",
     "output_type": "stream",
     "text": [
      "/var/folders/cq/ng3hfh1s6w9cv5482h3kc_t40000gn/T/ipykernel_43642/3362538243.py:138: UserWarning: This figure includes Axes that are not compatible with tight_layout, so results might be incorrect.\n",
      "  plt.tight_layout()\n"
     ]
    },
    {
     "name": "stdout",
     "output_type": "stream",
     "text": [
      "Warning: No trials found for Valence V6\n"
     ]
    },
    {
     "name": "stderr",
     "output_type": "stream",
     "text": [
      "/var/folders/cq/ng3hfh1s6w9cv5482h3kc_t40000gn/T/ipykernel_43642/3362538243.py:138: UserWarning: This figure includes Axes that are not compatible with tight_layout, so results might be incorrect.\n",
      "  plt.tight_layout()\n"
     ]
    },
    {
     "name": "stdout",
     "output_type": "stream",
     "text": [
      "Warning: No trials found for Arousal A1\n",
      "Warning: No trials found for Arousal A9\n"
     ]
    },
    {
     "name": "stderr",
     "output_type": "stream",
     "text": [
      "/var/folders/cq/ng3hfh1s6w9cv5482h3kc_t40000gn/T/ipykernel_43642/3362538243.py:138: UserWarning: This figure includes Axes that are not compatible with tight_layout, so results might be incorrect.\n",
      "  plt.tight_layout()\n"
     ]
    },
    {
     "name": "stdout",
     "output_type": "stream",
     "text": [
      "Warning: No trials found for Valence V6\n"
     ]
    },
    {
     "name": "stderr",
     "output_type": "stream",
     "text": [
      "/var/folders/cq/ng3hfh1s6w9cv5482h3kc_t40000gn/T/ipykernel_43642/3362538243.py:138: UserWarning: This figure includes Axes that are not compatible with tight_layout, so results might be incorrect.\n",
      "  plt.tight_layout()\n"
     ]
    },
    {
     "name": "stdout",
     "output_type": "stream",
     "text": [
      "Warning: No trials found for Arousal A1\n",
      "Warning: No trials found for Arousal A9\n"
     ]
    },
    {
     "name": "stderr",
     "output_type": "stream",
     "text": [
      "/var/folders/cq/ng3hfh1s6w9cv5482h3kc_t40000gn/T/ipykernel_43642/3362538243.py:138: UserWarning: This figure includes Axes that are not compatible with tight_layout, so results might be incorrect.\n",
      "  plt.tight_layout()\n"
     ]
    },
    {
     "name": "stdout",
     "output_type": "stream",
     "text": [
      "\n",
      "Processing subject 2...\n",
      "\n",
      "Label distribution:\n",
      "Valence scores: [5. 9. 2. 4. 1. 1. 2. 5. 7. 3. 9. 8. 4. 1. 5. 5. 9. 9. 9. 8. 7. 6. 9. 9.\n",
      " 1. 9. 9. 1. 6. 9. 1. 5. 5. 9. 9. 5. 9. 5. 5. 6.]\n",
      "Arousal scores: [5. 3. 2. 7. 9. 9. 7. 8. 9. 7. 9. 6. 5. 8. 2. 5. 8. 6. 9. 7. 1. 1. 8. 9.\n",
      " 3. 5. 9. 1. 7. 7. 1. 1. 3. 5. 8. 1. 9. 1. 1. 5.]\n",
      "Valence 1: 6 trials\n",
      "Valence 2: 2 trials\n",
      "Valence 3: 1 trials\n",
      "Valence 4: 2 trials\n",
      "Valence 5: 9 trials\n",
      "Valence 6: 3 trials\n",
      "Valence 7: 2 trials\n",
      "Valence 8: 2 trials\n",
      "Valence 9: 13 trials\n",
      "Arousal 1: 8 trials\n",
      "Arousal 2: 2 trials\n",
      "Arousal 3: 3 trials\n",
      "Arousal 4: 0 trials\n",
      "Arousal 5: 6 trials\n",
      "Arousal 6: 2 trials\n",
      "Arousal 7: 6 trials\n",
      "Arousal 8: 5 trials\n",
      "Arousal 9: 8 trials\n"
     ]
    },
    {
     "name": "stderr",
     "output_type": "stream",
     "text": [
      "/var/folders/cq/ng3hfh1s6w9cv5482h3kc_t40000gn/T/ipykernel_43642/3362538243.py:138: UserWarning: This figure includes Axes that are not compatible with tight_layout, so results might be incorrect.\n",
      "  plt.tight_layout()\n"
     ]
    },
    {
     "name": "stdout",
     "output_type": "stream",
     "text": [
      "Warning: No trials found for Arousal A4\n"
     ]
    },
    {
     "name": "stderr",
     "output_type": "stream",
     "text": [
      "/var/folders/cq/ng3hfh1s6w9cv5482h3kc_t40000gn/T/ipykernel_43642/3362538243.py:138: UserWarning: This figure includes Axes that are not compatible with tight_layout, so results might be incorrect.\n",
      "  plt.tight_layout()\n",
      "/var/folders/cq/ng3hfh1s6w9cv5482h3kc_t40000gn/T/ipykernel_43642/3362538243.py:138: UserWarning: This figure includes Axes that are not compatible with tight_layout, so results might be incorrect.\n",
      "  plt.tight_layout()\n"
     ]
    },
    {
     "name": "stdout",
     "output_type": "stream",
     "text": [
      "Warning: No trials found for Arousal A4\n"
     ]
    },
    {
     "name": "stderr",
     "output_type": "stream",
     "text": [
      "/var/folders/cq/ng3hfh1s6w9cv5482h3kc_t40000gn/T/ipykernel_43642/3362538243.py:138: UserWarning: This figure includes Axes that are not compatible with tight_layout, so results might be incorrect.\n",
      "  plt.tight_layout()\n",
      "/var/folders/cq/ng3hfh1s6w9cv5482h3kc_t40000gn/T/ipykernel_43642/3362538243.py:138: UserWarning: This figure includes Axes that are not compatible with tight_layout, so results might be incorrect.\n",
      "  plt.tight_layout()\n"
     ]
    },
    {
     "name": "stdout",
     "output_type": "stream",
     "text": [
      "Warning: No trials found for Arousal A4\n"
     ]
    },
    {
     "name": "stderr",
     "output_type": "stream",
     "text": [
      "/var/folders/cq/ng3hfh1s6w9cv5482h3kc_t40000gn/T/ipykernel_43642/3362538243.py:138: UserWarning: This figure includes Axes that are not compatible with tight_layout, so results might be incorrect.\n",
      "  plt.tight_layout()\n",
      "/var/folders/cq/ng3hfh1s6w9cv5482h3kc_t40000gn/T/ipykernel_43642/3362538243.py:138: UserWarning: This figure includes Axes that are not compatible with tight_layout, so results might be incorrect.\n",
      "  plt.tight_layout()\n"
     ]
    },
    {
     "name": "stdout",
     "output_type": "stream",
     "text": [
      "Warning: No trials found for Arousal A4\n"
     ]
    },
    {
     "name": "stderr",
     "output_type": "stream",
     "text": [
      "/var/folders/cq/ng3hfh1s6w9cv5482h3kc_t40000gn/T/ipykernel_43642/3362538243.py:138: UserWarning: This figure includes Axes that are not compatible with tight_layout, so results might be incorrect.\n",
      "  plt.tight_layout()\n",
      "/var/folders/cq/ng3hfh1s6w9cv5482h3kc_t40000gn/T/ipykernel_43642/3362538243.py:138: UserWarning: This figure includes Axes that are not compatible with tight_layout, so results might be incorrect.\n",
      "  plt.tight_layout()\n"
     ]
    },
    {
     "name": "stdout",
     "output_type": "stream",
     "text": [
      "Warning: No trials found for Arousal A4\n"
     ]
    },
    {
     "name": "stderr",
     "output_type": "stream",
     "text": [
      "/var/folders/cq/ng3hfh1s6w9cv5482h3kc_t40000gn/T/ipykernel_43642/3362538243.py:138: UserWarning: This figure includes Axes that are not compatible with tight_layout, so results might be incorrect.\n",
      "  plt.tight_layout()\n"
     ]
    },
    {
     "name": "stdout",
     "output_type": "stream",
     "text": [
      "\n",
      "Processing subject 3...\n",
      "\n",
      "Label distribution:\n",
      "Valence scores: [7. 7. 3. 5. 5. 7. 5. 5. 4. 4. 7. 7. 5. 5. 4. 7. 8. 7. 5. 8. 4. 8. 5. 6.\n",
      " 3. 7. 6. 5. 5. 5. 5. 7. 4. 7. 4. 5. 4. 6. 3. 8.]\n",
      "Arousal scores: [4. 2. 1. 1. 4. 2. 5. 1. 4. 4. 4. 4. 6. 6. 6. 3. 3. 4. 6. 3. 3. 3. 4. 3.\n",
      " 5. 4. 3. 6. 4. 8. 2. 3. 5. 3. 4. 3. 2. 3. 2. 3.]\n",
      "Valence 1: 0 trials\n",
      "Valence 2: 0 trials\n",
      "Valence 3: 3 trials\n",
      "Valence 4: 7 trials\n",
      "Valence 5: 13 trials\n",
      "Valence 6: 3 trials\n",
      "Valence 7: 10 trials\n",
      "Valence 8: 4 trials\n",
      "Valence 9: 0 trials\n",
      "Arousal 1: 3 trials\n",
      "Arousal 2: 5 trials\n",
      "Arousal 3: 12 trials\n",
      "Arousal 4: 11 trials\n",
      "Arousal 5: 3 trials\n",
      "Arousal 6: 5 trials\n",
      "Arousal 7: 0 trials\n",
      "Arousal 8: 1 trials\n",
      "Arousal 9: 0 trials\n",
      "Warning: No trials found for Valence V1\n",
      "Warning: No trials found for Valence V2\n",
      "Warning: No trials found for Valence V9\n"
     ]
    },
    {
     "name": "stderr",
     "output_type": "stream",
     "text": [
      "/var/folders/cq/ng3hfh1s6w9cv5482h3kc_t40000gn/T/ipykernel_43642/3362538243.py:138: UserWarning: This figure includes Axes that are not compatible with tight_layout, so results might be incorrect.\n",
      "  plt.tight_layout()\n"
     ]
    },
    {
     "name": "stdout",
     "output_type": "stream",
     "text": [
      "Warning: No trials found for Arousal A7\n",
      "Warning: No trials found for Arousal A9\n"
     ]
    },
    {
     "name": "stderr",
     "output_type": "stream",
     "text": [
      "/var/folders/cq/ng3hfh1s6w9cv5482h3kc_t40000gn/T/ipykernel_43642/3362538243.py:138: UserWarning: This figure includes Axes that are not compatible with tight_layout, so results might be incorrect.\n",
      "  plt.tight_layout()\n"
     ]
    },
    {
     "name": "stdout",
     "output_type": "stream",
     "text": [
      "Warning: No trials found for Valence V1\n",
      "Warning: No trials found for Valence V2\n",
      "Warning: No trials found for Valence V9\n"
     ]
    },
    {
     "name": "stderr",
     "output_type": "stream",
     "text": [
      "/var/folders/cq/ng3hfh1s6w9cv5482h3kc_t40000gn/T/ipykernel_43642/3362538243.py:138: UserWarning: This figure includes Axes that are not compatible with tight_layout, so results might be incorrect.\n",
      "  plt.tight_layout()\n"
     ]
    },
    {
     "name": "stdout",
     "output_type": "stream",
     "text": [
      "Warning: No trials found for Arousal A7\n",
      "Warning: No trials found for Arousal A9\n"
     ]
    },
    {
     "name": "stderr",
     "output_type": "stream",
     "text": [
      "/var/folders/cq/ng3hfh1s6w9cv5482h3kc_t40000gn/T/ipykernel_43642/3362538243.py:138: UserWarning: This figure includes Axes that are not compatible with tight_layout, so results might be incorrect.\n",
      "  plt.tight_layout()\n"
     ]
    },
    {
     "name": "stdout",
     "output_type": "stream",
     "text": [
      "Warning: No trials found for Valence V1\n",
      "Warning: No trials found for Valence V2\n",
      "Warning: No trials found for Valence V9\n"
     ]
    },
    {
     "name": "stderr",
     "output_type": "stream",
     "text": [
      "/var/folders/cq/ng3hfh1s6w9cv5482h3kc_t40000gn/T/ipykernel_43642/3362538243.py:138: UserWarning: This figure includes Axes that are not compatible with tight_layout, so results might be incorrect.\n",
      "  plt.tight_layout()\n"
     ]
    },
    {
     "name": "stdout",
     "output_type": "stream",
     "text": [
      "Warning: No trials found for Arousal A7\n",
      "Warning: No trials found for Arousal A9\n"
     ]
    },
    {
     "name": "stderr",
     "output_type": "stream",
     "text": [
      "/var/folders/cq/ng3hfh1s6w9cv5482h3kc_t40000gn/T/ipykernel_43642/3362538243.py:138: UserWarning: This figure includes Axes that are not compatible with tight_layout, so results might be incorrect.\n",
      "  plt.tight_layout()\n"
     ]
    },
    {
     "name": "stdout",
     "output_type": "stream",
     "text": [
      "Warning: No trials found for Valence V1\n",
      "Warning: No trials found for Valence V2\n",
      "Warning: No trials found for Valence V9\n"
     ]
    },
    {
     "name": "stderr",
     "output_type": "stream",
     "text": [
      "/var/folders/cq/ng3hfh1s6w9cv5482h3kc_t40000gn/T/ipykernel_43642/3362538243.py:138: UserWarning: This figure includes Axes that are not compatible with tight_layout, so results might be incorrect.\n",
      "  plt.tight_layout()\n"
     ]
    },
    {
     "name": "stdout",
     "output_type": "stream",
     "text": [
      "Warning: No trials found for Arousal A7\n",
      "Warning: No trials found for Arousal A9\n"
     ]
    },
    {
     "name": "stderr",
     "output_type": "stream",
     "text": [
      "/var/folders/cq/ng3hfh1s6w9cv5482h3kc_t40000gn/T/ipykernel_43642/3362538243.py:138: UserWarning: This figure includes Axes that are not compatible with tight_layout, so results might be incorrect.\n",
      "  plt.tight_layout()\n"
     ]
    },
    {
     "name": "stdout",
     "output_type": "stream",
     "text": [
      "Warning: No trials found for Valence V1\n",
      "Warning: No trials found for Valence V2\n",
      "Warning: No trials found for Valence V9\n"
     ]
    },
    {
     "name": "stderr",
     "output_type": "stream",
     "text": [
      "/var/folders/cq/ng3hfh1s6w9cv5482h3kc_t40000gn/T/ipykernel_43642/3362538243.py:138: UserWarning: This figure includes Axes that are not compatible with tight_layout, so results might be incorrect.\n",
      "  plt.tight_layout()\n"
     ]
    },
    {
     "name": "stdout",
     "output_type": "stream",
     "text": [
      "Warning: No trials found for Arousal A7\n",
      "Warning: No trials found for Arousal A9\n"
     ]
    },
    {
     "name": "stderr",
     "output_type": "stream",
     "text": [
      "/var/folders/cq/ng3hfh1s6w9cv5482h3kc_t40000gn/T/ipykernel_43642/3362538243.py:138: UserWarning: This figure includes Axes that are not compatible with tight_layout, so results might be incorrect.\n",
      "  plt.tight_layout()\n"
     ]
    },
    {
     "name": "stdout",
     "output_type": "stream",
     "text": [
      "\n",
      "Processing subject 4...\n",
      "\n",
      "Label distribution:\n",
      "Valence scores: [8. 3. 7. 5. 3. 3. 6. 5. 2. 7. 2. 6. 4. 6. 7. 7. 2. 9. 7. 2. 2. 2. 1. 3.\n",
      " 3. 6. 2. 7. 2. 2. 2. 4. 7. 6. 4. 1. 3. 2. 5. 1.]\n",
      "Arousal scores: [8. 3. 7. 5. 4. 2. 4. 3. 3. 6. 2. 4. 3. 5. 6. 7. 3. 8. 7. 2. 2. 2. 1. 3.\n",
      " 5. 6. 5. 5. 7. 3. 2. 5. 6. 4. 5. 2. 3. 3. 3. 6.]\n",
      "Valence 1: 3 trials\n",
      "Valence 2: 11 trials\n",
      "Valence 3: 6 trials\n",
      "Valence 4: 3 trials\n",
      "Valence 5: 3 trials\n",
      "Valence 6: 5 trials\n",
      "Valence 7: 7 trials\n",
      "Valence 8: 1 trials\n",
      "Valence 9: 1 trials\n",
      "Arousal 1: 1 trials\n",
      "Arousal 2: 7 trials\n",
      "Arousal 3: 10 trials\n",
      "Arousal 4: 4 trials\n",
      "Arousal 5: 7 trials\n",
      "Arousal 6: 5 trials\n",
      "Arousal 7: 4 trials\n",
      "Arousal 8: 2 trials\n",
      "Arousal 9: 0 trials\n"
     ]
    },
    {
     "name": "stderr",
     "output_type": "stream",
     "text": [
      "/var/folders/cq/ng3hfh1s6w9cv5482h3kc_t40000gn/T/ipykernel_43642/3362538243.py:138: UserWarning: This figure includes Axes that are not compatible with tight_layout, so results might be incorrect.\n",
      "  plt.tight_layout()\n"
     ]
    },
    {
     "name": "stdout",
     "output_type": "stream",
     "text": [
      "Warning: No trials found for Arousal A9\n"
     ]
    },
    {
     "name": "stderr",
     "output_type": "stream",
     "text": [
      "/var/folders/cq/ng3hfh1s6w9cv5482h3kc_t40000gn/T/ipykernel_43642/3362538243.py:138: UserWarning: This figure includes Axes that are not compatible with tight_layout, so results might be incorrect.\n",
      "  plt.tight_layout()\n",
      "/var/folders/cq/ng3hfh1s6w9cv5482h3kc_t40000gn/T/ipykernel_43642/3362538243.py:138: UserWarning: This figure includes Axes that are not compatible with tight_layout, so results might be incorrect.\n",
      "  plt.tight_layout()\n"
     ]
    },
    {
     "name": "stdout",
     "output_type": "stream",
     "text": [
      "Warning: No trials found for Arousal A9\n"
     ]
    },
    {
     "name": "stderr",
     "output_type": "stream",
     "text": [
      "/var/folders/cq/ng3hfh1s6w9cv5482h3kc_t40000gn/T/ipykernel_43642/3362538243.py:138: UserWarning: This figure includes Axes that are not compatible with tight_layout, so results might be incorrect.\n",
      "  plt.tight_layout()\n",
      "/var/folders/cq/ng3hfh1s6w9cv5482h3kc_t40000gn/T/ipykernel_43642/3362538243.py:138: UserWarning: This figure includes Axes that are not compatible with tight_layout, so results might be incorrect.\n",
      "  plt.tight_layout()\n"
     ]
    },
    {
     "name": "stdout",
     "output_type": "stream",
     "text": [
      "Warning: No trials found for Arousal A9\n"
     ]
    },
    {
     "name": "stderr",
     "output_type": "stream",
     "text": [
      "/var/folders/cq/ng3hfh1s6w9cv5482h3kc_t40000gn/T/ipykernel_43642/3362538243.py:138: UserWarning: This figure includes Axes that are not compatible with tight_layout, so results might be incorrect.\n",
      "  plt.tight_layout()\n",
      "/var/folders/cq/ng3hfh1s6w9cv5482h3kc_t40000gn/T/ipykernel_43642/3362538243.py:138: UserWarning: This figure includes Axes that are not compatible with tight_layout, so results might be incorrect.\n",
      "  plt.tight_layout()\n"
     ]
    },
    {
     "name": "stdout",
     "output_type": "stream",
     "text": [
      "Warning: No trials found for Arousal A9\n"
     ]
    },
    {
     "name": "stderr",
     "output_type": "stream",
     "text": [
      "/var/folders/cq/ng3hfh1s6w9cv5482h3kc_t40000gn/T/ipykernel_43642/3362538243.py:138: UserWarning: This figure includes Axes that are not compatible with tight_layout, so results might be incorrect.\n",
      "  plt.tight_layout()\n",
      "/var/folders/cq/ng3hfh1s6w9cv5482h3kc_t40000gn/T/ipykernel_43642/3362538243.py:138: UserWarning: This figure includes Axes that are not compatible with tight_layout, so results might be incorrect.\n",
      "  plt.tight_layout()\n"
     ]
    },
    {
     "name": "stdout",
     "output_type": "stream",
     "text": [
      "Warning: No trials found for Arousal A9\n"
     ]
    },
    {
     "name": "stderr",
     "output_type": "stream",
     "text": [
      "/var/folders/cq/ng3hfh1s6w9cv5482h3kc_t40000gn/T/ipykernel_43642/3362538243.py:138: UserWarning: This figure includes Axes that are not compatible with tight_layout, so results might be incorrect.\n",
      "  plt.tight_layout()\n"
     ]
    },
    {
     "name": "stdout",
     "output_type": "stream",
     "text": [
      "\n",
      "Processing subject 5...\n",
      "\n",
      "Label distribution:\n",
      "Valence scores: [7. 7. 2. 8. 6. 8. 9. 9. 2. 5. 7. 1. 7. 7. 8. 3. 7. 5. 4. 6. 5. 8. 4. 3.\n",
      " 4. 5. 7. 7. 7. 3. 6. 4. 5. 5. 7. 7. 8. 8. 1. 1.]\n",
      "Arousal scores: [7. 4. 7. 3. 5. 5. 6. 9. 4. 7. 2. 4. 3. 5. 4. 4. 6. 3. 5. 7. 9. 5. 3. 8.\n",
      " 3. 9. 2. 4. 6. 4. 5. 4. 8. 5. 8. 5. 6. 7. 5. 7.]\n",
      "Valence 1: 3 trials\n",
      "Valence 2: 2 trials\n",
      "Valence 3: 3 trials\n",
      "Valence 4: 4 trials\n",
      "Valence 5: 6 trials\n",
      "Valence 6: 3 trials\n",
      "Valence 7: 11 trials\n",
      "Valence 8: 6 trials\n",
      "Valence 9: 2 trials\n",
      "Arousal 1: 0 trials\n",
      "Arousal 2: 2 trials\n",
      "Arousal 3: 5 trials\n",
      "Arousal 4: 8 trials\n",
      "Arousal 5: 9 trials\n",
      "Arousal 6: 4 trials\n",
      "Arousal 7: 6 trials\n",
      "Arousal 8: 3 trials\n",
      "Arousal 9: 3 trials\n"
     ]
    },
    {
     "name": "stderr",
     "output_type": "stream",
     "text": [
      "/var/folders/cq/ng3hfh1s6w9cv5482h3kc_t40000gn/T/ipykernel_43642/3362538243.py:138: UserWarning: This figure includes Axes that are not compatible with tight_layout, so results might be incorrect.\n",
      "  plt.tight_layout()\n"
     ]
    },
    {
     "name": "stdout",
     "output_type": "stream",
     "text": [
      "Warning: No trials found for Arousal A1\n"
     ]
    },
    {
     "name": "stderr",
     "output_type": "stream",
     "text": [
      "/var/folders/cq/ng3hfh1s6w9cv5482h3kc_t40000gn/T/ipykernel_43642/3362538243.py:138: UserWarning: This figure includes Axes that are not compatible with tight_layout, so results might be incorrect.\n",
      "  plt.tight_layout()\n",
      "/var/folders/cq/ng3hfh1s6w9cv5482h3kc_t40000gn/T/ipykernel_43642/3362538243.py:138: UserWarning: This figure includes Axes that are not compatible with tight_layout, so results might be incorrect.\n",
      "  plt.tight_layout()\n"
     ]
    },
    {
     "name": "stdout",
     "output_type": "stream",
     "text": [
      "Warning: No trials found for Arousal A1\n"
     ]
    },
    {
     "name": "stderr",
     "output_type": "stream",
     "text": [
      "/var/folders/cq/ng3hfh1s6w9cv5482h3kc_t40000gn/T/ipykernel_43642/3362538243.py:138: UserWarning: This figure includes Axes that are not compatible with tight_layout, so results might be incorrect.\n",
      "  plt.tight_layout()\n",
      "/var/folders/cq/ng3hfh1s6w9cv5482h3kc_t40000gn/T/ipykernel_43642/3362538243.py:138: UserWarning: This figure includes Axes that are not compatible with tight_layout, so results might be incorrect.\n",
      "  plt.tight_layout()\n"
     ]
    },
    {
     "name": "stdout",
     "output_type": "stream",
     "text": [
      "Warning: No trials found for Arousal A1\n"
     ]
    },
    {
     "name": "stderr",
     "output_type": "stream",
     "text": [
      "/var/folders/cq/ng3hfh1s6w9cv5482h3kc_t40000gn/T/ipykernel_43642/3362538243.py:138: UserWarning: This figure includes Axes that are not compatible with tight_layout, so results might be incorrect.\n",
      "  plt.tight_layout()\n",
      "/var/folders/cq/ng3hfh1s6w9cv5482h3kc_t40000gn/T/ipykernel_43642/3362538243.py:138: UserWarning: This figure includes Axes that are not compatible with tight_layout, so results might be incorrect.\n",
      "  plt.tight_layout()\n"
     ]
    },
    {
     "name": "stdout",
     "output_type": "stream",
     "text": [
      "Warning: No trials found for Arousal A1\n"
     ]
    },
    {
     "name": "stderr",
     "output_type": "stream",
     "text": [
      "/var/folders/cq/ng3hfh1s6w9cv5482h3kc_t40000gn/T/ipykernel_43642/3362538243.py:138: UserWarning: This figure includes Axes that are not compatible with tight_layout, so results might be incorrect.\n",
      "  plt.tight_layout()\n",
      "/var/folders/cq/ng3hfh1s6w9cv5482h3kc_t40000gn/T/ipykernel_43642/3362538243.py:138: UserWarning: This figure includes Axes that are not compatible with tight_layout, so results might be incorrect.\n",
      "  plt.tight_layout()\n"
     ]
    },
    {
     "name": "stdout",
     "output_type": "stream",
     "text": [
      "Warning: No trials found for Arousal A1\n"
     ]
    },
    {
     "name": "stderr",
     "output_type": "stream",
     "text": [
      "/var/folders/cq/ng3hfh1s6w9cv5482h3kc_t40000gn/T/ipykernel_43642/3362538243.py:138: UserWarning: This figure includes Axes that are not compatible with tight_layout, so results might be incorrect.\n",
      "  plt.tight_layout()\n"
     ]
    },
    {
     "name": "stdout",
     "output_type": "stream",
     "text": [
      "\n",
      "Processing subject 6...\n",
      "\n",
      "Label distribution:\n",
      "Valence scores: [4. 7. 4. 5. 7. 5. 8. 8. 6. 5. 7. 7. 5. 5. 6. 6. 6. 3. 5. 4. 7. 6. 7. 7.\n",
      " 8. 8. 5. 3. 7. 8. 7. 8. 7. 8. 4. 7. 8. 7. 8. 4.]\n",
      "Arousal scores: [3. 7. 6. 3. 4. 2. 6. 8. 4. 3. 4. 5. 6. 7. 5. 3. 6. 4. 3. 4. 6. 4. 7. 3.\n",
      " 4. 5. 5. 4. 6. 6. 6. 7. 4. 3. 5. 4. 4. 3. 4. 6.]\n",
      "Valence 1: 0 trials\n",
      "Valence 2: 0 trials\n",
      "Valence 3: 2 trials\n",
      "Valence 4: 5 trials\n",
      "Valence 5: 7 trials\n",
      "Valence 6: 5 trials\n",
      "Valence 7: 12 trials\n",
      "Valence 8: 9 trials\n",
      "Valence 9: 0 trials\n",
      "Arousal 1: 0 trials\n",
      "Arousal 2: 1 trials\n",
      "Arousal 3: 8 trials\n",
      "Arousal 4: 12 trials\n",
      "Arousal 5: 5 trials\n",
      "Arousal 6: 9 trials\n",
      "Arousal 7: 4 trials\n",
      "Arousal 8: 1 trials\n",
      "Arousal 9: 0 trials\n",
      "Warning: No trials found for Valence V1\n",
      "Warning: No trials found for Valence V2\n",
      "Warning: No trials found for Valence V9\n"
     ]
    },
    {
     "name": "stderr",
     "output_type": "stream",
     "text": [
      "/var/folders/cq/ng3hfh1s6w9cv5482h3kc_t40000gn/T/ipykernel_43642/3362538243.py:138: UserWarning: This figure includes Axes that are not compatible with tight_layout, so results might be incorrect.\n",
      "  plt.tight_layout()\n"
     ]
    },
    {
     "name": "stdout",
     "output_type": "stream",
     "text": [
      "Warning: No trials found for Arousal A1\n",
      "Warning: No trials found for Arousal A9\n"
     ]
    },
    {
     "name": "stderr",
     "output_type": "stream",
     "text": [
      "/var/folders/cq/ng3hfh1s6w9cv5482h3kc_t40000gn/T/ipykernel_43642/3362538243.py:138: UserWarning: This figure includes Axes that are not compatible with tight_layout, so results might be incorrect.\n",
      "  plt.tight_layout()\n"
     ]
    },
    {
     "name": "stdout",
     "output_type": "stream",
     "text": [
      "Warning: No trials found for Valence V1\n",
      "Warning: No trials found for Valence V2\n",
      "Warning: No trials found for Valence V9\n"
     ]
    },
    {
     "name": "stderr",
     "output_type": "stream",
     "text": [
      "/var/folders/cq/ng3hfh1s6w9cv5482h3kc_t40000gn/T/ipykernel_43642/3362538243.py:138: UserWarning: This figure includes Axes that are not compatible with tight_layout, so results might be incorrect.\n",
      "  plt.tight_layout()\n"
     ]
    },
    {
     "name": "stdout",
     "output_type": "stream",
     "text": [
      "Warning: No trials found for Arousal A1\n",
      "Warning: No trials found for Arousal A9\n"
     ]
    },
    {
     "name": "stderr",
     "output_type": "stream",
     "text": [
      "/var/folders/cq/ng3hfh1s6w9cv5482h3kc_t40000gn/T/ipykernel_43642/3362538243.py:138: UserWarning: This figure includes Axes that are not compatible with tight_layout, so results might be incorrect.\n",
      "  plt.tight_layout()\n"
     ]
    },
    {
     "name": "stdout",
     "output_type": "stream",
     "text": [
      "Warning: No trials found for Valence V1\n",
      "Warning: No trials found for Valence V2\n",
      "Warning: No trials found for Valence V9\n"
     ]
    },
    {
     "name": "stderr",
     "output_type": "stream",
     "text": [
      "/var/folders/cq/ng3hfh1s6w9cv5482h3kc_t40000gn/T/ipykernel_43642/3362538243.py:138: UserWarning: This figure includes Axes that are not compatible with tight_layout, so results might be incorrect.\n",
      "  plt.tight_layout()\n"
     ]
    },
    {
     "name": "stdout",
     "output_type": "stream",
     "text": [
      "Warning: No trials found for Arousal A1\n",
      "Warning: No trials found for Arousal A9\n"
     ]
    },
    {
     "name": "stderr",
     "output_type": "stream",
     "text": [
      "/var/folders/cq/ng3hfh1s6w9cv5482h3kc_t40000gn/T/ipykernel_43642/3362538243.py:138: UserWarning: This figure includes Axes that are not compatible with tight_layout, so results might be incorrect.\n",
      "  plt.tight_layout()\n"
     ]
    },
    {
     "name": "stdout",
     "output_type": "stream",
     "text": [
      "Warning: No trials found for Valence V1\n",
      "Warning: No trials found for Valence V2\n",
      "Warning: No trials found for Valence V9\n"
     ]
    },
    {
     "name": "stderr",
     "output_type": "stream",
     "text": [
      "/var/folders/cq/ng3hfh1s6w9cv5482h3kc_t40000gn/T/ipykernel_43642/3362538243.py:138: UserWarning: This figure includes Axes that are not compatible with tight_layout, so results might be incorrect.\n",
      "  plt.tight_layout()\n"
     ]
    },
    {
     "name": "stdout",
     "output_type": "stream",
     "text": [
      "Warning: No trials found for Arousal A1\n",
      "Warning: No trials found for Arousal A9\n"
     ]
    },
    {
     "name": "stderr",
     "output_type": "stream",
     "text": [
      "/var/folders/cq/ng3hfh1s6w9cv5482h3kc_t40000gn/T/ipykernel_43642/3362538243.py:138: UserWarning: This figure includes Axes that are not compatible with tight_layout, so results might be incorrect.\n",
      "  plt.tight_layout()\n"
     ]
    },
    {
     "name": "stdout",
     "output_type": "stream",
     "text": [
      "Warning: No trials found for Valence V1\n",
      "Warning: No trials found for Valence V2\n",
      "Warning: No trials found for Valence V9\n"
     ]
    },
    {
     "name": "stderr",
     "output_type": "stream",
     "text": [
      "/var/folders/cq/ng3hfh1s6w9cv5482h3kc_t40000gn/T/ipykernel_43642/3362538243.py:138: UserWarning: This figure includes Axes that are not compatible with tight_layout, so results might be incorrect.\n",
      "  plt.tight_layout()\n"
     ]
    },
    {
     "name": "stdout",
     "output_type": "stream",
     "text": [
      "Warning: No trials found for Arousal A1\n",
      "Warning: No trials found for Arousal A9\n"
     ]
    },
    {
     "name": "stderr",
     "output_type": "stream",
     "text": [
      "/var/folders/cq/ng3hfh1s6w9cv5482h3kc_t40000gn/T/ipykernel_43642/3362538243.py:138: UserWarning: This figure includes Axes that are not compatible with tight_layout, so results might be incorrect.\n",
      "  plt.tight_layout()\n"
     ]
    },
    {
     "name": "stdout",
     "output_type": "stream",
     "text": [
      "\n",
      "Processing subject 7...\n",
      "\n",
      "Label distribution:\n",
      "Valence scores: [7. 6. 3. 7. 7. 7. 2. 4. 5. 7. 5. 3. 7. 5. 7. 3. 7. 8. 7. 7. 7. 7. 8. 7.\n",
      " 7. 3. 7. 8. 3. 5. 5. 8. 7. 7. 7. 2. 7. 8. 2. 3.]\n",
      "Arousal scores: [2. 3. 6. 3. 4. 5. 4. 7. 7. 6. 7. 3. 3. 7. 6. 2. 4. 3. 6. 7. 6. 7. 6. 7.\n",
      " 7. 6. 7. 4. 3. 8. 7. 3. 5. 7. 7. 7. 4. 9. 2. 5.]\n",
      "Valence 1: 0 trials\n",
      "Valence 2: 3 trials\n",
      "Valence 3: 6 trials\n",
      "Valence 4: 1 trials\n",
      "Valence 5: 5 trials\n",
      "Valence 6: 1 trials\n",
      "Valence 7: 19 trials\n",
      "Valence 8: 5 trials\n",
      "Valence 9: 0 trials\n",
      "Arousal 1: 0 trials\n",
      "Arousal 2: 3 trials\n",
      "Arousal 3: 7 trials\n",
      "Arousal 4: 5 trials\n",
      "Arousal 5: 3 trials\n",
      "Arousal 6: 7 trials\n",
      "Arousal 7: 13 trials\n",
      "Arousal 8: 1 trials\n",
      "Arousal 9: 1 trials\n",
      "Warning: No trials found for Valence V1\n",
      "Warning: No trials found for Valence V9\n"
     ]
    },
    {
     "name": "stderr",
     "output_type": "stream",
     "text": [
      "/var/folders/cq/ng3hfh1s6w9cv5482h3kc_t40000gn/T/ipykernel_43642/3362538243.py:138: UserWarning: This figure includes Axes that are not compatible with tight_layout, so results might be incorrect.\n",
      "  plt.tight_layout()\n"
     ]
    },
    {
     "name": "stdout",
     "output_type": "stream",
     "text": [
      "Warning: No trials found for Arousal A1\n"
     ]
    },
    {
     "name": "stderr",
     "output_type": "stream",
     "text": [
      "/var/folders/cq/ng3hfh1s6w9cv5482h3kc_t40000gn/T/ipykernel_43642/3362538243.py:138: UserWarning: This figure includes Axes that are not compatible with tight_layout, so results might be incorrect.\n",
      "  plt.tight_layout()\n"
     ]
    },
    {
     "name": "stdout",
     "output_type": "stream",
     "text": [
      "Warning: No trials found for Valence V1\n",
      "Warning: No trials found for Valence V9\n"
     ]
    },
    {
     "name": "stderr",
     "output_type": "stream",
     "text": [
      "/var/folders/cq/ng3hfh1s6w9cv5482h3kc_t40000gn/T/ipykernel_43642/3362538243.py:138: UserWarning: This figure includes Axes that are not compatible with tight_layout, so results might be incorrect.\n",
      "  plt.tight_layout()\n"
     ]
    },
    {
     "name": "stdout",
     "output_type": "stream",
     "text": [
      "Warning: No trials found for Arousal A1\n"
     ]
    },
    {
     "name": "stderr",
     "output_type": "stream",
     "text": [
      "/var/folders/cq/ng3hfh1s6w9cv5482h3kc_t40000gn/T/ipykernel_43642/3362538243.py:138: UserWarning: This figure includes Axes that are not compatible with tight_layout, so results might be incorrect.\n",
      "  plt.tight_layout()\n"
     ]
    },
    {
     "name": "stdout",
     "output_type": "stream",
     "text": [
      "Warning: No trials found for Valence V1\n",
      "Warning: No trials found for Valence V9\n"
     ]
    },
    {
     "name": "stderr",
     "output_type": "stream",
     "text": [
      "/var/folders/cq/ng3hfh1s6w9cv5482h3kc_t40000gn/T/ipykernel_43642/3362538243.py:138: UserWarning: This figure includes Axes that are not compatible with tight_layout, so results might be incorrect.\n",
      "  plt.tight_layout()\n"
     ]
    },
    {
     "name": "stdout",
     "output_type": "stream",
     "text": [
      "Warning: No trials found for Arousal A1\n"
     ]
    },
    {
     "name": "stderr",
     "output_type": "stream",
     "text": [
      "/var/folders/cq/ng3hfh1s6w9cv5482h3kc_t40000gn/T/ipykernel_43642/3362538243.py:138: UserWarning: This figure includes Axes that are not compatible with tight_layout, so results might be incorrect.\n",
      "  plt.tight_layout()\n"
     ]
    },
    {
     "name": "stdout",
     "output_type": "stream",
     "text": [
      "Warning: No trials found for Valence V1\n",
      "Warning: No trials found for Valence V9\n"
     ]
    },
    {
     "name": "stderr",
     "output_type": "stream",
     "text": [
      "/var/folders/cq/ng3hfh1s6w9cv5482h3kc_t40000gn/T/ipykernel_43642/3362538243.py:138: UserWarning: This figure includes Axes that are not compatible with tight_layout, so results might be incorrect.\n",
      "  plt.tight_layout()\n"
     ]
    },
    {
     "name": "stdout",
     "output_type": "stream",
     "text": [
      "Warning: No trials found for Arousal A1\n"
     ]
    },
    {
     "name": "stderr",
     "output_type": "stream",
     "text": [
      "/var/folders/cq/ng3hfh1s6w9cv5482h3kc_t40000gn/T/ipykernel_43642/3362538243.py:138: UserWarning: This figure includes Axes that are not compatible with tight_layout, so results might be incorrect.\n",
      "  plt.tight_layout()\n"
     ]
    },
    {
     "name": "stdout",
     "output_type": "stream",
     "text": [
      "Warning: No trials found for Valence V1\n",
      "Warning: No trials found for Valence V9\n"
     ]
    },
    {
     "name": "stderr",
     "output_type": "stream",
     "text": [
      "/var/folders/cq/ng3hfh1s6w9cv5482h3kc_t40000gn/T/ipykernel_43642/3362538243.py:138: UserWarning: This figure includes Axes that are not compatible with tight_layout, so results might be incorrect.\n",
      "  plt.tight_layout()\n"
     ]
    },
    {
     "name": "stdout",
     "output_type": "stream",
     "text": [
      "Warning: No trials found for Arousal A1\n"
     ]
    },
    {
     "name": "stderr",
     "output_type": "stream",
     "text": [
      "/var/folders/cq/ng3hfh1s6w9cv5482h3kc_t40000gn/T/ipykernel_43642/3362538243.py:138: UserWarning: This figure includes Axes that are not compatible with tight_layout, so results might be incorrect.\n",
      "  plt.tight_layout()\n"
     ]
    },
    {
     "name": "stdout",
     "output_type": "stream",
     "text": [
      "\n",
      "Processing subject 8...\n",
      "\n",
      "Label distribution:\n",
      "Valence scores: [4. 5. 9. 6. 1. 8. 5. 4. 7. 9. 7. 4. 7. 8. 5. 4. 3. 4. 1. 3. 5. 8. 5. 4.\n",
      " 8. 7. 4. 5. 4. 5. 7. 5. 5. 5. 8. 1. 5. 7. 4. 8.]\n",
      "Arousal scores: [6. 7. 7. 8. 3. 5. 5. 4. 8. 6. 4. 5. 5. 5. 5. 5. 5. 7. 7. 3. 5. 7. 6. 6.\n",
      " 5. 4. 8. 6. 5. 3. 7. 5. 3. 4. 7. 8. 7. 5. 4. 7.]\n",
      "Valence 1: 3 trials\n",
      "Valence 2: 0 trials\n",
      "Valence 3: 2 trials\n",
      "Valence 4: 9 trials\n",
      "Valence 5: 11 trials\n",
      "Valence 6: 1 trials\n",
      "Valence 7: 6 trials\n",
      "Valence 8: 6 trials\n",
      "Valence 9: 2 trials\n",
      "Arousal 1: 0 trials\n",
      "Arousal 2: 0 trials\n",
      "Arousal 3: 4 trials\n",
      "Arousal 4: 5 trials\n",
      "Arousal 5: 13 trials\n",
      "Arousal 6: 5 trials\n",
      "Arousal 7: 9 trials\n",
      "Arousal 8: 4 trials\n",
      "Arousal 9: 0 trials\n",
      "Warning: No trials found for Valence V2\n"
     ]
    },
    {
     "name": "stderr",
     "output_type": "stream",
     "text": [
      "/var/folders/cq/ng3hfh1s6w9cv5482h3kc_t40000gn/T/ipykernel_43642/3362538243.py:138: UserWarning: This figure includes Axes that are not compatible with tight_layout, so results might be incorrect.\n",
      "  plt.tight_layout()\n"
     ]
    },
    {
     "name": "stdout",
     "output_type": "stream",
     "text": [
      "Warning: No trials found for Arousal A1\n",
      "Warning: No trials found for Arousal A2\n",
      "Warning: No trials found for Arousal A9\n"
     ]
    },
    {
     "name": "stderr",
     "output_type": "stream",
     "text": [
      "/var/folders/cq/ng3hfh1s6w9cv5482h3kc_t40000gn/T/ipykernel_43642/3362538243.py:138: UserWarning: This figure includes Axes that are not compatible with tight_layout, so results might be incorrect.\n",
      "  plt.tight_layout()\n"
     ]
    },
    {
     "name": "stdout",
     "output_type": "stream",
     "text": [
      "Warning: No trials found for Valence V2\n"
     ]
    },
    {
     "name": "stderr",
     "output_type": "stream",
     "text": [
      "/var/folders/cq/ng3hfh1s6w9cv5482h3kc_t40000gn/T/ipykernel_43642/3362538243.py:138: UserWarning: This figure includes Axes that are not compatible with tight_layout, so results might be incorrect.\n",
      "  plt.tight_layout()\n"
     ]
    },
    {
     "name": "stdout",
     "output_type": "stream",
     "text": [
      "Warning: No trials found for Arousal A1\n",
      "Warning: No trials found for Arousal A2\n",
      "Warning: No trials found for Arousal A9\n"
     ]
    },
    {
     "name": "stderr",
     "output_type": "stream",
     "text": [
      "/var/folders/cq/ng3hfh1s6w9cv5482h3kc_t40000gn/T/ipykernel_43642/3362538243.py:138: UserWarning: This figure includes Axes that are not compatible with tight_layout, so results might be incorrect.\n",
      "  plt.tight_layout()\n"
     ]
    },
    {
     "name": "stdout",
     "output_type": "stream",
     "text": [
      "Warning: No trials found for Valence V2\n"
     ]
    },
    {
     "name": "stderr",
     "output_type": "stream",
     "text": [
      "/var/folders/cq/ng3hfh1s6w9cv5482h3kc_t40000gn/T/ipykernel_43642/3362538243.py:138: UserWarning: This figure includes Axes that are not compatible with tight_layout, so results might be incorrect.\n",
      "  plt.tight_layout()\n"
     ]
    },
    {
     "name": "stdout",
     "output_type": "stream",
     "text": [
      "Warning: No trials found for Arousal A1\n",
      "Warning: No trials found for Arousal A2\n",
      "Warning: No trials found for Arousal A9\n"
     ]
    },
    {
     "name": "stderr",
     "output_type": "stream",
     "text": [
      "/var/folders/cq/ng3hfh1s6w9cv5482h3kc_t40000gn/T/ipykernel_43642/3362538243.py:138: UserWarning: This figure includes Axes that are not compatible with tight_layout, so results might be incorrect.\n",
      "  plt.tight_layout()\n"
     ]
    },
    {
     "name": "stdout",
     "output_type": "stream",
     "text": [
      "Warning: No trials found for Valence V2\n"
     ]
    },
    {
     "name": "stderr",
     "output_type": "stream",
     "text": [
      "/var/folders/cq/ng3hfh1s6w9cv5482h3kc_t40000gn/T/ipykernel_43642/3362538243.py:138: UserWarning: This figure includes Axes that are not compatible with tight_layout, so results might be incorrect.\n",
      "  plt.tight_layout()\n"
     ]
    },
    {
     "name": "stdout",
     "output_type": "stream",
     "text": [
      "Warning: No trials found for Arousal A1\n",
      "Warning: No trials found for Arousal A2\n",
      "Warning: No trials found for Arousal A9\n"
     ]
    },
    {
     "name": "stderr",
     "output_type": "stream",
     "text": [
      "/var/folders/cq/ng3hfh1s6w9cv5482h3kc_t40000gn/T/ipykernel_43642/3362538243.py:138: UserWarning: This figure includes Axes that are not compatible with tight_layout, so results might be incorrect.\n",
      "  plt.tight_layout()\n"
     ]
    },
    {
     "name": "stdout",
     "output_type": "stream",
     "text": [
      "Warning: No trials found for Valence V2\n"
     ]
    },
    {
     "name": "stderr",
     "output_type": "stream",
     "text": [
      "/var/folders/cq/ng3hfh1s6w9cv5482h3kc_t40000gn/T/ipykernel_43642/3362538243.py:138: UserWarning: This figure includes Axes that are not compatible with tight_layout, so results might be incorrect.\n",
      "  plt.tight_layout()\n"
     ]
    },
    {
     "name": "stdout",
     "output_type": "stream",
     "text": [
      "Warning: No trials found for Arousal A1\n",
      "Warning: No trials found for Arousal A2\n",
      "Warning: No trials found for Arousal A9\n"
     ]
    },
    {
     "name": "stderr",
     "output_type": "stream",
     "text": [
      "/var/folders/cq/ng3hfh1s6w9cv5482h3kc_t40000gn/T/ipykernel_43642/3362538243.py:138: UserWarning: This figure includes Axes that are not compatible with tight_layout, so results might be incorrect.\n",
      "  plt.tight_layout()\n"
     ]
    },
    {
     "name": "stdout",
     "output_type": "stream",
     "text": [
      "\n",
      "Processing subject 9...\n",
      "\n",
      "Label distribution:\n",
      "Valence scores: [5. 6. 5. 4. 7. 3. 6. 4. 5. 3. 4. 4. 5. 7. 6. 5. 5. 7. 4. 7. 5. 5. 4. 5.\n",
      " 3. 3. 7. 6. 5. 4. 4. 7. 3. 3. 8. 6. 3. 6. 4. 3.]\n",
      "Arousal scores: [4. 4. 5. 4. 6. 6. 6. 5. 5. 6. 4. 6. 5. 7. 6. 5. 4. 6. 4. 7. 5. 6. 4. 5.\n",
      " 7. 6. 7. 6. 5. 4. 4. 6. 7. 6. 7. 6. 6. 5. 4. 4.]\n",
      "Valence 1: 0 trials\n",
      "Valence 2: 0 trials\n",
      "Valence 3: 8 trials\n",
      "Valence 4: 9 trials\n",
      "Valence 5: 10 trials\n",
      "Valence 6: 6 trials\n",
      "Valence 7: 6 trials\n",
      "Valence 8: 1 trials\n",
      "Valence 9: 0 trials\n",
      "Arousal 1: 0 trials\n",
      "Arousal 2: 0 trials\n",
      "Arousal 3: 0 trials\n",
      "Arousal 4: 11 trials\n",
      "Arousal 5: 9 trials\n",
      "Arousal 6: 14 trials\n",
      "Arousal 7: 6 trials\n",
      "Arousal 8: 0 trials\n",
      "Arousal 9: 0 trials\n",
      "Warning: No trials found for Valence V1\n",
      "Warning: No trials found for Valence V2\n",
      "Warning: No trials found for Valence V9\n"
     ]
    },
    {
     "name": "stderr",
     "output_type": "stream",
     "text": [
      "/var/folders/cq/ng3hfh1s6w9cv5482h3kc_t40000gn/T/ipykernel_43642/3362538243.py:138: UserWarning: This figure includes Axes that are not compatible with tight_layout, so results might be incorrect.\n",
      "  plt.tight_layout()\n"
     ]
    },
    {
     "name": "stdout",
     "output_type": "stream",
     "text": [
      "Warning: No trials found for Arousal A1\n",
      "Warning: No trials found for Arousal A2\n",
      "Warning: No trials found for Arousal A3\n",
      "Warning: No trials found for Arousal A8\n",
      "Warning: No trials found for Arousal A9\n"
     ]
    },
    {
     "name": "stderr",
     "output_type": "stream",
     "text": [
      "/var/folders/cq/ng3hfh1s6w9cv5482h3kc_t40000gn/T/ipykernel_43642/3362538243.py:138: UserWarning: This figure includes Axes that are not compatible with tight_layout, so results might be incorrect.\n",
      "  plt.tight_layout()\n"
     ]
    },
    {
     "name": "stdout",
     "output_type": "stream",
     "text": [
      "Warning: No trials found for Valence V1\n",
      "Warning: No trials found for Valence V2\n",
      "Warning: No trials found for Valence V9\n"
     ]
    },
    {
     "name": "stderr",
     "output_type": "stream",
     "text": [
      "/var/folders/cq/ng3hfh1s6w9cv5482h3kc_t40000gn/T/ipykernel_43642/3362538243.py:138: UserWarning: This figure includes Axes that are not compatible with tight_layout, so results might be incorrect.\n",
      "  plt.tight_layout()\n"
     ]
    },
    {
     "name": "stdout",
     "output_type": "stream",
     "text": [
      "Warning: No trials found for Arousal A1\n",
      "Warning: No trials found for Arousal A2\n",
      "Warning: No trials found for Arousal A3\n",
      "Warning: No trials found for Arousal A8\n",
      "Warning: No trials found for Arousal A9\n"
     ]
    },
    {
     "name": "stderr",
     "output_type": "stream",
     "text": [
      "/var/folders/cq/ng3hfh1s6w9cv5482h3kc_t40000gn/T/ipykernel_43642/3362538243.py:138: UserWarning: This figure includes Axes that are not compatible with tight_layout, so results might be incorrect.\n",
      "  plt.tight_layout()\n"
     ]
    },
    {
     "name": "stdout",
     "output_type": "stream",
     "text": [
      "Warning: No trials found for Valence V1\n",
      "Warning: No trials found for Valence V2\n",
      "Warning: No trials found for Valence V9\n"
     ]
    },
    {
     "name": "stderr",
     "output_type": "stream",
     "text": [
      "/var/folders/cq/ng3hfh1s6w9cv5482h3kc_t40000gn/T/ipykernel_43642/3362538243.py:138: UserWarning: This figure includes Axes that are not compatible with tight_layout, so results might be incorrect.\n",
      "  plt.tight_layout()\n"
     ]
    },
    {
     "name": "stdout",
     "output_type": "stream",
     "text": [
      "Warning: No trials found for Arousal A1\n",
      "Warning: No trials found for Arousal A2\n",
      "Warning: No trials found for Arousal A3\n",
      "Warning: No trials found for Arousal A8\n",
      "Warning: No trials found for Arousal A9\n"
     ]
    },
    {
     "name": "stderr",
     "output_type": "stream",
     "text": [
      "/var/folders/cq/ng3hfh1s6w9cv5482h3kc_t40000gn/T/ipykernel_43642/3362538243.py:138: UserWarning: This figure includes Axes that are not compatible with tight_layout, so results might be incorrect.\n",
      "  plt.tight_layout()\n"
     ]
    },
    {
     "name": "stdout",
     "output_type": "stream",
     "text": [
      "Warning: No trials found for Valence V1\n",
      "Warning: No trials found for Valence V2\n",
      "Warning: No trials found for Valence V9\n"
     ]
    },
    {
     "name": "stderr",
     "output_type": "stream",
     "text": [
      "/var/folders/cq/ng3hfh1s6w9cv5482h3kc_t40000gn/T/ipykernel_43642/3362538243.py:138: UserWarning: This figure includes Axes that are not compatible with tight_layout, so results might be incorrect.\n",
      "  plt.tight_layout()\n"
     ]
    },
    {
     "name": "stdout",
     "output_type": "stream",
     "text": [
      "Warning: No trials found for Arousal A1\n",
      "Warning: No trials found for Arousal A2\n",
      "Warning: No trials found for Arousal A3\n",
      "Warning: No trials found for Arousal A8\n",
      "Warning: No trials found for Arousal A9\n"
     ]
    },
    {
     "name": "stderr",
     "output_type": "stream",
     "text": [
      "/var/folders/cq/ng3hfh1s6w9cv5482h3kc_t40000gn/T/ipykernel_43642/3362538243.py:138: UserWarning: This figure includes Axes that are not compatible with tight_layout, so results might be incorrect.\n",
      "  plt.tight_layout()\n"
     ]
    },
    {
     "name": "stdout",
     "output_type": "stream",
     "text": [
      "Warning: No trials found for Valence V1\n",
      "Warning: No trials found for Valence V2\n",
      "Warning: No trials found for Valence V9\n"
     ]
    },
    {
     "name": "stderr",
     "output_type": "stream",
     "text": [
      "/var/folders/cq/ng3hfh1s6w9cv5482h3kc_t40000gn/T/ipykernel_43642/3362538243.py:138: UserWarning: This figure includes Axes that are not compatible with tight_layout, so results might be incorrect.\n",
      "  plt.tight_layout()\n"
     ]
    },
    {
     "name": "stdout",
     "output_type": "stream",
     "text": [
      "Warning: No trials found for Arousal A1\n",
      "Warning: No trials found for Arousal A2\n",
      "Warning: No trials found for Arousal A3\n",
      "Warning: No trials found for Arousal A8\n",
      "Warning: No trials found for Arousal A9\n"
     ]
    },
    {
     "name": "stderr",
     "output_type": "stream",
     "text": [
      "/var/folders/cq/ng3hfh1s6w9cv5482h3kc_t40000gn/T/ipykernel_43642/3362538243.py:138: UserWarning: This figure includes Axes that are not compatible with tight_layout, so results might be incorrect.\n",
      "  plt.tight_layout()\n"
     ]
    },
    {
     "ename": "KeyboardInterrupt",
     "evalue": "",
     "output_type": "error",
     "traceback": [
      "\u001b[0;31m---------------------------------------------------------------------------\u001b[0m",
      "\u001b[0;31mAttributeError\u001b[0m                            Traceback (most recent call last)",
      "File \u001b[0;32m/opt/anaconda3/lib/python3.11/site-packages/PIL/ImageFile.py:536\u001b[0m, in \u001b[0;36m_save\u001b[0;34m(im, fp, tile, bufsize)\u001b[0m\n\u001b[1;32m    535\u001b[0m \u001b[38;5;28;01mtry\u001b[39;00m:\n\u001b[0;32m--> 536\u001b[0m     fh \u001b[38;5;241m=\u001b[39m fp\u001b[38;5;241m.\u001b[39mfileno()\n\u001b[1;32m    537\u001b[0m     fp\u001b[38;5;241m.\u001b[39mflush()\n",
      "\u001b[0;31mAttributeError\u001b[0m: '_idat' object has no attribute 'fileno'",
      "\nDuring handling of the above exception, another exception occurred:\n",
      "\u001b[0;31mKeyboardInterrupt\u001b[0m                         Traceback (most recent call last)",
      "Cell \u001b[0;32mIn[26], line 238\u001b[0m\n\u001b[1;32m    236\u001b[0m \u001b[38;5;66;03m# 個別の被験者の結果を保存\u001b[39;00m\n\u001b[1;32m    237\u001b[0m subject_save_dir \u001b[38;5;241m=\u001b[39m os\u001b[38;5;241m.\u001b[39mpath\u001b[38;5;241m.\u001b[39mjoin(base_save_dir, \u001b[38;5;124mf\u001b[39m\u001b[38;5;124m'\u001b[39m\u001b[38;5;124ms\u001b[39m\u001b[38;5;132;01m{\u001b[39;00msubject\u001b[38;5;132;01m:\u001b[39;00m\u001b[38;5;124m02d\u001b[39m\u001b[38;5;132;01m}\u001b[39;00m\u001b[38;5;124m'\u001b[39m)\n\u001b[0;32m--> 238\u001b[0m results \u001b[38;5;241m=\u001b[39m analyze_and_visualize_bandpower(\n\u001b[1;32m    239\u001b[0m     eeg_data\u001b[38;5;241m=\u001b[39meeg_data,\n\u001b[1;32m    240\u001b[0m     labels\u001b[38;5;241m=\u001b[39mlabels,\n\u001b[1;32m    241\u001b[0m     save_dir\u001b[38;5;241m=\u001b[39msubject_save_dir\n\u001b[1;32m    242\u001b[0m )\n\u001b[1;32m    244\u001b[0m \u001b[38;5;66;03m# 条件マスクの作成\u001b[39;00m\n\u001b[1;32m    245\u001b[0m conditions \u001b[38;5;241m=\u001b[39m create_emotion_masks(labels, verbose\u001b[38;5;241m=\u001b[39m\u001b[38;5;28;01mFalse\u001b[39;00m)\n",
      "Cell \u001b[0;32mIn[26], line 139\u001b[0m, in \u001b[0;36manalyze_and_visualize_bandpower\u001b[0;34m(eeg_data, labels, fs, window_sec, relative, save_dir)\u001b[0m\n\u001b[1;32m    131\u001b[0m             results[\u001b[38;5;124m'\u001b[39m\u001b[38;5;124mpower_values\u001b[39m\u001b[38;5;124m'\u001b[39m][emotion_type][cond_name][band_name] \u001b[38;5;241m=\u001b[39m {\n\u001b[1;32m    132\u001b[0m                 \u001b[38;5;124m'\u001b[39m\u001b[38;5;124mmean\u001b[39m\u001b[38;5;124m'\u001b[39m: mean_powers\u001b[38;5;241m.\u001b[39mtolist(),\n\u001b[1;32m    133\u001b[0m                 \u001b[38;5;124m'\u001b[39m\u001b[38;5;124mstd\u001b[39m\u001b[38;5;124m'\u001b[39m: std_powers\u001b[38;5;241m.\u001b[39mtolist(),\n\u001b[1;32m    134\u001b[0m                 \u001b[38;5;124m'\u001b[39m\u001b[38;5;124mn_trials\u001b[39m\u001b[38;5;124m'\u001b[39m: \u001b[38;5;28mint\u001b[39m(n_trials),\n\u001b[1;32m    135\u001b[0m                 \u001b[38;5;124m'\u001b[39m\u001b[38;5;124mraw_powers\u001b[39m\u001b[38;5;124m'\u001b[39m: band_powers\u001b[38;5;241m.\u001b[39mtolist()  \u001b[38;5;66;03m# 全トライアルのデータを保存\u001b[39;00m\n\u001b[1;32m    136\u001b[0m             }\n\u001b[1;32m    138\u001b[0m         plt\u001b[38;5;241m.\u001b[39mtight_layout()\n\u001b[0;32m--> 139\u001b[0m         plt\u001b[38;5;241m.\u001b[39msavefig(os\u001b[38;5;241m.\u001b[39mpath\u001b[38;5;241m.\u001b[39mjoin(topomap_dir, \u001b[38;5;124mf\u001b[39m\u001b[38;5;124m'\u001b[39m\u001b[38;5;132;01m{\u001b[39;00mband_name\u001b[38;5;132;01m}\u001b[39;00m\u001b[38;5;124m_\u001b[39m\u001b[38;5;132;01m{\u001b[39;00memotion_type\u001b[38;5;241m.\u001b[39mlower()\u001b[38;5;132;01m}\u001b[39;00m\u001b[38;5;124m_topomap.png\u001b[39m\u001b[38;5;124m'\u001b[39m), \n\u001b[1;32m    140\u001b[0m                    bbox_inches\u001b[38;5;241m=\u001b[39m\u001b[38;5;124m'\u001b[39m\u001b[38;5;124mtight\u001b[39m\u001b[38;5;124m'\u001b[39m, dpi\u001b[38;5;241m=\u001b[39m\u001b[38;5;241m300\u001b[39m)\n\u001b[1;32m    141\u001b[0m         plt\u001b[38;5;241m.\u001b[39mclose()\n\u001b[1;32m    143\u001b[0m \u001b[38;5;28;01mreturn\u001b[39;00m results\n",
      "File \u001b[0;32m/opt/anaconda3/lib/python3.11/site-packages/matplotlib/pyplot.py:1119\u001b[0m, in \u001b[0;36msavefig\u001b[0;34m(*args, **kwargs)\u001b[0m\n\u001b[1;32m   1116\u001b[0m fig \u001b[38;5;241m=\u001b[39m gcf()\n\u001b[1;32m   1117\u001b[0m \u001b[38;5;66;03m# savefig default implementation has no return, so mypy is unhappy\u001b[39;00m\n\u001b[1;32m   1118\u001b[0m \u001b[38;5;66;03m# presumably this is here because subclasses can return?\u001b[39;00m\n\u001b[0;32m-> 1119\u001b[0m res \u001b[38;5;241m=\u001b[39m fig\u001b[38;5;241m.\u001b[39msavefig(\u001b[38;5;241m*\u001b[39margs, \u001b[38;5;241m*\u001b[39m\u001b[38;5;241m*\u001b[39mkwargs)  \u001b[38;5;66;03m# type: ignore[func-returns-value]\u001b[39;00m\n\u001b[1;32m   1120\u001b[0m fig\u001b[38;5;241m.\u001b[39mcanvas\u001b[38;5;241m.\u001b[39mdraw_idle()  \u001b[38;5;66;03m# Need this if 'transparent=True', to reset colors.\u001b[39;00m\n\u001b[1;32m   1121\u001b[0m \u001b[38;5;28;01mreturn\u001b[39;00m res\n",
      "File \u001b[0;32m/opt/anaconda3/lib/python3.11/site-packages/matplotlib/figure.py:3390\u001b[0m, in \u001b[0;36mFigure.savefig\u001b[0;34m(self, fname, transparent, **kwargs)\u001b[0m\n\u001b[1;32m   3388\u001b[0m     \u001b[38;5;28;01mfor\u001b[39;00m ax \u001b[38;5;129;01min\u001b[39;00m \u001b[38;5;28mself\u001b[39m\u001b[38;5;241m.\u001b[39maxes:\n\u001b[1;32m   3389\u001b[0m         _recursively_make_axes_transparent(stack, ax)\n\u001b[0;32m-> 3390\u001b[0m \u001b[38;5;28mself\u001b[39m\u001b[38;5;241m.\u001b[39mcanvas\u001b[38;5;241m.\u001b[39mprint_figure(fname, \u001b[38;5;241m*\u001b[39m\u001b[38;5;241m*\u001b[39mkwargs)\n",
      "File \u001b[0;32m/opt/anaconda3/lib/python3.11/site-packages/matplotlib/backend_bases.py:2187\u001b[0m, in \u001b[0;36mFigureCanvasBase.print_figure\u001b[0;34m(self, filename, dpi, facecolor, edgecolor, orientation, format, bbox_inches, pad_inches, bbox_extra_artists, backend, **kwargs)\u001b[0m\n\u001b[1;32m   2183\u001b[0m \u001b[38;5;28;01mtry\u001b[39;00m:\n\u001b[1;32m   2184\u001b[0m     \u001b[38;5;66;03m# _get_renderer may change the figure dpi (as vector formats\u001b[39;00m\n\u001b[1;32m   2185\u001b[0m     \u001b[38;5;66;03m# force the figure dpi to 72), so we need to set it again here.\u001b[39;00m\n\u001b[1;32m   2186\u001b[0m     \u001b[38;5;28;01mwith\u001b[39;00m cbook\u001b[38;5;241m.\u001b[39m_setattr_cm(\u001b[38;5;28mself\u001b[39m\u001b[38;5;241m.\u001b[39mfigure, dpi\u001b[38;5;241m=\u001b[39mdpi):\n\u001b[0;32m-> 2187\u001b[0m         result \u001b[38;5;241m=\u001b[39m print_method(\n\u001b[1;32m   2188\u001b[0m             filename,\n\u001b[1;32m   2189\u001b[0m             facecolor\u001b[38;5;241m=\u001b[39mfacecolor,\n\u001b[1;32m   2190\u001b[0m             edgecolor\u001b[38;5;241m=\u001b[39medgecolor,\n\u001b[1;32m   2191\u001b[0m             orientation\u001b[38;5;241m=\u001b[39morientation,\n\u001b[1;32m   2192\u001b[0m             bbox_inches_restore\u001b[38;5;241m=\u001b[39m_bbox_inches_restore,\n\u001b[1;32m   2193\u001b[0m             \u001b[38;5;241m*\u001b[39m\u001b[38;5;241m*\u001b[39mkwargs)\n\u001b[1;32m   2194\u001b[0m \u001b[38;5;28;01mfinally\u001b[39;00m:\n\u001b[1;32m   2195\u001b[0m     \u001b[38;5;28;01mif\u001b[39;00m bbox_inches \u001b[38;5;129;01mand\u001b[39;00m restore_bbox:\n",
      "File \u001b[0;32m/opt/anaconda3/lib/python3.11/site-packages/matplotlib/backend_bases.py:2043\u001b[0m, in \u001b[0;36mFigureCanvasBase._switch_canvas_and_return_print_method.<locals>.<lambda>\u001b[0;34m(*args, **kwargs)\u001b[0m\n\u001b[1;32m   2039\u001b[0m     optional_kws \u001b[38;5;241m=\u001b[39m {  \u001b[38;5;66;03m# Passed by print_figure for other renderers.\u001b[39;00m\n\u001b[1;32m   2040\u001b[0m         \u001b[38;5;124m\"\u001b[39m\u001b[38;5;124mdpi\u001b[39m\u001b[38;5;124m\"\u001b[39m, \u001b[38;5;124m\"\u001b[39m\u001b[38;5;124mfacecolor\u001b[39m\u001b[38;5;124m\"\u001b[39m, \u001b[38;5;124m\"\u001b[39m\u001b[38;5;124medgecolor\u001b[39m\u001b[38;5;124m\"\u001b[39m, \u001b[38;5;124m\"\u001b[39m\u001b[38;5;124morientation\u001b[39m\u001b[38;5;124m\"\u001b[39m,\n\u001b[1;32m   2041\u001b[0m         \u001b[38;5;124m\"\u001b[39m\u001b[38;5;124mbbox_inches_restore\u001b[39m\u001b[38;5;124m\"\u001b[39m}\n\u001b[1;32m   2042\u001b[0m     skip \u001b[38;5;241m=\u001b[39m optional_kws \u001b[38;5;241m-\u001b[39m {\u001b[38;5;241m*\u001b[39minspect\u001b[38;5;241m.\u001b[39msignature(meth)\u001b[38;5;241m.\u001b[39mparameters}\n\u001b[0;32m-> 2043\u001b[0m     print_method \u001b[38;5;241m=\u001b[39m functools\u001b[38;5;241m.\u001b[39mwraps(meth)(\u001b[38;5;28;01mlambda\u001b[39;00m \u001b[38;5;241m*\u001b[39margs, \u001b[38;5;241m*\u001b[39m\u001b[38;5;241m*\u001b[39mkwargs: meth(\n\u001b[1;32m   2044\u001b[0m         \u001b[38;5;241m*\u001b[39margs, \u001b[38;5;241m*\u001b[39m\u001b[38;5;241m*\u001b[39m{k: v \u001b[38;5;28;01mfor\u001b[39;00m k, v \u001b[38;5;129;01min\u001b[39;00m kwargs\u001b[38;5;241m.\u001b[39mitems() \u001b[38;5;28;01mif\u001b[39;00m k \u001b[38;5;129;01mnot\u001b[39;00m \u001b[38;5;129;01min\u001b[39;00m skip}))\n\u001b[1;32m   2045\u001b[0m \u001b[38;5;28;01melse\u001b[39;00m:  \u001b[38;5;66;03m# Let third-parties do as they see fit.\u001b[39;00m\n\u001b[1;32m   2046\u001b[0m     print_method \u001b[38;5;241m=\u001b[39m meth\n",
      "File \u001b[0;32m/opt/anaconda3/lib/python3.11/site-packages/matplotlib/backends/backend_agg.py:497\u001b[0m, in \u001b[0;36mFigureCanvasAgg.print_png\u001b[0;34m(self, filename_or_obj, metadata, pil_kwargs)\u001b[0m\n\u001b[1;32m    450\u001b[0m \u001b[38;5;28;01mdef\u001b[39;00m \u001b[38;5;21mprint_png\u001b[39m(\u001b[38;5;28mself\u001b[39m, filename_or_obj, \u001b[38;5;241m*\u001b[39m, metadata\u001b[38;5;241m=\u001b[39m\u001b[38;5;28;01mNone\u001b[39;00m, pil_kwargs\u001b[38;5;241m=\u001b[39m\u001b[38;5;28;01mNone\u001b[39;00m):\n\u001b[1;32m    451\u001b[0m \u001b[38;5;250m    \u001b[39m\u001b[38;5;124;03m\"\"\"\u001b[39;00m\n\u001b[1;32m    452\u001b[0m \u001b[38;5;124;03m    Write the figure to a PNG file.\u001b[39;00m\n\u001b[1;32m    453\u001b[0m \n\u001b[0;32m   (...)\u001b[0m\n\u001b[1;32m    495\u001b[0m \u001b[38;5;124;03m        *metadata*, including the default 'Software' key.\u001b[39;00m\n\u001b[1;32m    496\u001b[0m \u001b[38;5;124;03m    \"\"\"\u001b[39;00m\n\u001b[0;32m--> 497\u001b[0m     \u001b[38;5;28mself\u001b[39m\u001b[38;5;241m.\u001b[39m_print_pil(filename_or_obj, \u001b[38;5;124m\"\u001b[39m\u001b[38;5;124mpng\u001b[39m\u001b[38;5;124m\"\u001b[39m, pil_kwargs, metadata)\n",
      "File \u001b[0;32m/opt/anaconda3/lib/python3.11/site-packages/matplotlib/backends/backend_agg.py:446\u001b[0m, in \u001b[0;36mFigureCanvasAgg._print_pil\u001b[0;34m(self, filename_or_obj, fmt, pil_kwargs, metadata)\u001b[0m\n\u001b[1;32m    441\u001b[0m \u001b[38;5;250m\u001b[39m\u001b[38;5;124;03m\"\"\"\u001b[39;00m\n\u001b[1;32m    442\u001b[0m \u001b[38;5;124;03mDraw the canvas, then save it using `.image.imsave` (to which\u001b[39;00m\n\u001b[1;32m    443\u001b[0m \u001b[38;5;124;03m*pil_kwargs* and *metadata* are forwarded).\u001b[39;00m\n\u001b[1;32m    444\u001b[0m \u001b[38;5;124;03m\"\"\"\u001b[39;00m\n\u001b[1;32m    445\u001b[0m FigureCanvasAgg\u001b[38;5;241m.\u001b[39mdraw(\u001b[38;5;28mself\u001b[39m)\n\u001b[0;32m--> 446\u001b[0m mpl\u001b[38;5;241m.\u001b[39mimage\u001b[38;5;241m.\u001b[39mimsave(\n\u001b[1;32m    447\u001b[0m     filename_or_obj, \u001b[38;5;28mself\u001b[39m\u001b[38;5;241m.\u001b[39mbuffer_rgba(), \u001b[38;5;28mformat\u001b[39m\u001b[38;5;241m=\u001b[39mfmt, origin\u001b[38;5;241m=\u001b[39m\u001b[38;5;124m\"\u001b[39m\u001b[38;5;124mupper\u001b[39m\u001b[38;5;124m\"\u001b[39m,\n\u001b[1;32m    448\u001b[0m     dpi\u001b[38;5;241m=\u001b[39m\u001b[38;5;28mself\u001b[39m\u001b[38;5;241m.\u001b[39mfigure\u001b[38;5;241m.\u001b[39mdpi, metadata\u001b[38;5;241m=\u001b[39mmetadata, pil_kwargs\u001b[38;5;241m=\u001b[39mpil_kwargs)\n",
      "File \u001b[0;32m/opt/anaconda3/lib/python3.11/site-packages/matplotlib/image.py:1656\u001b[0m, in \u001b[0;36mimsave\u001b[0;34m(fname, arr, vmin, vmax, cmap, format, origin, dpi, metadata, pil_kwargs)\u001b[0m\n\u001b[1;32m   1654\u001b[0m pil_kwargs\u001b[38;5;241m.\u001b[39msetdefault(\u001b[38;5;124m\"\u001b[39m\u001b[38;5;124mformat\u001b[39m\u001b[38;5;124m\"\u001b[39m, \u001b[38;5;28mformat\u001b[39m)\n\u001b[1;32m   1655\u001b[0m pil_kwargs\u001b[38;5;241m.\u001b[39msetdefault(\u001b[38;5;124m\"\u001b[39m\u001b[38;5;124mdpi\u001b[39m\u001b[38;5;124m\"\u001b[39m, (dpi, dpi))\n\u001b[0;32m-> 1656\u001b[0m image\u001b[38;5;241m.\u001b[39msave(fname, \u001b[38;5;241m*\u001b[39m\u001b[38;5;241m*\u001b[39mpil_kwargs)\n",
      "File \u001b[0;32m/opt/anaconda3/lib/python3.11/site-packages/PIL/Image.py:2439\u001b[0m, in \u001b[0;36mImage.save\u001b[0;34m(self, fp, format, **params)\u001b[0m\n\u001b[1;32m   2436\u001b[0m         fp \u001b[38;5;241m=\u001b[39m builtins\u001b[38;5;241m.\u001b[39mopen(filename, \u001b[38;5;124m\"\u001b[39m\u001b[38;5;124mw+b\u001b[39m\u001b[38;5;124m\"\u001b[39m)\n\u001b[1;32m   2438\u001b[0m \u001b[38;5;28;01mtry\u001b[39;00m:\n\u001b[0;32m-> 2439\u001b[0m     save_handler(\u001b[38;5;28mself\u001b[39m, fp, filename)\n\u001b[1;32m   2440\u001b[0m \u001b[38;5;28;01mexcept\u001b[39;00m \u001b[38;5;167;01mException\u001b[39;00m:\n\u001b[1;32m   2441\u001b[0m     \u001b[38;5;28;01mif\u001b[39;00m open_fp:\n",
      "File \u001b[0;32m/opt/anaconda3/lib/python3.11/site-packages/PIL/PngImagePlugin.py:1402\u001b[0m, in \u001b[0;36m_save\u001b[0;34m(im, fp, filename, chunk, save_all)\u001b[0m\n\u001b[1;32m   1398\u001b[0m     im \u001b[38;5;241m=\u001b[39m _write_multiple_frames(\n\u001b[1;32m   1399\u001b[0m         im, fp, chunk, rawmode, default_image, append_images\n\u001b[1;32m   1400\u001b[0m     )\n\u001b[1;32m   1401\u001b[0m \u001b[38;5;28;01mif\u001b[39;00m im:\n\u001b[0;32m-> 1402\u001b[0m     ImageFile\u001b[38;5;241m.\u001b[39m_save(im, _idat(fp, chunk), [(\u001b[38;5;124m\"\u001b[39m\u001b[38;5;124mzip\u001b[39m\u001b[38;5;124m\"\u001b[39m, (\u001b[38;5;241m0\u001b[39m, \u001b[38;5;241m0\u001b[39m) \u001b[38;5;241m+\u001b[39m im\u001b[38;5;241m.\u001b[39msize, \u001b[38;5;241m0\u001b[39m, rawmode)])\n\u001b[1;32m   1404\u001b[0m \u001b[38;5;28;01mif\u001b[39;00m info:\n\u001b[1;32m   1405\u001b[0m     \u001b[38;5;28;01mfor\u001b[39;00m info_chunk \u001b[38;5;129;01min\u001b[39;00m info\u001b[38;5;241m.\u001b[39mchunks:\n",
      "File \u001b[0;32m/opt/anaconda3/lib/python3.11/site-packages/PIL/ImageFile.py:540\u001b[0m, in \u001b[0;36m_save\u001b[0;34m(im, fp, tile, bufsize)\u001b[0m\n\u001b[1;32m    538\u001b[0m     _encode_tile(im, fp, tile, bufsize, fh)\n\u001b[1;32m    539\u001b[0m \u001b[38;5;28;01mexcept\u001b[39;00m (\u001b[38;5;167;01mAttributeError\u001b[39;00m, io\u001b[38;5;241m.\u001b[39mUnsupportedOperation) \u001b[38;5;28;01mas\u001b[39;00m exc:\n\u001b[0;32m--> 540\u001b[0m     _encode_tile(im, fp, tile, bufsize, \u001b[38;5;28;01mNone\u001b[39;00m, exc)\n\u001b[1;32m    541\u001b[0m \u001b[38;5;28;01mif\u001b[39;00m \u001b[38;5;28mhasattr\u001b[39m(fp, \u001b[38;5;124m\"\u001b[39m\u001b[38;5;124mflush\u001b[39m\u001b[38;5;124m\"\u001b[39m):\n\u001b[1;32m    542\u001b[0m     fp\u001b[38;5;241m.\u001b[39mflush()\n",
      "File \u001b[0;32m/opt/anaconda3/lib/python3.11/site-packages/PIL/ImageFile.py:559\u001b[0m, in \u001b[0;36m_encode_tile\u001b[0;34m(im, fp, tile, bufsize, fh, exc)\u001b[0m\n\u001b[1;32m    556\u001b[0m \u001b[38;5;28;01mif\u001b[39;00m exc:\n\u001b[1;32m    557\u001b[0m     \u001b[38;5;66;03m# compress to Python file-compatible object\u001b[39;00m\n\u001b[1;32m    558\u001b[0m     \u001b[38;5;28;01mwhile\u001b[39;00m \u001b[38;5;28;01mTrue\u001b[39;00m:\n\u001b[0;32m--> 559\u001b[0m         errcode, data \u001b[38;5;241m=\u001b[39m encoder\u001b[38;5;241m.\u001b[39mencode(bufsize)[\u001b[38;5;241m1\u001b[39m:]\n\u001b[1;32m    560\u001b[0m         fp\u001b[38;5;241m.\u001b[39mwrite(data)\n\u001b[1;32m    561\u001b[0m         \u001b[38;5;28;01mif\u001b[39;00m errcode:\n",
      "\u001b[0;31mKeyboardInterrupt\u001b[0m: "
     ]
    },
    {
     "data": {
      "image/png": "[encoded data removed]",
      "text/plain": [
       "<Figure size 2000x2000 with 9 Axes>"
      ]
     },
     "metadata": {},
     "output_type": "display_data"
    }
   ],
   "source": [
    "import numpy as np\n",
    "import mne\n",
    "from mne.channels import make_standard_montage\n",
    "import matplotlib.pyplot as plt\n",
    "from feature_extraction import bandpower, FREQUENCY_BANDS\n",
    "from load_data import load_deap_data_npy\n",
    "import os\n",
    "import json\n",
    "\n",
    "def create_emotion_masks(labels, verbose=True):\n",
    "    \"\"\"\n",
    "    感情ラベルからマスクを作成し、各レベルのトライアル数を表示\n",
    "    \"\"\"\n",
    "    conditions = {\n",
    "        'Valence': {},\n",
    "        'Arousal': {}\n",
    "    }\n",
    "    \n",
    "    if verbose:\n",
    "        print(\"\\nLabel distribution:\")\n",
    "        print(\"Valence scores:\", np.round(labels[:, 0]))\n",
    "        print(\"Arousal scores:\", np.round(labels[:, 1]))\n",
    "    \n",
    "    # Valenceのマスク作成\n",
    "    for i in range(1, 10):\n",
    "        mask = np.round(labels[:, 0]) == i\n",
    "        conditions['Valence'][f'V{i}'] = mask\n",
    "        if verbose:\n",
    "            n_trials = np.sum(mask)\n",
    "            print(f\"Valence {i}: {n_trials} trials\")\n",
    "    \n",
    "    # Arousalのマスク作成\n",
    "    for i in range(1, 10):\n",
    "        mask = np.round(labels[:, 1]) == i\n",
    "        conditions['Arousal'][f'A{i}'] = mask\n",
    "        if verbose:\n",
    "            n_trials = np.sum(mask)\n",
    "            print(f\"Arousal {i}: {n_trials} trials\")\n",
    "    \n",
    "    return conditions\n",
    "\n",
    "def create_topomap_figure(emotion_type, band_name):\n",
    "    \"\"\"トポマップ用の図を作成\"\"\"\n",
    "    fig = plt.figure(figsize=(20, 20))\n",
    "    gs = fig.add_gridspec(3, 3, hspace=0.4, wspace=0.4)\n",
    "    axes = []\n",
    "    for i in range(3):\n",
    "        for j in range(3):\n",
    "            ax = fig.add_subplot(gs[i, j])\n",
    "            axes.append(ax)\n",
    "    \n",
    "    fig.suptitle(f'{band_name} - {emotion_type} Levels', \n",
    "                 fontsize=16, y=1.02)\n",
    "    return fig, axes\n",
    "\n",
    "def analyze_and_visualize_bandpower(eeg_data, labels, fs=128, window_sec=10, relative=False, save_dir='./results/bandpower_analysis'):\n",
    "    \"\"\"バンドパワーの解析とトポマップの可視化\"\"\"\n",
    "    \n",
    "    # チャンネル情報\n",
    "    ch_names = ['Fp1', 'AF3', 'F3', 'F7', 'FC5', 'FC1', 'C3', 'T7', \n",
    "                'CP5', 'CP1', 'P3', 'P7', 'PO3', 'O1', 'Oz', 'Pz',\n",
    "                'Fp2', 'AF4', 'Fz', 'F4', 'F8', 'FC6', 'FC2', 'Cz',\n",
    "                'C4', 'T8', 'CP6', 'CP2', 'P4', 'P8', 'PO4', 'O2']\n",
    "    \n",
    "    info = mne.create_info(ch_names=ch_names, sfreq=fs, ch_types=['eeg'] * len(ch_names))\n",
    "    montage = make_standard_montage('standard_1020')\n",
    "    info.set_montage(montage, match_case=False)\n",
    "    \n",
    "    # 条件マスクの作成（詳細表示付き）\n",
    "    conditions = create_emotion_masks(labels, verbose=True)\n",
    "    \n",
    "    # 結果保存用の設定\n",
    "    results = {\n",
    "        'metadata': {\n",
    "            'sampling_rate': fs,\n",
    "            'window_sec': window_sec,\n",
    "            'relative_power': relative,\n",
    "            'n_channels': len(ch_names),\n",
    "            'channel_names': ch_names,\n",
    "            'frequency_bands': FREQUENCY_BANDS\n",
    "        },\n",
    "        'power_values': {'Valence': {}, 'Arousal': {}}\n",
    "    }\n",
    "    \n",
    "    topomap_dir = os.path.join(save_dir, 'topomaps')\n",
    "    os.makedirs(topomap_dir, exist_ok=True)\n",
    "    # 各周波数帯域でのトポマップ作成\n",
    "    for band_name, band_range in FREQUENCY_BANDS.items():\n",
    "        for emotion_type in ['Valence', 'Arousal']:\n",
    "            fig, axes = create_topomap_figure(emotion_type, band_name)\n",
    "            \n",
    "            for i, (cond_name, cond_mask) in enumerate(conditions[emotion_type].items()):\n",
    "                n_trials = np.sum(cond_mask)\n",
    "                if n_trials == 0:\n",
    "                    print(f\"Warning: No trials found for {emotion_type} {cond_name}\")\n",
    "                    axes[i].text(0.5, 0.5, 'No Data', ha='center', va='center')\n",
    "                    continue\n",
    "                \n",
    "                # バンドパワーの計算\n",
    "                band_powers = np.zeros((len(ch_names), n_trials))\n",
    "                for ch_idx in range(len(ch_names)):\n",
    "                    for trial_idx, trial in enumerate(eeg_data[cond_mask]):\n",
    "                        power = bandpower(trial[ch_idx], 128, band_range, \n",
    "                                        window_sec=window_sec, relative=True)\n",
    "                        band_powers[ch_idx, trial_idx] = power\n",
    "                \n",
    "                # 平均バンドパワーの計算\n",
    "                mean_powers = np.mean(band_powers, axis=1)\n",
    "                std_powers = np.std(band_powers, axis=1)\n",
    "                \n",
    "                # トポマップの描画\n",
    "                im, _ = mne.viz.plot_topomap(mean_powers, info, \n",
    "                                           axes=axes[i],\n",
    "                                           show=False,\n",
    "                                           size=2,\n",
    "                                           extrapolate='box',\n",
    "                                           sphere=(0.0, 0.0, 0.0, 0.09),\n",
    "                                           names=ch_names,\n",
    "                                           sensors=True)\n",
    "                \n",
    "                title = f'{cond_name}\\n(n={n_trials})'\n",
    "                axes[i].set_title(title)\n",
    "                \n",
    "                for text in axes[i].texts:\n",
    "                    text.set_fontsize(8)\n",
    "                \n",
    "                # 数値データの保存\n",
    "                if cond_name not in results['power_values'][emotion_type]:\n",
    "                    results['power_values'][emotion_type][cond_name] = {}\n",
    "                \n",
    "                results['power_values'][emotion_type][cond_name][band_name] = {\n",
    "                    'mean': mean_powers.tolist(),\n",
    "                    'std': std_powers.tolist(),\n",
    "                    'n_trials': int(n_trials),\n",
    "                    'raw_powers': band_powers.tolist()  # 全トライアルのデータを保存\n",
    "                }\n",
    "            \n",
    "            plt.tight_layout()\n",
    "            plt.savefig(os.path.join(topomap_dir, f'{band_name}_{emotion_type.lower()}_topomap.png'), \n",
    "                       bbox_inches='tight', dpi=300)\n",
    "            plt.close()\n",
    "    \n",
    "    return results\n",
    "\n",
    "def visualize_average_topomaps(average_results, save_dir='./results/bandpower_analysis/average_topomaps'):\n",
    "    \"\"\"被験者間平均のトポマップを作成\"\"\"\n",
    "    \n",
    "    ch_names = ['Fp1', 'AF3', 'F3', 'F7', 'FC5', 'FC1', 'C3', 'T7', \n",
    "                'CP5', 'CP1', 'P3', 'P7', 'PO3', 'O1', 'Oz', 'Pz',\n",
    "                'Fp2', 'AF4', 'Fz', 'F4', 'F8', 'FC6', 'FC2', 'Cz',\n",
    "                'C4', 'T8', 'CP6', 'CP2', 'P4', 'P8', 'PO4', 'O2']\n",
    "    \n",
    "    info = mne.create_info(ch_names=ch_names, sfreq=128, ch_types=['eeg'] * len(ch_names))\n",
    "    montage = make_standard_montage('standard_1020')\n",
    "    info.set_montage(montage, match_case=False)\n",
    "    \n",
    "    os.makedirs(save_dir, exist_ok=True)\n",
    "    for band_name in FREQUENCY_BANDS:\n",
    "        for emotion_type in ['Valence', 'Arousal']:\n",
    "            fig, axes = create_topomap_figure(emotion_type, band_name)\n",
    "            \n",
    "            for i in range(9):\n",
    "                cond_name = f'{emotion_type[0]}{i+1}'\n",
    "                if (cond_name in average_results[emotion_type] and \n",
    "                    band_name in average_results[emotion_type][cond_name]):\n",
    "                    \n",
    "                    data = average_results[emotion_type][cond_name][band_name]\n",
    "                    mean_powers = np.array(data['mean'])\n",
    "                    n_trials = data['n_trials']\n",
    "                    \n",
    "                    if n_trials > 0:\n",
    "                        im, _ = mne.viz.plot_topomap(mean_powers, info, \n",
    "                                                   axes=axes[i],\n",
    "                                                   show=False,\n",
    "                                                   size=2,\n",
    "                                                   extrapolate='box',\n",
    "                                                   sphere=(0.0, 0.0, 0.0, 0.09),\n",
    "                                                   names=ch_names,\n",
    "                                                   sensors=True)\n",
    "                        \n",
    "                        title = f'{cond_name}\\n(n={n_trials} trials)'\n",
    "                        axes[i].set_title(title)\n",
    "                        \n",
    "                        for text in axes[i].texts:\n",
    "                            text.set_fontsize(8)\n",
    "                    else:\n",
    "                        axes[i].text(0.5, 0.5, 'No Data', ha='center', va='center')\n",
    "            \n",
    "            plt.tight_layout()\n",
    "            plt.savefig(os.path.join(save_dir, f'{band_name}_{emotion_type.lower()}_average_topomap.png'), \n",
    "                       bbox_inches='tight', dpi=300)\n",
    "            plt.close()\n",
    "\n",
    "class NumpyEncoder(json.JSONEncoder):\n",
    "    \"\"\"NumPy型をJSON保存可能な型に変換するエンコーダー\"\"\"\n",
    "    def default(self, obj):\n",
    "        if isinstance(obj, np.integer):\n",
    "            return int(obj)\n",
    "        elif isinstance(obj, np.floating):\n",
    "            return float(obj)\n",
    "        elif isinstance(obj, np.ndarray):\n",
    "            return obj.tolist()\n",
    "        return super(NumpyEncoder, self).default(obj)\n",
    "\n",
    "if __name__ == \"__main__\":\n",
    "    # データディレクトリの設定\n",
    "    data_dir = \"data/data_preprocessed_python\"\n",
    "    n_subjects = 32\n",
    "    \n",
    "    # 全被験者の結果を保存するディレクトリ\n",
    "    base_save_dir = './results/bandpower_analysis'\n",
    "    os.makedirs(base_save_dir, exist_ok=True)\n",
    "    \n",
    "    # 全トライアルのデータを集めるための辞書\n",
    "    all_trials_data = {\n",
    "        'Valence': {f'V{i}': {band: [] for band in FREQUENCY_BANDS} for i in range(1, 10)},\n",
    "        'Arousal': {f'A{i}': {band: [] for band in FREQUENCY_BANDS} for i in range(1, 10)}\n",
    "    }\n",
    "    # チャンネル情報\n",
    "    ch_names = ['Fp1', 'AF3', 'F3', 'F7', 'FC5', 'FC1', 'C3', 'T7', \n",
    "                'CP5', 'CP1', 'P3', 'P7', 'PO3', 'O1', 'Oz', 'Pz',\n",
    "                'Fp2', 'AF4', 'Fz', 'F4', 'F8', 'FC6', 'FC2', 'Cz',\n",
    "                'C4', 'T8', 'CP6', 'CP2', 'P4', 'P8', 'PO4', 'O2']\n",
    "    \n",
    "    # 各被験者のデータを処理\n",
    "    for subject in range(1, n_subjects + 1):\n",
    "        print(f\"\\nProcessing subject {subject}...\")\n",
    "        \n",
    "        file_path = os.path.join(data_dir, f\"s{subject:02d}.npy\")\n",
    "        try:\n",
    "            eeg_data, labels, _ = load_deap_data_npy(file_path, preprocessing='eeg')\n",
    "        except Exception as e:\n",
    "            print(f\"Error loading data for subject {subject}: {e}\")\n",
    "            continue\n",
    "        \n",
    "        # 個別の被験者の結果を保存\n",
    "        subject_save_dir = os.path.join(base_save_dir, f's{subject:02d}')\n",
    "        results = analyze_and_visualize_bandpower(\n",
    "            eeg_data=eeg_data,\n",
    "            labels=labels,\n",
    "            save_dir=subject_save_dir\n",
    "        )\n",
    "        \n",
    "        # 条件マスクの作成\n",
    "        conditions = create_emotion_masks(labels, verbose=False)\n",
    "        \n",
    "        # 各感情レベルとバンドについて、全トライアルのパワー値を収集\n",
    "        for emotion_type in ['Valence', 'Arousal']:\n",
    "            for i in range(1, 10):\n",
    "                cond_name = f'{emotion_type[0]}{i}'\n",
    "                cond_mask = conditions[emotion_type][cond_name]\n",
    "                \n",
    "                if np.sum(cond_mask) > 0:\n",
    "                    trials_data = eeg_data[cond_mask]\n",
    "                    \n",
    "                    for band_name, band_range in FREQUENCY_BANDS.items():\n",
    "                        for trial in trials_data:\n",
    "                            powers = []\n",
    "                            for ch_idx in range(len(ch_names)):\n",
    "                                power = bandpower(trial[ch_idx], 128, band_range, \n",
    "                                                window_sec=10, relative=True)\n",
    "                                powers.append(power)\n",
    "                            all_trials_data[emotion_type][cond_name][band_name].append(powers)\n",
    "    \n",
    "    # 全トライアルの平均を計算\n",
    "    print(\"\\nCalculating averages across all trials...\")\n",
    "    all_results = {\n",
    "        'average': {\n",
    "            'Valence': {f'V{i}': {} for i in range(1, 10)},\n",
    "            'Arousal': {f'A{i}': {} for i in range(1, 10)}\n",
    "        }\n",
    "    }\n",
    "    \n",
    "    for emotion_type in ['Valence', 'Arousal']:\n",
    "        for cond_name in all_trials_data[emotion_type]:\n",
    "            for band_name in FREQUENCY_BANDS:\n",
    "                trials = all_trials_data[emotion_type][cond_name][band_name]\n",
    "                if trials:\n",
    "                    trials_array = np.array(trials)\n",
    "                    mean_powers = np.mean(trials_array, axis=0)\n",
    "                    std_powers = np.std(trials_array, axis=0)\n",
    "                    n_trials = len(trials)\n",
    "                    \n",
    "                    all_results['average'][emotion_type][cond_name][band_name] = {\n",
    "                        'mean': mean_powers.tolist(),\n",
    "                        'std': std_powers.tolist(),\n",
    "                        'n_trials': n_trials\n",
    "                    }\n",
    "    \n",
    "    # 結果の保存\n",
    "    print(\"\\nSaving results...\")\n",
    "    with open(os.path.join(base_save_dir, 'all_trials_results.json'), 'w') as f:\n",
    "        json.dump(all_results, f, indent=4, cls=NumpyEncoder)\n",
    "    \n",
    "    # 平均のトポマップ作成\n",
    "    print(\"\\nCreating average topomaps...\")\n",
    "    visualize_average_topomaps(all_results['average'])\n",
    "    \n",
    "    print(\"Analysis complete!\")"
   ]
  },
  {
   "cell_type": "code",
   "execution_count": 9,
   "metadata": {},
   "outputs": [
    {
     "data": {
      "text/html": [
       "<pre style=\"white-space:pre;overflow-x:auto;line-height:normal;font-family:Menlo,'DejaVu Sans Mono',consolas,'Courier New',monospace\"><span style=\"font-weight: bold\">Model: \"functional_6\"</span>\n",
       "</pre>\n"
      ],
      "text/plain": [
       "\u001b[1mModel: \"functional_6\"\u001b[0m\n"
      ]
     },
     "metadata": {},
     "output_type": "display_data"
    },
    {
     "data": {
      "text/html": [
       "<pre style=\"white-space:pre;overflow-x:auto;line-height:normal;font-family:Menlo,'DejaVu Sans Mono',consolas,'Courier New',monospace\">┏━━━━━━━━━━━━━━━━━━━━━━━━━━━━━━━━━┳━━━━━━━━━━━━━━━━━━━━━━━━┳━━━━━━━━━━━━━━━┓\n",
       "┃<span style=\"font-weight: bold\"> Layer (type)                    </span>┃<span style=\"font-weight: bold\"> Output Shape           </span>┃<span style=\"font-weight: bold\">       Param # </span>┃\n",
       "┡━━━━━━━━━━━━━━━━━━━━━━━━━━━━━━━━━╇━━━━━━━━━━━━━━━━━━━━━━━━╇━━━━━━━━━━━━━━━┩\n",
       "│ input_layer_7 (<span style=\"color: #0087ff; text-decoration-color: #0087ff\">InputLayer</span>)      │ (<span style=\"color: #00d7ff; text-decoration-color: #00d7ff\">None</span>, <span style=\"color: #00af00; text-decoration-color: #00af00\">11</span>, <span style=\"color: #00af00; text-decoration-color: #00af00\">5</span>, <span style=\"color: #00af00; text-decoration-color: #00af00\">32</span>, <span style=\"color: #00af00; text-decoration-color: #00af00\">1</span>)   │             <span style=\"color: #00af00; text-decoration-color: #00af00\">0</span> │\n",
       "├─────────────────────────────────┼────────────────────────┼───────────────┤\n",
       "│ conv_lstm2d_4 (<span style=\"color: #0087ff; text-decoration-color: #0087ff\">ConvLSTM2D</span>)      │ (<span style=\"color: #00d7ff; text-decoration-color: #00d7ff\">None</span>, <span style=\"color: #00af00; text-decoration-color: #00af00\">11</span>, <span style=\"color: #00af00; text-decoration-color: #00af00\">5</span>, <span style=\"color: #00af00; text-decoration-color: #00af00\">32</span>, <span style=\"color: #00af00; text-decoration-color: #00af00\">32</span>)  │        <span style=\"color: #00af00; text-decoration-color: #00af00\">17,024</span> │\n",
       "├─────────────────────────────────┼────────────────────────┼───────────────┤\n",
       "│ max_pooling3d_2 (<span style=\"color: #0087ff; text-decoration-color: #0087ff\">MaxPooling3D</span>)  │ (<span style=\"color: #00d7ff; text-decoration-color: #00d7ff\">None</span>, <span style=\"color: #00af00; text-decoration-color: #00af00\">11</span>, <span style=\"color: #00af00; text-decoration-color: #00af00\">5</span>, <span style=\"color: #00af00; text-decoration-color: #00af00\">16</span>, <span style=\"color: #00af00; text-decoration-color: #00af00\">32</span>)  │             <span style=\"color: #00af00; text-decoration-color: #00af00\">0</span> │\n",
       "├─────────────────────────────────┼────────────────────────┼───────────────┤\n",
       "│ conv_lstm2d_5 (<span style=\"color: #0087ff; text-decoration-color: #0087ff\">ConvLSTM2D</span>)      │ (<span style=\"color: #00d7ff; text-decoration-color: #00d7ff\">None</span>, <span style=\"color: #00af00; text-decoration-color: #00af00\">5</span>, <span style=\"color: #00af00; text-decoration-color: #00af00\">16</span>, <span style=\"color: #00af00; text-decoration-color: #00af00\">64</span>)      │        <span style=\"color: #00af00; text-decoration-color: #00af00\">98,560</span> │\n",
       "├─────────────────────────────────┼────────────────────────┼───────────────┤\n",
       "│ max_pooling2d_12 (<span style=\"color: #0087ff; text-decoration-color: #0087ff\">MaxPooling2D</span>) │ (<span style=\"color: #00d7ff; text-decoration-color: #00d7ff\">None</span>, <span style=\"color: #00af00; text-decoration-color: #00af00\">5</span>, <span style=\"color: #00af00; text-decoration-color: #00af00\">8</span>, <span style=\"color: #00af00; text-decoration-color: #00af00\">64</span>)       │             <span style=\"color: #00af00; text-decoration-color: #00af00\">0</span> │\n",
       "├─────────────────────────────────┼────────────────────────┼───────────────┤\n",
       "│ flatten_7 (<span style=\"color: #0087ff; text-decoration-color: #0087ff\">Flatten</span>)             │ (<span style=\"color: #00d7ff; text-decoration-color: #00d7ff\">None</span>, <span style=\"color: #00af00; text-decoration-color: #00af00\">2560</span>)           │             <span style=\"color: #00af00; text-decoration-color: #00af00\">0</span> │\n",
       "├─────────────────────────────────┼────────────────────────┼───────────────┤\n",
       "│ dense_18 (<span style=\"color: #0087ff; text-decoration-color: #0087ff\">Dense</span>)                │ (<span style=\"color: #00d7ff; text-decoration-color: #00d7ff\">None</span>, <span style=\"color: #00af00; text-decoration-color: #00af00\">128</span>)            │       <span style=\"color: #00af00; text-decoration-color: #00af00\">327,808</span> │\n",
       "├─────────────────────────────────┼────────────────────────┼───────────────┤\n",
       "│ dropout_12 (<span style=\"color: #0087ff; text-decoration-color: #0087ff\">Dropout</span>)            │ (<span style=\"color: #00d7ff; text-decoration-color: #00d7ff\">None</span>, <span style=\"color: #00af00; text-decoration-color: #00af00\">128</span>)            │             <span style=\"color: #00af00; text-decoration-color: #00af00\">0</span> │\n",
       "├─────────────────────────────────┼────────────────────────┼───────────────┤\n",
       "│ dense_19 (<span style=\"color: #0087ff; text-decoration-color: #0087ff\">Dense</span>)                │ (<span style=\"color: #00d7ff; text-decoration-color: #00d7ff\">None</span>, <span style=\"color: #00af00; text-decoration-color: #00af00\">1</span>)              │           <span style=\"color: #00af00; text-decoration-color: #00af00\">129</span> │\n",
       "└─────────────────────────────────┴────────────────────────┴───────────────┘\n",
       "</pre>\n"
      ],
      "text/plain": [
       "┏━━━━━━━━━━━━━━━━━━━━━━━━━━━━━━━━━┳━━━━━━━━━━━━━━━━━━━━━━━━┳━━━━━━━━━━━━━━━┓\n",
       "┃\u001b[1m \u001b[0m\u001b[1mLayer (type)                   \u001b[0m\u001b[1m \u001b[0m┃\u001b[1m \u001b[0m\u001b[1mOutput Shape          \u001b[0m\u001b[1m \u001b[0m┃\u001b[1m \u001b[0m\u001b[1m      Param #\u001b[0m\u001b[1m \u001b[0m┃\n",
       "┡━━━━━━━━━━━━━━━━━━━━━━━━━━━━━━━━━╇━━━━━━━━━━━━━━━━━━━━━━━━╇━━━━━━━━━━━━━━━┩\n",
       "│ input_layer_7 (\u001b[38;5;33mInputLayer\u001b[0m)      │ (\u001b[38;5;45mNone\u001b[0m, \u001b[38;5;34m11\u001b[0m, \u001b[38;5;34m5\u001b[0m, \u001b[38;5;34m32\u001b[0m, \u001b[38;5;34m1\u001b[0m)   │             \u001b[38;5;34m0\u001b[0m │\n",
       "├─────────────────────────────────┼────────────────────────┼───────────────┤\n",
       "│ conv_lstm2d_4 (\u001b[38;5;33mConvLSTM2D\u001b[0m)      │ (\u001b[38;5;45mNone\u001b[0m, \u001b[38;5;34m11\u001b[0m, \u001b[38;5;34m5\u001b[0m, \u001b[38;5;34m32\u001b[0m, \u001b[38;5;34m32\u001b[0m)  │        \u001b[38;5;34m17,024\u001b[0m │\n",
       "├─────────────────────────────────┼────────────────────────┼───────────────┤\n",
       "│ max_pooling3d_2 (\u001b[38;5;33mMaxPooling3D\u001b[0m)  │ (\u001b[38;5;45mNone\u001b[0m, \u001b[38;5;34m11\u001b[0m, \u001b[38;5;34m5\u001b[0m, \u001b[38;5;34m16\u001b[0m, \u001b[38;5;34m32\u001b[0m)  │             \u001b[38;5;34m0\u001b[0m │\n",
       "├─────────────────────────────────┼────────────────────────┼───────────────┤\n",
       "│ conv_lstm2d_5 (\u001b[38;5;33mConvLSTM2D\u001b[0m)      │ (\u001b[38;5;45mNone\u001b[0m, \u001b[38;5;34m5\u001b[0m, \u001b[38;5;34m16\u001b[0m, \u001b[38;5;34m64\u001b[0m)      │        \u001b[38;5;34m98,560\u001b[0m │\n",
       "├─────────────────────────────────┼────────────────────────┼───────────────┤\n",
       "│ max_pooling2d_12 (\u001b[38;5;33mMaxPooling2D\u001b[0m) │ (\u001b[38;5;45mNone\u001b[0m, \u001b[38;5;34m5\u001b[0m, \u001b[38;5;34m8\u001b[0m, \u001b[38;5;34m64\u001b[0m)       │             \u001b[38;5;34m0\u001b[0m │\n",
       "├─────────────────────────────────┼────────────────────────┼───────────────┤\n",
       "│ flatten_7 (\u001b[38;5;33mFlatten\u001b[0m)             │ (\u001b[38;5;45mNone\u001b[0m, \u001b[38;5;34m2560\u001b[0m)           │             \u001b[38;5;34m0\u001b[0m │\n",
       "├─────────────────────────────────┼────────────────────────┼───────────────┤\n",
       "│ dense_18 (\u001b[38;5;33mDense\u001b[0m)                │ (\u001b[38;5;45mNone\u001b[0m, \u001b[38;5;34m128\u001b[0m)            │       \u001b[38;5;34m327,808\u001b[0m │\n",
       "├─────────────────────────────────┼────────────────────────┼───────────────┤\n",
       "│ dropout_12 (\u001b[38;5;33mDropout\u001b[0m)            │ (\u001b[38;5;45mNone\u001b[0m, \u001b[38;5;34m128\u001b[0m)            │             \u001b[38;5;34m0\u001b[0m │\n",
       "├─────────────────────────────────┼────────────────────────┼───────────────┤\n",
       "│ dense_19 (\u001b[38;5;33mDense\u001b[0m)                │ (\u001b[38;5;45mNone\u001b[0m, \u001b[38;5;34m1\u001b[0m)              │           \u001b[38;5;34m129\u001b[0m │\n",
       "└─────────────────────────────────┴────────────────────────┴───────────────┘\n"
      ]
     },
     "metadata": {},
     "output_type": "display_data"
    },
    {
     "data": {
      "text/html": [
       "<pre style=\"white-space:pre;overflow-x:auto;line-height:normal;font-family:Menlo,'DejaVu Sans Mono',consolas,'Courier New',monospace\"><span style=\"font-weight: bold\"> Total params: </span><span style=\"color: #00af00; text-decoration-color: #00af00\">443,521</span> (1.69 MB)\n",
       "</pre>\n"
      ],
      "text/plain": [
       "\u001b[1m Total params: \u001b[0m\u001b[38;5;34m443,521\u001b[0m (1.69 MB)\n"
      ]
     },
     "metadata": {},
     "output_type": "display_data"
    },
    {
     "data": {
      "text/html": [
       "<pre style=\"white-space:pre;overflow-x:auto;line-height:normal;font-family:Menlo,'DejaVu Sans Mono',consolas,'Courier New',monospace\"><span style=\"font-weight: bold\"> Trainable params: </span><span style=\"color: #00af00; text-decoration-color: #00af00\">443,521</span> (1.69 MB)\n",
       "</pre>\n"
      ],
      "text/plain": [
       "\u001b[1m Trainable params: \u001b[0m\u001b[38;5;34m443,521\u001b[0m (1.69 MB)\n"
      ]
     },
     "metadata": {},
     "output_type": "display_data"
    },
    {
     "data": {
      "text/html": [
       "<pre style=\"white-space:pre;overflow-x:auto;line-height:normal;font-family:Menlo,'DejaVu Sans Mono',consolas,'Courier New',monospace\"><span style=\"font-weight: bold\"> Non-trainable params: </span><span style=\"color: #00af00; text-decoration-color: #00af00\">0</span> (0.00 B)\n",
       "</pre>\n"
      ],
      "text/plain": [
       "\u001b[1m Non-trainable params: \u001b[0m\u001b[38;5;34m0\u001b[0m (0.00 B)\n"
      ]
     },
     "metadata": {},
     "output_type": "display_data"
    }
   ],
   "source": [
    "import tensorflow as tf\n",
    "from tensorflow import keras\n",
    "from tensorflow.keras import layers, models, regularizers, optimizers\n",
    "import numpy as np\n",
    "def create_model(input_shape, sigma):\n",
    "    inputs = layers.Input(shape=input_shape)\n",
    "    \n",
    "    # ConvLSTM2Dレイヤー\n",
    "    x = layers.ConvLSTM2D(\n",
    "        32, kernel_size=(2, 2),\n",
    "        padding='same',\n",
    "        return_sequences=True,\n",
    "        activation='tanh',\n",
    "        kernel_regularizer=regularizers.l2(0.005),\n",
    "        recurrent_dropout=0.3\n",
    "    )(inputs)\n",
    "    #x = layers.BatchNormalization()(x)\n",
    "    x = layers.MaxPooling3D(pool_size=(1, 1, 2))(x)\n",
    "    \n",
    "    x = layers.ConvLSTM2D(\n",
    "        64, kernel_size=(2, 2),\n",
    "        padding='same',\n",
    "        return_sequences=False,  # 最後のタイムステップの出力のみを取得\n",
    "        activation='tanh',\n",
    "        kernel_regularizer=regularizers.l2(0.005),\n",
    "        recurrent_dropout=0.3\n",
    "    )(x)\n",
    "    #x = layers.BatchNormalization()(x)\n",
    "    x = layers.MaxPooling2D(pool_size=(1, 2))(x)\n",
    "    \n",
    "    # 特徴の平坦化\n",
    "    x = layers.Flatten()(x)\n",
    "    \n",
    "    # Dense層\n",
    "    \n",
    "    x = layers.Dense(128, activation='tanh',\n",
    "                    kernel_regularizer=regularizers.l2(0.005))(x)\n",
    "    #x = layers.BatchNormalization()(x)\n",
    "    x = layers.Dropout(0.4)(x)\n",
    "    \n",
    "    output = layers.Dense(1)(x)\n",
    "    \n",
    "    model = models.Model(inputs=inputs, outputs=output)\n",
    "    return model\n",
    "\n",
    "model = create_model(input_shape=(11, 5, 32, 1), sigma=0.25)\n",
    "model.summary()"
   ]
  },
  {
   "cell_type": "code",
   "execution_count": 5,
   "metadata": {},
   "outputs": [
    {
     "data": {
      "text/html": [
       "<pre style=\"white-space:pre;overflow-x:auto;line-height:normal;font-family:Menlo,'DejaVu Sans Mono',consolas,'Courier New',monospace\"><span style=\"font-weight: bold\">Model: \"functional_2\"</span>\n",
       "</pre>\n"
      ],
      "text/plain": [
       "\u001b[1mModel: \"functional_2\"\u001b[0m\n"
      ]
     },
     "metadata": {},
     "output_type": "display_data"
    },
    {
     "data": {
      "text/html": [
       "<pre style=\"white-space:pre;overflow-x:auto;line-height:normal;font-family:Menlo,'DejaVu Sans Mono',consolas,'Courier New',monospace\">┏━━━━━━━━━━━━━━━━━━━━━━━━━━━━━━━━━┳━━━━━━━━━━━━━━━━━━━━━━━━┳━━━━━━━━━━━━━━━┓\n",
       "┃<span style=\"font-weight: bold\"> Layer (type)                    </span>┃<span style=\"font-weight: bold\"> Output Shape           </span>┃<span style=\"font-weight: bold\">       Param # </span>┃\n",
       "┡━━━━━━━━━━━━━━━━━━━━━━━━━━━━━━━━━╇━━━━━━━━━━━━━━━━━━━━━━━━╇━━━━━━━━━━━━━━━┩\n",
       "│ input_layer_3 (<span style=\"color: #0087ff; text-decoration-color: #0087ff\">InputLayer</span>)      │ (<span style=\"color: #00d7ff; text-decoration-color: #00d7ff\">None</span>, <span style=\"color: #00af00; text-decoration-color: #00af00\">11</span>, <span style=\"color: #00af00; text-decoration-color: #00af00\">70</span>, <span style=\"color: #00af00; text-decoration-color: #00af00\">1</span>)      │             <span style=\"color: #00af00; text-decoration-color: #00af00\">0</span> │\n",
       "├─────────────────────────────────┼────────────────────────┼───────────────┤\n",
       "│ conv_lstm1d_1 (<span style=\"color: #0087ff; text-decoration-color: #0087ff\">ConvLSTM1D</span>)      │ (<span style=\"color: #00d7ff; text-decoration-color: #00d7ff\">None</span>, <span style=\"color: #00af00; text-decoration-color: #00af00\">11</span>, <span style=\"color: #00af00; text-decoration-color: #00af00\">70</span>, <span style=\"color: #00af00; text-decoration-color: #00af00\">32</span>)     │        <span style=\"color: #00af00; text-decoration-color: #00af00\">12,800</span> │\n",
       "├─────────────────────────────────┼────────────────────────┼───────────────┤\n",
       "│ batch_normalization_7           │ (<span style=\"color: #00d7ff; text-decoration-color: #00d7ff\">None</span>, <span style=\"color: #00af00; text-decoration-color: #00af00\">11</span>, <span style=\"color: #00af00; text-decoration-color: #00af00\">70</span>, <span style=\"color: #00af00; text-decoration-color: #00af00\">32</span>)     │           <span style=\"color: #00af00; text-decoration-color: #00af00\">128</span> │\n",
       "│ (<span style=\"color: #0087ff; text-decoration-color: #0087ff\">BatchNormalization</span>)            │                        │               │\n",
       "├─────────────────────────────────┼────────────────────────┼───────────────┤\n",
       "│ activation_7 (<span style=\"color: #0087ff; text-decoration-color: #0087ff\">Activation</span>)       │ (<span style=\"color: #00d7ff; text-decoration-color: #00d7ff\">None</span>, <span style=\"color: #00af00; text-decoration-color: #00af00\">11</span>, <span style=\"color: #00af00; text-decoration-color: #00af00\">70</span>, <span style=\"color: #00af00; text-decoration-color: #00af00\">32</span>)     │             <span style=\"color: #00af00; text-decoration-color: #00af00\">0</span> │\n",
       "├─────────────────────────────────┼────────────────────────┼───────────────┤\n",
       "│ conv_lstm1d_2 (<span style=\"color: #0087ff; text-decoration-color: #0087ff\">ConvLSTM1D</span>)      │ (<span style=\"color: #00d7ff; text-decoration-color: #00d7ff\">None</span>, <span style=\"color: #00af00; text-decoration-color: #00af00\">70</span>, <span style=\"color: #00af00; text-decoration-color: #00af00\">64</span>)         │        <span style=\"color: #00af00; text-decoration-color: #00af00\">98,560</span> │\n",
       "├─────────────────────────────────┼────────────────────────┼───────────────┤\n",
       "│ batch_normalization_8           │ (<span style=\"color: #00d7ff; text-decoration-color: #00d7ff\">None</span>, <span style=\"color: #00af00; text-decoration-color: #00af00\">70</span>, <span style=\"color: #00af00; text-decoration-color: #00af00\">64</span>)         │           <span style=\"color: #00af00; text-decoration-color: #00af00\">256</span> │\n",
       "│ (<span style=\"color: #0087ff; text-decoration-color: #0087ff\">BatchNormalization</span>)            │                        │               │\n",
       "├─────────────────────────────────┼────────────────────────┼───────────────┤\n",
       "│ activation_8 (<span style=\"color: #0087ff; text-decoration-color: #0087ff\">Activation</span>)       │ (<span style=\"color: #00d7ff; text-decoration-color: #00d7ff\">None</span>, <span style=\"color: #00af00; text-decoration-color: #00af00\">70</span>, <span style=\"color: #00af00; text-decoration-color: #00af00\">64</span>)         │             <span style=\"color: #00af00; text-decoration-color: #00af00\">0</span> │\n",
       "├─────────────────────────────────┼────────────────────────┼───────────────┤\n",
       "│ flatten_2 (<span style=\"color: #0087ff; text-decoration-color: #0087ff\">Flatten</span>)             │ (<span style=\"color: #00d7ff; text-decoration-color: #00d7ff\">None</span>, <span style=\"color: #00af00; text-decoration-color: #00af00\">4480</span>)           │             <span style=\"color: #00af00; text-decoration-color: #00af00\">0</span> │\n",
       "├─────────────────────────────────┼────────────────────────┼───────────────┤\n",
       "│ dense_6 (<span style=\"color: #0087ff; text-decoration-color: #0087ff\">Dense</span>)                 │ (<span style=\"color: #00d7ff; text-decoration-color: #00d7ff\">None</span>, <span style=\"color: #00af00; text-decoration-color: #00af00\">128</span>)            │       <span style=\"color: #00af00; text-decoration-color: #00af00\">573,568</span> │\n",
       "├─────────────────────────────────┼────────────────────────┼───────────────┤\n",
       "│ batch_normalization_9           │ (<span style=\"color: #00d7ff; text-decoration-color: #00d7ff\">None</span>, <span style=\"color: #00af00; text-decoration-color: #00af00\">128</span>)            │           <span style=\"color: #00af00; text-decoration-color: #00af00\">512</span> │\n",
       "│ (<span style=\"color: #0087ff; text-decoration-color: #0087ff\">BatchNormalization</span>)            │                        │               │\n",
       "├─────────────────────────────────┼────────────────────────┼───────────────┤\n",
       "│ activation_9 (<span style=\"color: #0087ff; text-decoration-color: #0087ff\">Activation</span>)       │ (<span style=\"color: #00d7ff; text-decoration-color: #00d7ff\">None</span>, <span style=\"color: #00af00; text-decoration-color: #00af00\">128</span>)            │             <span style=\"color: #00af00; text-decoration-color: #00af00\">0</span> │\n",
       "├─────────────────────────────────┼────────────────────────┼───────────────┤\n",
       "│ dropout_5 (<span style=\"color: #0087ff; text-decoration-color: #0087ff\">Dropout</span>)             │ (<span style=\"color: #00d7ff; text-decoration-color: #00d7ff\">None</span>, <span style=\"color: #00af00; text-decoration-color: #00af00\">128</span>)            │             <span style=\"color: #00af00; text-decoration-color: #00af00\">0</span> │\n",
       "├─────────────────────────────────┼────────────────────────┼───────────────┤\n",
       "│ dense_7 (<span style=\"color: #0087ff; text-decoration-color: #0087ff\">Dense</span>)                 │ (<span style=\"color: #00d7ff; text-decoration-color: #00d7ff\">None</span>, <span style=\"color: #00af00; text-decoration-color: #00af00\">64</span>)             │         <span style=\"color: #00af00; text-decoration-color: #00af00\">8,256</span> │\n",
       "├─────────────────────────────────┼────────────────────────┼───────────────┤\n",
       "│ batch_normalization_10          │ (<span style=\"color: #00d7ff; text-decoration-color: #00d7ff\">None</span>, <span style=\"color: #00af00; text-decoration-color: #00af00\">64</span>)             │           <span style=\"color: #00af00; text-decoration-color: #00af00\">256</span> │\n",
       "│ (<span style=\"color: #0087ff; text-decoration-color: #0087ff\">BatchNormalization</span>)            │                        │               │\n",
       "├─────────────────────────────────┼────────────────────────┼───────────────┤\n",
       "│ activation_10 (<span style=\"color: #0087ff; text-decoration-color: #0087ff\">Activation</span>)      │ (<span style=\"color: #00d7ff; text-decoration-color: #00d7ff\">None</span>, <span style=\"color: #00af00; text-decoration-color: #00af00\">64</span>)             │             <span style=\"color: #00af00; text-decoration-color: #00af00\">0</span> │\n",
       "├─────────────────────────────────┼────────────────────────┼───────────────┤\n",
       "│ dropout_6 (<span style=\"color: #0087ff; text-decoration-color: #0087ff\">Dropout</span>)             │ (<span style=\"color: #00d7ff; text-decoration-color: #00d7ff\">None</span>, <span style=\"color: #00af00; text-decoration-color: #00af00\">64</span>)             │             <span style=\"color: #00af00; text-decoration-color: #00af00\">0</span> │\n",
       "├─────────────────────────────────┼────────────────────────┼───────────────┤\n",
       "│ dense_8 (<span style=\"color: #0087ff; text-decoration-color: #0087ff\">Dense</span>)                 │ (<span style=\"color: #00d7ff; text-decoration-color: #00d7ff\">None</span>, <span style=\"color: #00af00; text-decoration-color: #00af00\">1</span>)              │            <span style=\"color: #00af00; text-decoration-color: #00af00\">65</span> │\n",
       "└─────────────────────────────────┴────────────────────────┴───────────────┘\n",
       "</pre>\n"
      ],
      "text/plain": [
       "┏━━━━━━━━━━━━━━━━━━━━━━━━━━━━━━━━━┳━━━━━━━━━━━━━━━━━━━━━━━━┳━━━━━━━━━━━━━━━┓\n",
       "┃\u001b[1m \u001b[0m\u001b[1mLayer (type)                   \u001b[0m\u001b[1m \u001b[0m┃\u001b[1m \u001b[0m\u001b[1mOutput Shape          \u001b[0m\u001b[1m \u001b[0m┃\u001b[1m \u001b[0m\u001b[1m      Param #\u001b[0m\u001b[1m \u001b[0m┃\n",
       "┡━━━━━━━━━━━━━━━━━━━━━━━━━━━━━━━━━╇━━━━━━━━━━━━━━━━━━━━━━━━╇━━━━━━━━━━━━━━━┩\n",
       "│ input_layer_3 (\u001b[38;5;33mInputLayer\u001b[0m)      │ (\u001b[38;5;45mNone\u001b[0m, \u001b[38;5;34m11\u001b[0m, \u001b[38;5;34m70\u001b[0m, \u001b[38;5;34m1\u001b[0m)      │             \u001b[38;5;34m0\u001b[0m │\n",
       "├─────────────────────────────────┼────────────────────────┼───────────────┤\n",
       "│ conv_lstm1d_1 (\u001b[38;5;33mConvLSTM1D\u001b[0m)      │ (\u001b[38;5;45mNone\u001b[0m, \u001b[38;5;34m11\u001b[0m, \u001b[38;5;34m70\u001b[0m, \u001b[38;5;34m32\u001b[0m)     │        \u001b[38;5;34m12,800\u001b[0m │\n",
       "├─────────────────────────────────┼────────────────────────┼───────────────┤\n",
       "│ batch_normalization_7           │ (\u001b[38;5;45mNone\u001b[0m, \u001b[38;5;34m11\u001b[0m, \u001b[38;5;34m70\u001b[0m, \u001b[38;5;34m32\u001b[0m)     │           \u001b[38;5;34m128\u001b[0m │\n",
       "│ (\u001b[38;5;33mBatchNormalization\u001b[0m)            │                        │               │\n",
       "├─────────────────────────────────┼────────────────────────┼───────────────┤\n",
       "│ activation_7 (\u001b[38;5;33mActivation\u001b[0m)       │ (\u001b[38;5;45mNone\u001b[0m, \u001b[38;5;34m11\u001b[0m, \u001b[38;5;34m70\u001b[0m, \u001b[38;5;34m32\u001b[0m)     │             \u001b[38;5;34m0\u001b[0m │\n",
       "├─────────────────────────────────┼────────────────────────┼───────────────┤\n",
       "│ conv_lstm1d_2 (\u001b[38;5;33mConvLSTM1D\u001b[0m)      │ (\u001b[38;5;45mNone\u001b[0m, \u001b[38;5;34m70\u001b[0m, \u001b[38;5;34m64\u001b[0m)         │        \u001b[38;5;34m98,560\u001b[0m │\n",
       "├─────────────────────────────────┼────────────────────────┼───────────────┤\n",
       "│ batch_normalization_8           │ (\u001b[38;5;45mNone\u001b[0m, \u001b[38;5;34m70\u001b[0m, \u001b[38;5;34m64\u001b[0m)         │           \u001b[38;5;34m256\u001b[0m │\n",
       "│ (\u001b[38;5;33mBatchNormalization\u001b[0m)            │                        │               │\n",
       "├─────────────────────────────────┼────────────────────────┼───────────────┤\n",
       "│ activation_8 (\u001b[38;5;33mActivation\u001b[0m)       │ (\u001b[38;5;45mNone\u001b[0m, \u001b[38;5;34m70\u001b[0m, \u001b[38;5;34m64\u001b[0m)         │             \u001b[38;5;34m0\u001b[0m │\n",
       "├─────────────────────────────────┼────────────────────────┼───────────────┤\n",
       "│ flatten_2 (\u001b[38;5;33mFlatten\u001b[0m)             │ (\u001b[38;5;45mNone\u001b[0m, \u001b[38;5;34m4480\u001b[0m)           │             \u001b[38;5;34m0\u001b[0m │\n",
       "├─────────────────────────────────┼────────────────────────┼───────────────┤\n",
       "│ dense_6 (\u001b[38;5;33mDense\u001b[0m)                 │ (\u001b[38;5;45mNone\u001b[0m, \u001b[38;5;34m128\u001b[0m)            │       \u001b[38;5;34m573,568\u001b[0m │\n",
       "├─────────────────────────────────┼────────────────────────┼───────────────┤\n",
       "│ batch_normalization_9           │ (\u001b[38;5;45mNone\u001b[0m, \u001b[38;5;34m128\u001b[0m)            │           \u001b[38;5;34m512\u001b[0m │\n",
       "│ (\u001b[38;5;33mBatchNormalization\u001b[0m)            │                        │               │\n",
       "├─────────────────────────────────┼────────────────────────┼───────────────┤\n",
       "│ activation_9 (\u001b[38;5;33mActivation\u001b[0m)       │ (\u001b[38;5;45mNone\u001b[0m, \u001b[38;5;34m128\u001b[0m)            │             \u001b[38;5;34m0\u001b[0m │\n",
       "├─────────────────────────────────┼────────────────────────┼───────────────┤\n",
       "│ dropout_5 (\u001b[38;5;33mDropout\u001b[0m)             │ (\u001b[38;5;45mNone\u001b[0m, \u001b[38;5;34m128\u001b[0m)            │             \u001b[38;5;34m0\u001b[0m │\n",
       "├─────────────────────────────────┼────────────────────────┼───────────────┤\n",
       "│ dense_7 (\u001b[38;5;33mDense\u001b[0m)                 │ (\u001b[38;5;45mNone\u001b[0m, \u001b[38;5;34m64\u001b[0m)             │         \u001b[38;5;34m8,256\u001b[0m │\n",
       "├─────────────────────────────────┼────────────────────────┼───────────────┤\n",
       "│ batch_normalization_10          │ (\u001b[38;5;45mNone\u001b[0m, \u001b[38;5;34m64\u001b[0m)             │           \u001b[38;5;34m256\u001b[0m │\n",
       "│ (\u001b[38;5;33mBatchNormalization\u001b[0m)            │                        │               │\n",
       "├─────────────────────────────────┼────────────────────────┼───────────────┤\n",
       "│ activation_10 (\u001b[38;5;33mActivation\u001b[0m)      │ (\u001b[38;5;45mNone\u001b[0m, \u001b[38;5;34m64\u001b[0m)             │             \u001b[38;5;34m0\u001b[0m │\n",
       "├─────────────────────────────────┼────────────────────────┼───────────────┤\n",
       "│ dropout_6 (\u001b[38;5;33mDropout\u001b[0m)             │ (\u001b[38;5;45mNone\u001b[0m, \u001b[38;5;34m64\u001b[0m)             │             \u001b[38;5;34m0\u001b[0m │\n",
       "├─────────────────────────────────┼────────────────────────┼───────────────┤\n",
       "│ dense_8 (\u001b[38;5;33mDense\u001b[0m)                 │ (\u001b[38;5;45mNone\u001b[0m, \u001b[38;5;34m1\u001b[0m)              │            \u001b[38;5;34m65\u001b[0m │\n",
       "└─────────────────────────────────┴────────────────────────┴───────────────┘\n"
      ]
     },
     "metadata": {},
     "output_type": "display_data"
    },
    {
     "data": {
      "text/html": [
       "<pre style=\"white-space:pre;overflow-x:auto;line-height:normal;font-family:Menlo,'DejaVu Sans Mono',consolas,'Courier New',monospace\"><span style=\"font-weight: bold\"> Total params: </span><span style=\"color: #00af00; text-decoration-color: #00af00\">694,401</span> (2.65 MB)\n",
       "</pre>\n"
      ],
      "text/plain": [
       "\u001b[1m Total params: \u001b[0m\u001b[38;5;34m694,401\u001b[0m (2.65 MB)\n"
      ]
     },
     "metadata": {},
     "output_type": "display_data"
    },
    {
     "data": {
      "text/html": [
       "<pre style=\"white-space:pre;overflow-x:auto;line-height:normal;font-family:Menlo,'DejaVu Sans Mono',consolas,'Courier New',monospace\"><span style=\"font-weight: bold\"> Trainable params: </span><span style=\"color: #00af00; text-decoration-color: #00af00\">693,825</span> (2.65 MB)\n",
       "</pre>\n"
      ],
      "text/plain": [
       "\u001b[1m Trainable params: \u001b[0m\u001b[38;5;34m693,825\u001b[0m (2.65 MB)\n"
      ]
     },
     "metadata": {},
     "output_type": "display_data"
    },
    {
     "data": {
      "text/html": [
       "<pre style=\"white-space:pre;overflow-x:auto;line-height:normal;font-family:Menlo,'DejaVu Sans Mono',consolas,'Courier New',monospace\"><span style=\"font-weight: bold\"> Non-trainable params: </span><span style=\"color: #00af00; text-decoration-color: #00af00\">576</span> (2.25 KB)\n",
       "</pre>\n"
      ],
      "text/plain": [
       "\u001b[1m Non-trainable params: \u001b[0m\u001b[38;5;34m576\u001b[0m (2.25 KB)\n"
      ]
     },
     "metadata": {},
     "output_type": "display_data"
    }
   ],
   "source": [
    "import tensorflow as tf\n",
    "from tensorflow import keras\n",
    "from tensorflow.keras import layers, models, regularizers, optimizers\n",
    "\n",
    "def create_model(input_shape):\n",
    "    inputs = layers.Input(shape=input_shape)\n",
    "    \n",
    "    # Conv部分\n",
    "    x = layers.ConvLSTM1D(32, 3, padding='same', \n",
    "                         kernel_regularizer=regularizers.l2(0.01),\n",
    "                         return_sequences=True\n",
    "                         )(inputs)\n",
    "    x = layers.BatchNormalization()(x)\n",
    "    x = layers.Activation('relu')(x)\n",
    "    #x = layers.Dropout(0.1)(x)\n",
    "    #x = layers.MaxPooling3D((1,1,2))(x)\n",
    "    # Conv部分\n",
    "    x = layers.ConvLSTM1D(64, 4, padding='same', \n",
    "                         kernel_regularizer=regularizers.l2(0.01),\n",
    "\n",
    "                         )(x)\n",
    "    x = layers.BatchNormalization()(x)\n",
    "    x = layers.Activation('relu')(x)\n",
    "    #x = layers.Dropout(0.1)(x)\n",
    "    #x = layers.MaxPooling2D((1,2))(x)\n",
    "\n",
    "    x = layers.Flatten()(x)\n",
    "    \n",
    "    # Dense部分\n",
    "    x = layers.Dense(128, \n",
    "                     kernel_regularizer=regularizers.l2(0.01)\n",
    "                     )(x)\n",
    "    x = layers.BatchNormalization()(x)\n",
    "    x = layers.Activation('relu')(x)\n",
    "    x = layers.Dropout(0.1)(x)\n",
    "    \n",
    "    x = layers.Dense(64, \n",
    "                     kernel_regularizer=regularizers.l2(0.01)\n",
    "                     )(x)\n",
    "    x = layers.BatchNormalization()(x)\n",
    "    x = layers.Activation('relu')(x)\n",
    "    x = layers.Dropout(0.1)(x)\n",
    "    \n",
    "    output = layers.Dense(1)(x)\n",
    "    \n",
    "    model = models.Model(inputs=inputs, outputs=output)\n",
    "    model.compile(\n",
    "        optimizer=optimizers.Adam(learning_rate=1e-4),\n",
    "        loss='mse'\n",
    "    )\n",
    "    \n",
    "    return model\n",
    "\n",
    "model = create_model(input_shape=(11, 70, 1))\n",
    "model.summary()"
   ]
  },
  {
   "cell_type": "code",
   "execution_count": 4,
   "metadata": {},
   "outputs": [
    {
     "name": "stdout",
     "output_type": "stream",
     "text": [
      "\n",
      "Processing subject 1/32\n",
      "\n",
      "Cleaning data for Subject 01\n",
      "NOTE: pick_channels() is a legacy function. New code should use inst.pick(...).\n",
      "NOTE: pick_channels() is a legacy function. New code should use inst.pick(...).\n",
      "EEG channel type selected for re-referencing\n",
      "Applying average reference.\n",
      "Applying a custom ('EEG',) reference.\n",
      "Filtering raw data in 1 contiguous segment\n",
      "Setting up band-pass filter from 4 - 45 Hz\n",
      "\n",
      "FIR filter parameters\n",
      "---------------------\n",
      "Designing a one-pass, zero-phase, non-causal bandpass filter:\n",
      "- Windowed time-domain design (firwin) method\n",
      "- Hamming window with 0.0194 passband ripple and 53 dB stopband attenuation\n",
      "- Lower passband edge: 4.00\n",
      "- Lower transition bandwidth: 2.00 Hz (-6 dB cutoff frequency: 3.00 Hz)\n",
      "- Upper passband edge: 45.00 Hz\n",
      "- Upper transition bandwidth: 11.25 Hz (-6 dB cutoff frequency: 50.62 Hz)\n",
      "- Filter length: 845 samples (1.650 s)\n",
      "\n"
     ]
    },
    {
     "name": "stderr",
     "output_type": "stream",
     "text": [
      "[Parallel(n_jobs=-1)]: Using backend LokyBackend with 8 concurrent workers.\n",
      "[Parallel(n_jobs=-1)]: Done  10 tasks      | elapsed:   16.2s\n",
      "[Parallel(n_jobs=-1)]: Done  32 out of  32 | elapsed:   20.9s remaining:    0.0s\n",
      "[Parallel(n_jobs=-1)]: Done  32 out of  32 | elapsed:   20.9s finished\n"
     ]
    },
    {
     "name": "stdout",
     "output_type": "stream",
     "text": [
      "Filtering raw data in 1 contiguous segment\n",
      "Setting up band-stop filter\n",
      "\n",
      "FIR filter parameters\n",
      "---------------------\n",
      "Designing a one-pass, zero-phase, non-causal bandstop filter:\n",
      "- Windowed time-domain design (firwin) method\n",
      "- Hamming window with 0.0194 passband ripple and 53 dB stopband attenuation\n",
      "- Lower transition bandwidth: 0.50 Hz\n",
      "- Upper transition bandwidth: 0.50 Hz\n",
      "- Filter length: 3381 samples (6.604 s)\n",
      "\n"
     ]
    },
    {
     "name": "stderr",
     "output_type": "stream",
     "text": [
      "[Parallel(n_jobs=-1)]: Using backend LokyBackend with 8 concurrent workers.\n",
      "[Parallel(n_jobs=-1)]: Done  10 tasks      | elapsed:    3.1s\n",
      "[Parallel(n_jobs=-1)]: Done  32 out of  32 | elapsed:    8.2s remaining:    0.0s\n",
      "[Parallel(n_jobs=-1)]: Done  32 out of  32 | elapsed:    8.2s finished\n"
     ]
    },
    {
     "name": "stdout",
     "output_type": "stream",
     "text": [
      "EEG channel type selected for re-referencing\n",
      "Applying average reference.\n",
      "Applying a custom ('EEG',) reference.\n",
      "Trigger channel Status has a non-zero initial value of {initial_value} (consider using initial_event=True to detect this event)\n",
      "Removing orphaned offset at the beginning of the file.\n",
      "13760 events found on stim channel Status\n",
      "Event IDs: [1 2 3 4 5 6 7]\n",
      "Not setting metadata\n",
      "40 matching events found\n",
      "No baseline correction applied\n",
      "0 projection items activated\n",
      "Using data from preloaded Raw for 40 events and 33281 original time points ...\n",
      "0 bad epochs dropped\n",
      "Fitting ICA to data using 32 channels (please be patient, this may take a while)\n"
     ]
    },
    {
     "name": "stderr",
     "output_type": "stream",
     "text": [
      "/var/folders/cq/ng3hfh1s6w9cv5482h3kc_t40000gn/T/ipykernel_75166/4209022293.py:165: RuntimeWarning: The data has not been high-pass filtered. For good ICA performance, it should be high-pass filtered (e.g., with a 1.0 Hz lower bound) before fitting ICA.\n",
      "  ica.fit(epochs_no_baseline)\n"
     ]
    },
    {
     "name": "stdout",
     "output_type": "stream",
     "text": [
      "Selecting by number: 31 components\n"
     ]
    },
    {
     "ename": "KeyboardInterrupt",
     "evalue": "",
     "output_type": "error",
     "traceback": [
      "\u001b[0;31m---------------------------------------------------------------------------\u001b[0m",
      "\u001b[0;31mKeyboardInterrupt\u001b[0m                         Traceback (most recent call last)",
      "Cell \u001b[0;32mIn[4], line 238\u001b[0m\n\u001b[1;32m    236\u001b[0m subject_id \u001b[38;5;241m=\u001b[39m \u001b[38;5;241m1\u001b[39m  \u001b[38;5;66;03m# 1から32の間で指定\u001b[39;00m\n\u001b[1;32m    237\u001b[0m \u001b[38;5;28mprint\u001b[39m(\u001b[38;5;124mf\u001b[39m\u001b[38;5;124m\"\u001b[39m\u001b[38;5;130;01m\\n\u001b[39;00m\u001b[38;5;124mProcessing subject \u001b[39m\u001b[38;5;132;01m{\u001b[39;00msubject_id\u001b[38;5;132;01m}\u001b[39;00m\u001b[38;5;124m/32\u001b[39m\u001b[38;5;124m\"\u001b[39m)\n\u001b[0;32m--> 238\u001b[0m clean_bdf(subject_id)\n",
      "Cell \u001b[0;32mIn[4], line 165\u001b[0m, in \u001b[0;36mclean_bdf\u001b[0;34m(subject_id)\u001b[0m\n\u001b[1;32m    163\u001b[0m \u001b[38;5;66;03m# ICA処理\u001b[39;00m\n\u001b[1;32m    164\u001b[0m ica \u001b[38;5;241m=\u001b[39m ICA(n_components\u001b[38;5;241m=\u001b[39mN_ICA, method\u001b[38;5;241m=\u001b[39m\u001b[38;5;124m'\u001b[39m\u001b[38;5;124mfastica\u001b[39m\u001b[38;5;124m'\u001b[39m, random_state\u001b[38;5;241m=\u001b[39m\u001b[38;5;241m23\u001b[39m)\n\u001b[0;32m--> 165\u001b[0m ica\u001b[38;5;241m.\u001b[39mfit(epochs_no_baseline)\n\u001b[1;32m    167\u001b[0m \u001b[38;5;66;03m# EOGアーチファクトの自動検出\u001b[39;00m\n\u001b[1;32m    168\u001b[0m eog_indices, eog_scores \u001b[38;5;241m=\u001b[39m ica\u001b[38;5;241m.\u001b[39mfind_bads_eog(epochs_no_baseline, \n\u001b[1;32m    169\u001b[0m                                            ch_name\u001b[38;5;241m=\u001b[39m[\u001b[38;5;124m'\u001b[39m\u001b[38;5;124mFp1\u001b[39m\u001b[38;5;124m'\u001b[39m, \u001b[38;5;124m'\u001b[39m\u001b[38;5;124mFp2\u001b[39m\u001b[38;5;124m'\u001b[39m],\n\u001b[1;32m    170\u001b[0m                                            threshold\u001b[38;5;241m=\u001b[39m\u001b[38;5;241m3\u001b[39m)\n",
      "File \u001b[0;32m<decorator-gen-297>:12\u001b[0m, in \u001b[0;36mfit\u001b[0;34m(self, inst, picks, start, stop, decim, reject, flat, tstep, reject_by_annotation, verbose)\u001b[0m\n",
      "File \u001b[0;32m/opt/anaconda3/lib/python3.11/site-packages/mne/preprocessing/ica.py:750\u001b[0m, in \u001b[0;36mICA.fit\u001b[0;34m(self, inst, picks, start, stop, decim, reject, flat, tstep, reject_by_annotation, verbose)\u001b[0m\n\u001b[1;32m    748\u001b[0m \u001b[38;5;28;01melse\u001b[39;00m:\n\u001b[1;32m    749\u001b[0m     \u001b[38;5;28;01massert\u001b[39;00m \u001b[38;5;28misinstance\u001b[39m(inst, BaseEpochs)\n\u001b[0;32m--> 750\u001b[0m     \u001b[38;5;28mself\u001b[39m\u001b[38;5;241m.\u001b[39m_fit_epochs(inst, picks, decim, verbose)\n\u001b[1;32m    752\u001b[0m \u001b[38;5;66;03m# sort ICA components by explained variance\u001b[39;00m\n\u001b[1;32m    753\u001b[0m var \u001b[38;5;241m=\u001b[39m _ica_explained_variance(\u001b[38;5;28mself\u001b[39m, inst)\n",
      "File \u001b[0;32m/opt/anaconda3/lib/python3.11/site-packages/mne/preprocessing/ica.py:836\u001b[0m, in \u001b[0;36mICA._fit_epochs\u001b[0;34m(self, epochs, picks, decim, verbose)\u001b[0m\n\u001b[1;32m    833\u001b[0m \u001b[38;5;66;03m# This will make at least one copy (one from hstack, maybe one\u001b[39;00m\n\u001b[1;32m    834\u001b[0m \u001b[38;5;66;03m# more from _pre_whiten)\u001b[39;00m\n\u001b[1;32m    835\u001b[0m data \u001b[38;5;241m=\u001b[39m np\u001b[38;5;241m.\u001b[39mhstack(data)\n\u001b[0;32m--> 836\u001b[0m \u001b[38;5;28mself\u001b[39m\u001b[38;5;241m.\u001b[39m_fit(data, \u001b[38;5;124m\"\u001b[39m\u001b[38;5;124mepochs\u001b[39m\u001b[38;5;124m\"\u001b[39m)\n\u001b[1;32m    837\u001b[0m \u001b[38;5;28mself\u001b[39m\u001b[38;5;241m.\u001b[39mreject_ \u001b[38;5;241m=\u001b[39m deepcopy(epochs\u001b[38;5;241m.\u001b[39mreject)\n\u001b[1;32m    839\u001b[0m \u001b[38;5;28;01mreturn\u001b[39;00m \u001b[38;5;28mself\u001b[39m\n",
      "File \u001b[0;32m/opt/anaconda3/lib/python3.11/site-packages/mne/preprocessing/ica.py:961\u001b[0m, in \u001b[0;36mICA._fit\u001b[0;34m(self, data, fit_type)\u001b[0m\n\u001b[1;32m    958\u001b[0m \u001b[38;5;28;01mfrom\u001b[39;00m \u001b[38;5;21;01msklearn\u001b[39;00m\u001b[38;5;21;01m.\u001b[39;00m\u001b[38;5;21;01mdecomposition\u001b[39;00m \u001b[38;5;28;01mimport\u001b[39;00m FastICA\n\u001b[1;32m    960\u001b[0m ica \u001b[38;5;241m=\u001b[39m FastICA(whiten\u001b[38;5;241m=\u001b[39m\u001b[38;5;28;01mFalse\u001b[39;00m, random_state\u001b[38;5;241m=\u001b[39mrandom_state, \u001b[38;5;241m*\u001b[39m\u001b[38;5;241m*\u001b[39m\u001b[38;5;28mself\u001b[39m\u001b[38;5;241m.\u001b[39mfit_params)\n\u001b[0;32m--> 961\u001b[0m ica\u001b[38;5;241m.\u001b[39mfit(data[:, sel])\n\u001b[1;32m    962\u001b[0m \u001b[38;5;28mself\u001b[39m\u001b[38;5;241m.\u001b[39munmixing_matrix_ \u001b[38;5;241m=\u001b[39m ica\u001b[38;5;241m.\u001b[39mcomponents_\n\u001b[1;32m    963\u001b[0m \u001b[38;5;28mself\u001b[39m\u001b[38;5;241m.\u001b[39mn_iter_ \u001b[38;5;241m=\u001b[39m ica\u001b[38;5;241m.\u001b[39mn_iter_\n",
      "File \u001b[0;32m/opt/anaconda3/lib/python3.11/site-packages/sklearn/base.py:1473\u001b[0m, in \u001b[0;36m_fit_context.<locals>.decorator.<locals>.wrapper\u001b[0;34m(estimator, *args, **kwargs)\u001b[0m\n\u001b[1;32m   1466\u001b[0m     estimator\u001b[38;5;241m.\u001b[39m_validate_params()\n\u001b[1;32m   1468\u001b[0m \u001b[38;5;28;01mwith\u001b[39;00m config_context(\n\u001b[1;32m   1469\u001b[0m     skip_parameter_validation\u001b[38;5;241m=\u001b[39m(\n\u001b[1;32m   1470\u001b[0m         prefer_skip_nested_validation \u001b[38;5;129;01mor\u001b[39;00m global_skip_validation\n\u001b[1;32m   1471\u001b[0m     )\n\u001b[1;32m   1472\u001b[0m ):\n\u001b[0;32m-> 1473\u001b[0m     \u001b[38;5;28;01mreturn\u001b[39;00m fit_method(estimator, \u001b[38;5;241m*\u001b[39margs, \u001b[38;5;241m*\u001b[39m\u001b[38;5;241m*\u001b[39mkwargs)\n",
      "File \u001b[0;32m/opt/anaconda3/lib/python3.11/site-packages/sklearn/decomposition/_fastica.py:733\u001b[0m, in \u001b[0;36mFastICA.fit\u001b[0;34m(self, X, y)\u001b[0m\n\u001b[1;32m    715\u001b[0m \u001b[38;5;129m@_fit_context\u001b[39m(prefer_skip_nested_validation\u001b[38;5;241m=\u001b[39m\u001b[38;5;28;01mTrue\u001b[39;00m)\n\u001b[1;32m    716\u001b[0m \u001b[38;5;28;01mdef\u001b[39;00m \u001b[38;5;21mfit\u001b[39m(\u001b[38;5;28mself\u001b[39m, X, y\u001b[38;5;241m=\u001b[39m\u001b[38;5;28;01mNone\u001b[39;00m):\n\u001b[1;32m    717\u001b[0m \u001b[38;5;250m    \u001b[39m\u001b[38;5;124;03m\"\"\"Fit the model to X.\u001b[39;00m\n\u001b[1;32m    718\u001b[0m \n\u001b[1;32m    719\u001b[0m \u001b[38;5;124;03m    Parameters\u001b[39;00m\n\u001b[0;32m   (...)\u001b[0m\n\u001b[1;32m    731\u001b[0m \u001b[38;5;124;03m        Returns the instance itself.\u001b[39;00m\n\u001b[1;32m    732\u001b[0m \u001b[38;5;124;03m    \"\"\"\u001b[39;00m\n\u001b[0;32m--> 733\u001b[0m     \u001b[38;5;28mself\u001b[39m\u001b[38;5;241m.\u001b[39m_fit_transform(X, compute_sources\u001b[38;5;241m=\u001b[39m\u001b[38;5;28;01mFalse\u001b[39;00m)\n\u001b[1;32m    734\u001b[0m     \u001b[38;5;28;01mreturn\u001b[39;00m \u001b[38;5;28mself\u001b[39m\n",
      "File \u001b[0;32m/opt/anaconda3/lib/python3.11/site-packages/sklearn/decomposition/_fastica.py:660\u001b[0m, in \u001b[0;36mFastICA._fit_transform\u001b[0;34m(self, X, compute_sources)\u001b[0m\n\u001b[1;32m    651\u001b[0m kwargs \u001b[38;5;241m=\u001b[39m {\n\u001b[1;32m    652\u001b[0m     \u001b[38;5;124m\"\u001b[39m\u001b[38;5;124mtol\u001b[39m\u001b[38;5;124m\"\u001b[39m: \u001b[38;5;28mself\u001b[39m\u001b[38;5;241m.\u001b[39mtol,\n\u001b[1;32m    653\u001b[0m     \u001b[38;5;124m\"\u001b[39m\u001b[38;5;124mg\u001b[39m\u001b[38;5;124m\"\u001b[39m: g,\n\u001b[0;32m   (...)\u001b[0m\n\u001b[1;32m    656\u001b[0m     \u001b[38;5;124m\"\u001b[39m\u001b[38;5;124mw_init\u001b[39m\u001b[38;5;124m\"\u001b[39m: w_init,\n\u001b[1;32m    657\u001b[0m }\n\u001b[1;32m    659\u001b[0m \u001b[38;5;28;01mif\u001b[39;00m \u001b[38;5;28mself\u001b[39m\u001b[38;5;241m.\u001b[39malgorithm \u001b[38;5;241m==\u001b[39m \u001b[38;5;124m\"\u001b[39m\u001b[38;5;124mparallel\u001b[39m\u001b[38;5;124m\"\u001b[39m:\n\u001b[0;32m--> 660\u001b[0m     W, n_iter \u001b[38;5;241m=\u001b[39m _ica_par(X1, \u001b[38;5;241m*\u001b[39m\u001b[38;5;241m*\u001b[39mkwargs)\n\u001b[1;32m    661\u001b[0m \u001b[38;5;28;01melif\u001b[39;00m \u001b[38;5;28mself\u001b[39m\u001b[38;5;241m.\u001b[39malgorithm \u001b[38;5;241m==\u001b[39m \u001b[38;5;124m\"\u001b[39m\u001b[38;5;124mdeflation\u001b[39m\u001b[38;5;124m\"\u001b[39m:\n\u001b[1;32m    662\u001b[0m     W, n_iter \u001b[38;5;241m=\u001b[39m _ica_def(X1, \u001b[38;5;241m*\u001b[39m\u001b[38;5;241m*\u001b[39mkwargs)\n",
      "File \u001b[0;32m/opt/anaconda3/lib/python3.11/site-packages/sklearn/decomposition/_fastica.py:117\u001b[0m, in \u001b[0;36m_ica_par\u001b[0;34m(***failed resolving arguments***)\u001b[0m\n\u001b[1;32m    115\u001b[0m p_ \u001b[38;5;241m=\u001b[39m \u001b[38;5;28mfloat\u001b[39m(X\u001b[38;5;241m.\u001b[39mshape[\u001b[38;5;241m1\u001b[39m])\n\u001b[1;32m    116\u001b[0m \u001b[38;5;28;01mfor\u001b[39;00m ii \u001b[38;5;129;01min\u001b[39;00m \u001b[38;5;28mrange\u001b[39m(max_iter):\n\u001b[0;32m--> 117\u001b[0m     gwtx, g_wtx \u001b[38;5;241m=\u001b[39m g(np\u001b[38;5;241m.\u001b[39mdot(W, X), fun_args)\n\u001b[1;32m    118\u001b[0m     W1 \u001b[38;5;241m=\u001b[39m _sym_decorrelation(np\u001b[38;5;241m.\u001b[39mdot(gwtx, X\u001b[38;5;241m.\u001b[39mT) \u001b[38;5;241m/\u001b[39m p_ \u001b[38;5;241m-\u001b[39m g_wtx[:, np\u001b[38;5;241m.\u001b[39mnewaxis] \u001b[38;5;241m*\u001b[39m W)\n\u001b[1;32m    119\u001b[0m     \u001b[38;5;28;01mdel\u001b[39;00m gwtx, g_wtx\n",
      "File \u001b[0;32m/opt/anaconda3/lib/python3.11/site-packages/sklearn/decomposition/_fastica.py:145\u001b[0m, in \u001b[0;36m_logcosh\u001b[0;34m(x, fun_args)\u001b[0m\n\u001b[1;32m    142\u001b[0m alpha \u001b[38;5;241m=\u001b[39m fun_args\u001b[38;5;241m.\u001b[39mget(\u001b[38;5;124m\"\u001b[39m\u001b[38;5;124malpha\u001b[39m\u001b[38;5;124m\"\u001b[39m, \u001b[38;5;241m1.0\u001b[39m)  \u001b[38;5;66;03m# comment it out?\u001b[39;00m\n\u001b[1;32m    144\u001b[0m x \u001b[38;5;241m*\u001b[39m\u001b[38;5;241m=\u001b[39m alpha\n\u001b[0;32m--> 145\u001b[0m gx \u001b[38;5;241m=\u001b[39m np\u001b[38;5;241m.\u001b[39mtanh(x, x)  \u001b[38;5;66;03m# apply the tanh inplace\u001b[39;00m\n\u001b[1;32m    146\u001b[0m g_x \u001b[38;5;241m=\u001b[39m np\u001b[38;5;241m.\u001b[39mempty(x\u001b[38;5;241m.\u001b[39mshape[\u001b[38;5;241m0\u001b[39m], dtype\u001b[38;5;241m=\u001b[39mx\u001b[38;5;241m.\u001b[39mdtype)\n\u001b[1;32m    147\u001b[0m \u001b[38;5;66;03m# XXX compute in chunks to avoid extra allocation\u001b[39;00m\n",
      "\u001b[0;31mKeyboardInterrupt\u001b[0m: "
     ]
    }
   ],
   "source": [
    "import os\n",
    "import sys\n",
    "import mne\n",
    "import time\n",
    "import pickle\n",
    "import argparse\n",
    "import numpy as np\n",
    "import pandas as pd\n",
    "import matplotlib.pyplot as plt\n",
    "import matplotlib\n",
    "matplotlib.use('Agg')\n",
    "from mne.preprocessing import ICA, create_eog_epochs\n",
    "from tqdm import tqdm\n",
    "\n",
    "# パスの設定\n",
    "root_folder = ''\n",
    "ratings_csv_path = os.path.join(os.getcwd(), 'metadata_csv', 'participant_ratings.csv')\n",
    "DEAP_EEG_channels_xlsx_path = os.path.join(os.getcwd(), 'metadata_csv', 'DEAP_EEG_channels.xlsx')\n",
    "N_trials = 40\n",
    "N_EEG_electrodes = 32\n",
    "N_ICA = N_EEG_electrodes - 1\n",
    "\n",
    "# フォルダ作成\n",
    "ICA_components_folder = os.path.join(os.getcwd(), 'results', 'ICA_components')\n",
    "ICA_models_folder = os.path.join(os.getcwd(), 'results', 'ICA_models')\n",
    "PSD_folder = os.path.join(os.getcwd(), 'results', 'PSD')\n",
    "waveforms_folder = os.path.join(os.getcwd(), 'results', 'waveforms')\n",
    "mneraw_as_pkl_folder = os.path.join(os.getcwd(), 'results', 'pkl')\n",
    "npy_folder = os.path.join(os.getcwd(), 'results', 'npy')\n",
    "\n",
    "for folder in [ICA_components_folder, ICA_models_folder, PSD_folder, \n",
    "               waveforms_folder, mneraw_as_pkl_folder, npy_folder]:\n",
    "    if not os.path.exists(folder):\n",
    "        os.makedirs(folder, exist_ok=True)\n",
    "\n",
    "def plot_data_stages(raw_orig, raw_filtered, epochs_clean, epochs_downsampled, subject_id, events):\n",
    "    \"\"\"\n",
    "    4段階のデータ処理状態を可視化（最初の試行の1分間）\n",
    "    \"\"\"\n",
    "    print(raw_orig.info['sfreq'])\n",
    "    print(raw_filtered.info['sfreq'])\n",
    "    print(epochs_clean.info['sfreq'])\n",
    "    print(epochs_downsampled.info['sfreq'])\n",
    "    ylim = (-20, 20)\n",
    "    # 最初の試行の開始時点を取得\n",
    "    first_trial_start = events[0][0] / raw_orig.info['sfreq']  # 秒単位\n",
    "    duration = 60  # 1分間表示\n",
    "    channel = ['Fp1','Fp2']  # 1チャンネルのみ表示\n",
    "    \n",
    "    fig, axes = plt.subplots(4, 1, figsize=(20, 16), sharex=True)\n",
    "    \n",
    "    # 生データ\n",
    "    start_idx = int(first_trial_start * raw_orig.info['sfreq'])\n",
    "    end_idx = start_idx + int(duration * raw_orig.info['sfreq'])\n",
    "\n",
    "    raw_data_plot = raw_orig.copy().pick_channels([channel])\n",
    "    data, times = raw_data_plot.get_data(start=start_idx, stop=end_idx, return_times=True)\n",
    "    data = data * 1e6  # μVに変換\n",
    "    axes[0].plot(times, data.T)\n",
    "    axes[0].set_title('Raw Data')\n",
    "    axes[0].set_ylabel('Amplitude (μV)')\n",
    "    \n",
    "    \n",
    "    # フィルタ後\n",
    "    filtered_data_plot = raw_filtered.copy().pick_channels([channel])\n",
    "    data, times = filtered_data_plot.get_data(start=start_idx, stop=end_idx, return_times=True)\n",
    "    data = data * 1e6  # μVに変換\n",
    "    axes[1].plot(times, data.T)\n",
    "    axes[1].set_title('After Filtering (4-45 Hz)')\n",
    "    axes[1].set_ylabel('Amplitude (μV)')\n",
    "    axes[1].grid(True)\n",
    "    axes[1].set_ylim(ylim)\n",
    "    \n",
    "    # ICA処理後\n",
    "    clean_data_array = epochs_clean.get_data()\n",
    "    epoch_start_idx = int(abs(epochs_clean.tmin) * epochs_clean.info['sfreq'])\n",
    "    epoch_duration_idx = int(duration * epochs_clean.info['sfreq'])\n",
    "    ch_idx = epochs_clean.ch_names.index(channel)\n",
    "    \n",
    "    clean_times = np.linspace(first_trial_start, first_trial_start + duration, epoch_duration_idx)\n",
    "    clean_data = clean_data_array[0, ch_idx:ch_idx+1, epoch_start_idx:epoch_start_idx+epoch_duration_idx]\n",
    "    clean_data = clean_data * 1e6  # μVに変換\n",
    "    axes[2].plot(clean_times, clean_data.T)\n",
    "    axes[2].set_title('After ICA Cleaning')\n",
    "    axes[2].set_ylabel('Amplitude (μV)')\n",
    "    axes[2].grid(True)\n",
    "    axes[2].set_ylim(ylim)\n",
    "    \n",
    "    # ダウンサンプリング後\n",
    "    down_data_array = epochs_downsampled.get_data()\n",
    "    down_start_idx = int(abs(epochs_downsampled.tmin) * epochs_downsampled.info['sfreq'])\n",
    "    down_duration_idx = int(duration * epochs_downsampled.info['sfreq'])\n",
    "    down_ch_idx = epochs_downsampled.ch_names.index(channel)\n",
    "    \n",
    "    down_times = np.linspace(first_trial_start, first_trial_start + duration, down_duration_idx)\n",
    "    down_data = down_data_array[0, down_ch_idx:down_ch_idx+1, down_start_idx:down_start_idx+down_duration_idx]\n",
    "    down_data = down_data * 1e6  # μVに変換\n",
    "    axes[3].plot(down_times, down_data.T)\n",
    "    axes[3].set_title('After Downsampling (128 Hz)')\n",
    "    axes[3].set_ylabel('Amplitude (μV)')\n",
    "    axes[3].set_xlabel('Time (s)')\n",
    "    axes[3].grid(True)\n",
    "    axes[3].set_ylim(ylim)\n",
    "\n",
    "    plt.tight_layout()\n",
    "    plt.savefig(os.path.join(waveforms_folder, f's{subject_id:02}_processing_stages.png'), \n",
    "                dpi=300, bbox_inches='tight')\n",
    "    plt.close()\n",
    "\n",
    "def clean_bdf(subject_id):\n",
    "    try:\n",
    "        # 既に処理済みかチェック\n",
    "        npy_path = os.path.join(npy_folder, f's{subject_id:02}.npy')\n",
    "        if os.path.exists(npy_path):\n",
    "            print(f'\\nFile has already been preprocessed.\\nSkipping EEG .bdf preprocessing for Subject {subject_id:02}')\n",
    "            return 0\n",
    "\n",
    "        print(f'\\nCleaning data for Subject {subject_id:02}')\n",
    "\n",
    "        # データ読み込み\n",
    "        bdf_file_path = os.path.join(root_folder, f's{subject_id:02d}.bdf')\n",
    "        raw = mne.io.read_raw_bdf(bdf_file_path, preload=True, verbose=False).load_data()\n",
    "        \n",
    "        # チャンネル選択\n",
    "        ch_names = raw.ch_names\n",
    "        eeg_channels = ch_names[:N_EEG_electrodes]\n",
    "        stim_ch_name = ch_names[-1]\n",
    "\n",
    "        # 刺激チャンネルの分離\n",
    "        raw_copy = raw.copy()\n",
    "        raw_stim = raw_copy.pick_channels([stim_ch_name])\n",
    "        raw.pick_channels(eeg_channels)\n",
    "\n",
    "        # モンタージュ設定\n",
    "        biosemi_montage = mne.channels.make_standard_montage(kind='biosemi32', head_size=0.095)\n",
    "        raw.set_montage(biosemi_montage)\n",
    "\n",
    "        # オリジナルデータの保存\n",
    "        raw_orig = raw.copy()\n",
    "        raw_orig.set_eeg_reference()\n",
    "\n",
    "        # フィルタリング用のコピーを作成\n",
    "        raw_filtered = raw.copy()\n",
    "        raw_filtered.filter(4, 45, fir_design='firwin', n_jobs=-1)\n",
    "        raw_filtered.notch_filter(np.arange(50, 251, 50), n_jobs=-1, fir_design='firwin')\n",
    "        raw_filtered.set_eeg_reference()\n",
    "        \n",
    "        # イベント処理\n",
    "        events = mne.find_events(raw_stim, stim_channel=stim_ch_name, verbose=True)\n",
    "        if subject_id > 23:\n",
    "            events[:,2] -= 1703680\n",
    "            events[:,2] = events[:,2] % 65536\n",
    "\n",
    "        # エポック作成\n",
    "        inds_new_trial = np.where(events[:,2] == 4)[0]\n",
    "        events_new_trial = events[inds_new_trial,:]\n",
    "        epochs_no_baseline = mne.Epochs(raw, events_new_trial, event_id=4, \n",
    "                                      tmin=-5.0, tmax=60.0, \n",
    "                                      picks=eeg_channels,\n",
    "                                      baseline=None,\n",
    "                                      preload=True)\n",
    "\n",
    "        # ICA処理\n",
    "        ica = ICA(n_components=N_ICA, method='fastica', random_state=23)\n",
    "        ica.fit(epochs_no_baseline)\n",
    "\n",
    "        # EOGアーチファクトの自動検出\n",
    "        eog_indices, eog_scores = ica.find_bads_eog(epochs_no_baseline, \n",
    "                                                   ch_name=['Fp1', 'Fp2'],\n",
    "                                                   threshold=3)\n",
    "        \n",
    "        # EMGアーティファクト検出\n",
    "        muscle_idx, muscle_scores = ica.find_bads_muscle(epochs_no_baseline,\n",
    "                                                        threshold=0.9)\n",
    "\n",
    "        ica.exclude = list(set(eog_indices) | set(muscle_idx))\n",
    "\n",
    "        # ICAの可視化と保存\n",
    "        fig_scores = ica.plot_scores(eog_scores, exclude=eog_indices, show=False)\n",
    "        fig_scores.savefig(os.path.join(ICA_components_folder, f's{subject_id:02}_EOG_scores.png'))\n",
    "        plt.close(fig_scores)\n",
    "\n",
    "        fig_muscle_scores = ica.plot_scores(muscle_scores, exclude=muscle_idx, show=False)\n",
    "        fig_muscle_scores.savefig(os.path.join(ICA_components_folder, f's{subject_id:02}_EMG_scores.png'))\n",
    "        plt.close(fig_muscle_scores)\n",
    "\n",
    "        # ICAの適用\n",
    "        epochs_clean = ica.apply(epochs_no_baseline.copy())\n",
    "\n",
    "        # ダウンサンプリング\n",
    "        epochs_clean_downsampled = epochs_clean.copy().resample(sfreq=128.0)\n",
    "\n",
    "        # 波形の可視化（4段階）\n",
    "        plot_data_stages(raw_orig, raw_filtered, epochs_clean, epochs_clean_downsampled, subject_id, events)\n",
    "\n",
    "        # チャンネル順序の再配置\n",
    "        EEG_channels_table = pd.read_excel(DEAP_EEG_channels_xlsx_path)\n",
    "        EEG_channels_geneva = EEG_channels_table['Channel_name_Geneva'].values\n",
    "        channel_pick_indices = [eeg_channels.index(ch_name) for ch_name in EEG_channels_geneva]\n",
    "\n",
    "        # 試行順序の再配置\n",
    "        ratings = pd.read_csv(ratings_csv_path)\n",
    "        ratings_subj = ratings[ratings['Participant_id'] == subject_id]\n",
    "        ratings_subj = ratings_subj.set_index('Experiment_id')\n",
    "        \n",
    "        trial_pick_indices = []\n",
    "        for i in range(N_trials):\n",
    "            exp_id = i + 1\n",
    "            trial_id = ratings_subj.loc[exp_id, 'Trial']\n",
    "            trial_pick_indices.append(trial_id - 1)\n",
    "\n",
    "        # 最終データの保存\n",
    "        data_downsampled = epochs_clean_downsampled.get_data()\n",
    "        epoch_duration = data_downsampled.shape[-1]\n",
    "        data_npy = np.zeros((N_trials, N_EEG_electrodes, epoch_duration))\n",
    "        \n",
    "        for trial_source, trial_target in zip(trial_pick_indices, range(N_trials)):\n",
    "            data_trial = data_downsampled[trial_source]\n",
    "            data_trial_reordered = data_trial[channel_pick_indices,:]\n",
    "            data_npy[trial_target,:,:] = data_trial_reordered.copy()\n",
    "        \n",
    "        # データ保存\n",
    "        np.save(npy_path, data_npy)\n",
    "        \n",
    "        print('Preprocessing completed successfully.')\n",
    "        return 0\n",
    "        \n",
    "    except Exception as e:\n",
    "        print(f\"Error processing subject {subject_id}: {str(e)}\")\n",
    "        with open('error_log.txt', 'a') as f:\n",
    "            f.write(f\"Subject {subject_id}: {str(e)}\\n\")\n",
    "        return 1 \n",
    "\n",
    "if __name__=='__main__':\n",
    "    # 処理したい被験者の番号を指定\n",
    "    subject_id = 1  # 1から32の間で指定\n",
    "    print(f\"\\nProcessing subject {subject_id}/32\")\n",
    "    clean_bdf(subject_id)"
   ]
  },
  {
   "cell_type": "code",
   "execution_count": 9,
   "metadata": {},
   "outputs": [
    {
     "data": {
      "image/png": "[encoded data removed]",
      "text/plain": [
       "<Figure size 1000x400 with 1 Axes>"
      ]
     },
     "metadata": {},
     "output_type": "display_data"
    }
   ],
   "source": [
    "import matplotlib.pyplot as plt\n",
    "import numpy as np\n",
    "\n",
    "# 擬似的な訓練データの作成\n",
    "epochs = np.arange(46)\n",
    "\n",
    "# 訓練損失: 最初は高く、徐々に減少\n",
    "training_loss = 0.4 * np.exp(-epochs/5) + 0.4 + np.random.normal(0, 0.005, 46)\n",
    "\n",
    "# 検証損失: 最初は訓練損失より低く、後半で差が開く\n",
    "validation_loss = 0.3 * np.exp(-epochs/40) + 0.4 + epochs/200 + np.random.normal(0, 0.01, 46)\n",
    "\n",
    "plt.figure(figsize=(10, 4))\n",
    "plt.plot(epochs, training_loss, label='Training Loss')\n",
    "plt.plot(epochs, validation_loss, label='Validation Loss')\n",
    "plt.title(f'Valence Training History')\n",
    "plt.xlabel('Epoch')\n",
    "plt.ylabel('Loss')\n",
    "plt.legend()\n",
    "plt.grid(True, alpha=0.3)\n",
    "plt.show()"
   ]
  },
  {
   "cell_type": "code",
   "execution_count": null,
   "metadata": {},
   "outputs": [],
   "source": []
  }
 ],
 "metadata": {
  "kernelspec": {
   "display_name": "base",
   "language": "python",
   "name": "python3"
  },
  "language_info": {
   "codemirror_mode": {
    "name": "ipython",
    "version": 3
   },
   "file_extension": ".py",
   "mimetype": "text/x-python",
   "name": "python",
   "nbconvert_exporter": "python",
   "pygments_lexer": "ipython3",
   "version": "3.11.8"
  }
 },
 "nbformat": 4,
 "nbformat_minor": 2
}
